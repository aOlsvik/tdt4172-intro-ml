{
 "cells": [
  {
   "cell_type": "markdown",
   "metadata": {
    "id": "Bb6euaGTtpwB"
   },
   "source": [
    "# **Project 3 - Reinforcement Learning**\n",
    "\n",
    "\n",
    "\n",
    "\n"
   ]
  },
  {
   "cell_type": "markdown",
   "metadata": {
    "id": "8ECxNoBGPkGr"
   },
   "source": [
    "## 🌞 Mission: Find a secret Location in Trondheim where SkyNets servers are located"
   ]
  },
  {
   "cell_type": "markdown",
   "metadata": {
    "id": "daDMCdxyPkGs"
   },
   "source": [
    "📊 **High-level goal:**\n",
    "\n",
    "Train an agent (the “learner”) to interact with given environment and learn from it, so it can maximize its cumulative rewards over time.\n",
    "\n",
    "\n",
    "\n",
    "\n",
    "*   **Environment:**\n",
    "     *   The environment **is already created** and set up for you with the help of\n",
    "\"gym\" library.\n",
    "     *   The agent is interacting with a simulated environment, which has states, accepts actions, and returns rewards. The environment resets at the beginning of each episode, and the agent takes actions within it, receiving feedback in the form of rewards.\n",
    "*   **Q-table:**\n",
    "     *   This table stores information about the \"quality\" of actions in different states.\n",
    "     *   The goal of the agent is to update the Q-table over time to estimate the value of taking different actions in various states.\n",
    "     *   You will initialize and learn Q-table in this project.\n"
   ]
  },
  {
   "cell_type": "markdown",
   "metadata": {
    "id": "URR74x6gPkGs"
   },
   "source": [
    "## 📮 Imports:"
   ]
  },
  {
   "cell_type": "code",
   "execution_count": 140,
   "metadata": {
    "id": "NtDaL3aL9emb"
   },
   "outputs": [],
   "source": [
    "# import libraries\n",
    "import numpy as np\n",
    "import matplotlib.pyplot as plt\n",
    "import imageio.v3 as iio\n",
    "import random\n",
    "import os\n",
    "\n",
    "# note: make sure to install necessary libraries like imageio, gym etc."
   ]
  },
  {
   "cell_type": "code",
   "execution_count": 141,
   "metadata": {
    "id": "Jq1P8fu_itVF"
   },
   "outputs": [],
   "source": [
    "# import gym stuff\n",
    "import gym\n",
    "from gym import error, spaces, utils\n",
    "from gym.utils import seeding\n",
    "from gym.spaces import Discrete, MultiDiscrete"
   ]
  },
  {
   "cell_type": "markdown",
   "metadata": {
    "id": "4UCkLhnL5hik"
   },
   "source": [
    "### Utility functions are provided for you:\n",
    "\n",
    "\n",
    "*   one_hot_decode\n",
    "*   one_hot_encode\n",
    "*   make_2d\n",
    "*   make_3d\n",
    "*   read_png_file\n",
    "*   is_valid_idx\n",
    "*   flatten_observation\n",
    "*   is_valid_idx\n",
    "*   flatten_observation\n",
    "*   make_2d_observation\n",
    "*   swap_values"
   ]
  },
  {
   "cell_type": "code",
   "execution_count": 142,
   "metadata": {
    "id": "O6bisXF65lHl"
   },
   "outputs": [],
   "source": [
    "def one_hot_decode(label_3D):\n",
    "  \"\"\"\n",
    "  Converts back from one-hot encoded format (label_3D)\n",
    "  to original class labels for each pixel (2D)\n",
    "  \"\"\"\n",
    "  return np.argmax(label_3D, axis=-1)\n",
    "\n",
    "def one_hot_encode(label_2D, label_values):\n",
    "    \"\"\"\n",
    "    Converts a segmentation image label array (label_2D) to one-hot format\n",
    "    by replacing each pixel value with a vector of length num_classes\n",
    "    # Arguments\n",
    "        label_2D: The 2D array segmentation image label\n",
    "        label_values: an RGB array of classes (num_classes, 3)\n",
    "\n",
    "    # Returns\n",
    "        A 3D array with the same width and height as the input,\n",
    "        but with a depth size of num_classes (for each pixel)\n",
    "\n",
    "        Each class gets its own encoding for every pixel in the image.\n",
    "        Encodings are then stacked along new axis which is number of classes\n",
    "    \"\"\"\n",
    "    semantic_map = []\n",
    "    for colour in label_values:\n",
    "        equality = np.equal(label_2D, colour)\n",
    "        class_map = np.all(equality, axis=-1)\n",
    "        semantic_map.append(class_map)\n",
    "    semantic_map = np.stack(semantic_map, axis=-1)\n",
    "\n",
    "    return semantic_map\n",
    "\n",
    "def make_2d(map_3d=None, palette_array=None):\n",
    "    \"\"\"\n",
    "    Converts RGB images to images with number of class as value at [i,j]\n",
    "\n",
    "    map_3d: 3D RGB image (H, W, n_ch = 3)\n",
    "    palette_array: an RGB array of classes (num_classes, 3)\n",
    "\n",
    "    Result: 2D structure where each \"pixel\" in the image\n",
    "    has a class number instead of RGB color\n",
    "    \"\"\"\n",
    "    # here we make 3D representation, 3rd dimension has one-hot encoded classes\n",
    "    replaced_image_onehot = one_hot_encode(\n",
    "        map_3d.astype(np.uint8), palette_array) # size (H, W, num_classes)\n",
    "    # we create 2D representation, where every pixel has the value of its class\n",
    "    return one_hot_decode(replaced_image_onehot) # size (H, W) - 2D\n",
    "\n",
    "def make_3d(map_2d=None, palette_array=None):\n",
    "    \"\"\"\n",
    "    Convert a 2d img to 3d\n",
    "    Convert a 2D image where each pixel represents a class label\n",
    "    into a 3D image where each class label is represented\n",
    "    by its corresponding RGB color from the palette_array.\n",
    "    Creates colorized 3D image from the original 2D class map\n",
    "\n",
    "    map_2d: array of class labels, size (H, W)\n",
    "    palette_array: an RGB array of classes (num_classes, 3)\n",
    "\n",
    "    Result: RGB image (H, W, 3)\n",
    "    \"\"\"\n",
    "    return palette_array[map_2d.astype(np.uint8)]\n",
    "\n",
    "\n",
    "def read_png_file(image_path, printDebug = True):\n",
    "    \"\"\"\n",
    "    read a png file and returns it as a 3D numpy array\n",
    "    \"\"\"\n",
    "    original_image_matrix = iio.imread(image_path)\n",
    "\n",
    "    if original_image_matrix.ndim > 2 and original_image_matrix.shape[-1] > 3:\n",
    "        if printDebug:\n",
    "            print(f'image has more than 3 channels, only first 3 channels are used there are {original_image_matrix.shape} channels')\n",
    "        original_image_matrix = original_image_matrix[:, :, :3]\n",
    "    return original_image_matrix\n",
    "\n",
    "def is_valid_idx(image_2D, selected_idx):\n",
    "    \"\"\"\n",
    "    Checks if a given index is within the valid range of a 2D array\n",
    "\n",
    "    if selected_idx is valid in image_2D\n",
    "    selected_idx = [i,j]\n",
    "    image_2D = [h,w]\n",
    "      \"\"\"\n",
    "    if selected_idx[0] < 0 or selected_idx[1] < 0:\n",
    "        return False\n",
    "    if selected_idx[0] < image_2D.shape[0]:\n",
    "        if selected_idx[1] < image_2D.shape[1]:\n",
    "            return True\n",
    "    return False\n",
    "\n",
    "def flatten_observation(observation_arr):\n",
    "    \"\"\"\n",
    "    Converts/flattens a multi-dimensional array into a 1D array\n",
    "    \"\"\"\n",
    "    return observation_arr.flatten\n",
    "\n",
    "\n",
    "def make_2d_observation(observation_flattened, observation_arr_shape):\n",
    "    \"\"\"\n",
    "    Converts flattened array into shape observation_arr_shape\n",
    "    \"\"\"\n",
    "    return observation_flattened.reshape(observation_arr_shape.shape)\n",
    "\n",
    "def swap_values(arr, value1, value2):\n",
    "    \"\"\"\n",
    "    Swaps occurencies of two specific values (value1 and value2)\n",
    "    within a 2D NumPy array (arr).\n",
    "\n",
    "    arr: A 2D NumPy array where we want to swap the values\n",
    "    value1: the first value that we want to swap with value2\n",
    "    value2: the second value that we want to swap with value1\n",
    "\n",
    "    Returns: 2D array with swapped values\n",
    "    \"\"\"\n",
    "\n",
    "    # Ensure the values are integers\n",
    "    value1, value2 = int(value1), int(value2)\n",
    "\n",
    "    # Step 1: Find the first position of value1 and change it to value2\n",
    "    pos_value1 = np.argwhere(arr == value1) # returns 2D array\n",
    "    if pos_value1.size > 0:\n",
    "        arr[pos_value1[0][0], pos_value1[0][1]] = value2\n",
    "\n",
    "    # Step 2: Get all positions of value2\n",
    "    pos_value2 = np.argwhere(arr == value2) # returns 2D array\n",
    "\n",
    "    # Step 3: Randomly select a position of value2 that is not the original value1's position\n",
    "    if len(pos_value2) > 1:\n",
    "        # filter out the position of former value1 (pos_value1) which now also contains value2\n",
    "        pos_value2 = pos_value2[np.all(pos_value2 != pos_value1[0], axis=1)]\n",
    "        if pos_value2.size > 0:\n",
    "            random_pos_value2 = pos_value2[np.random.choice(len(pos_value2))]\n",
    "            arr[random_pos_value2[0], random_pos_value2[1]] = value1\n",
    "\n",
    "    return arr"
   ]
  },
  {
   "cell_type": "markdown",
   "metadata": {
    "id": "I95zkEvIPkGt"
   },
   "source": [
    "### Environment class with necessary functions - provided for you:\n",
    "\n",
    "\n",
    "*   constructor __init__\n",
    "*   step\n",
    "*   reset\n",
    "*   get_1d_state\n",
    "*   render\n",
    "*   close\n"
   ]
  },
  {
   "cell_type": "code",
   "execution_count": 143,
   "metadata": {
    "id": "s6TWGiuXth-H"
   },
   "outputs": [],
   "source": [
    "class TrondheimEnv(gym.Env):\n",
    "    metadata = {'render.modes': ['human']}\n",
    "\n",
    "    def __init__(self, conf):\n",
    "        \"\"\"\n",
    "        Every environment should be derived from gym.Env and at least contain\n",
    "        variables observation_space and action_space specifying the type of possible\n",
    "        observations and actions using spaces.Box or spaces.Discrete.\n",
    "\n",
    "        Example:\n",
    "        >>> EnvTest = TrondheimEnv()\n",
    "        >>> EnvTest.observation_space=spaces.Box(low=-1, high=1, shape=(3,4))\n",
    "        >>> EnvTest.action_space=spaces.Discrete(2)\n",
    "        \"\"\"\n",
    "\n",
    "        self.manual_mode = True  # Flag to control printouts\n",
    "\n",
    "        # action definition:\n",
    "        number_action = 4\n",
    "        self.action_space = Discrete(number_action)\n",
    "\n",
    "        self.env_image_path = conf['env_image_path']\n",
    "        self.number_removable_locations = conf['number_removable_locations']\n",
    "\n",
    "        self.pallete = np.array([[0, 0, 255],    # Blue:0:Water\n",
    "                            [255, 255, 0],  # Yellow:1:Start\n",
    "                            [0, 255, 0],    # Green:2:Land\n",
    "                            [255, 0, 0],    # Red:3:BusLane\n",
    "                            [128, 0, 128],  # Purple:4:BusStop\n",
    "                            [0,   0,   0],  # Black:5:Secret Location\n",
    "                            [128, 128, 0]], # Olive:6:Final Location\n",
    "                           dtype=np.uint8)\n",
    "\n",
    "        self.neighbours = np.array([[-1,0],[0,-1],[1,0],[0,1]]) # up, left, down, right\n",
    "        self.not_allowed_area = [0] # water\n",
    "        self.normal_land_class = 2 # land\n",
    "        self.neutral_area = [self.normal_land_class,3] # land and BusLane\n",
    "        self.start_class = 1 # start\n",
    "        self.busstop_class = 4 # bus stop\n",
    "        self.secret_location_class = 5 # secret location\n",
    "        self.final_location_class = 6 # final location (2)\n",
    "\n",
    "        # does agent die when enter not_allowed_area\n",
    "        self.dead_allowed = conf['dead_allowed']\n",
    "        # does shops closed after the first purchase\n",
    "        self.remove_after_location_found = conf['remove_after_location_found']\n",
    "        # should we start at different place each time\n",
    "        self.start_random = conf['start_random']\n",
    "\n",
    "        # read RGB image into a 3D numpy array\n",
    "        img_3d = read_png_file(self.env_image_path, printDebug = False)\n",
    "\n",
    "        # convert RGB image into 2D semantic class representation\n",
    "        img_2d = make_2d(map_3d=img_3d,\n",
    "                         palette_array=self.pallete)\n",
    "\n",
    "        # the current state of the environment\n",
    "        self.observation = img_2d # initial observation - 2D semantic class\n",
    "        # copy of the environment's initial state before any actions have been taken\n",
    "        self.initial_observation = img_2d.copy()\n",
    "\n",
    "        max_observation_value = np.max(img_2d)\n",
    "        # assert isinstance(max_observation_value, int)\n",
    "        # can be used, not needed for this implementation\n",
    "        # observation space is a gym object (MultiDiscrete), like numpy array. It can be sampled\n",
    "        observation_space = np.full_like(img_2d,\n",
    "                                         fill_value=max_observation_value)\n",
    "        self.observation_space = MultiDiscrete(observation_space)\n",
    "\n",
    "        # rewards\n",
    "        self.reward = 0\n",
    "\n",
    "        # done\n",
    "        self.done = False\n",
    "\n",
    "        # terminated\n",
    "        self.terminated = False\n",
    "\n",
    "\n",
    "\n",
    "\n",
    "    def step(self, action):\n",
    "        \"\"\"\n",
    "        This method is the primary interface between environment and agent.\n",
    "\n",
    "        Parameters:\n",
    "            action: int\n",
    "                    the index of the respective action (if action space is discrete)\n",
    "\n",
    "        Returns:\n",
    "            output: (array, float, bool, info)\n",
    "                    information provided by the environment about its current state:\n",
    "                    (observation, reward, done)\n",
    "\n",
    "                    self.observation: The updated state of the environment (2D)\n",
    "                    reward: Reward agent received for the action in this step (Int)\n",
    "                    terminated: indicate if the episode has ended (Bool)\n",
    "                    info: Additional information (not used currently)\n",
    "\n",
    "        \"\"\"\n",
    "        obs = self.observation # 2D array of semantic class image representation\n",
    "        terminated = False\n",
    "        truncated = False\n",
    "        info = None\n",
    "\n",
    "        # just start and see where it goes\n",
    "        start_idx = np.argwhere(obs == self.start_class)[0]\n",
    "        # action is: 0:up, 1:left, 2:down, 3:right\n",
    "        next_idx = start_idx + self.neighbours[action]\n",
    "        reward = self.reward\n",
    "        if self.manual_mode:\n",
    "          print('Next step towards: ')\n",
    "\n",
    "        if not is_valid_idx(image_2D=obs, selected_idx=next_idx):\n",
    "            next_idx = start_idx\n",
    "            if self.manual_mode:\n",
    "                print('Hey there, you cannot escape outside of the environment')\n",
    "\n",
    "        # now decide what happens next\n",
    "\n",
    "        if obs[tuple(next_idx)] == self.normal_land_class:\n",
    "            if self.manual_mode:\n",
    "                print('Green Land class area')\n",
    "\n",
    "        # check if it is a non allowed area\n",
    "        if obs[tuple(next_idx)] in self.not_allowed_area:\n",
    "            if self.manual_mode:\n",
    "                print('The move is not allowed')\n",
    "            if self.dead_allowed:\n",
    "                # penalize the agent if allowed to die. Terminate\n",
    "                reward = -1000\n",
    "                terminated = True\n",
    "            else:\n",
    "                # if NOT allowed to die, reset the next position to current one - prevent the move\n",
    "                next_idx = start_idx\n",
    "\n",
    "\n",
    "        # if the player is in bus stup\n",
    "        elif obs[tuple(next_idx)] == self.busstop_class:\n",
    "            if self.manual_mode:\n",
    "                print('A bus stop')\n",
    "\n",
    "            # get the bus stop that is not the next step\n",
    "            bus_stop_indices = np.argwhere(obs == self.busstop_class)\n",
    "            # flip the next state to the other side of the stop\n",
    "            if np.array_equal(next_idx, bus_stop_indices[0]):\n",
    "                # teleport the agent from bus stop 0 to bus stop 1\n",
    "                next_idx = bus_stop_indices[1]\n",
    "            else:\n",
    "                # teleport the agent from bus stop 1 to bus stop 0\n",
    "                next_idx = bus_stop_indices[0]\n",
    "\n",
    "        # if it is Secret Location\n",
    "        elif obs[tuple(next_idx)] == self.secret_location_class:\n",
    "            if self.manual_mode:\n",
    "                print('Central Source Secret Location')\n",
    "            reward = 300\n",
    "            # close the shop (remove from the map)\n",
    "            if self.remove_after_location_found:\n",
    "                self.initial_observation[tuple(next_idx)] = self.normal_land_class\n",
    "                self.number_removed_shop += 1\n",
    "                reward = 9000\n",
    "\n",
    "        # and the Final Location\n",
    "        elif obs[tuple(next_idx)] == self.final_location_class:\n",
    "            if self.manual_mode:\n",
    "                print('Final Location - well done!')\n",
    "                print('You have discovered the Final Location of AI center in Trondheim')\n",
    "            reward = 200\n",
    "\n",
    "\n",
    "        # now we need to change the observation space\n",
    "        # i.e. update the environment’s state to reflect the agent's movement\n",
    "\n",
    "        # if agent’s current position was initial start position\n",
    "        if self.initial_observation[tuple(start_idx)] == self.start_class:\n",
    "            # if true, update observation - mark the start position as neutral area\n",
    "            self.observation[tuple(start_idx)] = self.normal_land_class\n",
    "        else:\n",
    "            # if current position not the initial start one\n",
    "            # restores position in self.observation to its original value from self.initial_observation\n",
    "            # re-color the observation as where you were if not start position\n",
    "            self.observation[tuple(start_idx)] = self.initial_observation[tuple(start_idx)]\n",
    "\n",
    "        # sets the new position of the agent as the next start position\n",
    "        self.observation[tuple(next_idx)] = self.start_class\n",
    "\n",
    "        return self.observation, reward, terminated, info\n",
    "\n",
    "\n",
    "    def reset(self):\n",
    "        \"\"\"\n",
    "        This method resets the environment to its initial values.\n",
    "\n",
    "        Returns:\n",
    "            observation:    array\n",
    "                            the initial state of the environment\n",
    "        \"\"\"\n",
    "        self.number_removed_shop = 0\n",
    "\n",
    "        img_3d = read_png_file(self.env_image_path, printDebug = False)\n",
    "        img_2d = make_2d(map_3d=img_3d,\n",
    "                         palette_array=self.pallete)\n",
    "\n",
    "        if self.start_random:\n",
    "          # we need to move the start to another place\n",
    "          img_2d = swap_values(arr=img_2d,\n",
    "                               value1=1,\n",
    "                               value2=2)\n",
    "\n",
    "        self.observation = img_2d\n",
    "        self.initial_observation = img_2d.copy()\n",
    "\n",
    "        max_observation_value = np.max(img_2d)\n",
    "        observation_space = np.full_like(img_2d,\n",
    "                                         fill_value=max_observation_value)\n",
    "        self.observation_space = MultiDiscrete(observation_space)\n",
    "\n",
    "        # rewards\n",
    "        self.reward = 0\n",
    "\n",
    "        # done\n",
    "        self.done = False\n",
    "\n",
    "        # terminated\n",
    "        self.terminated = False\n",
    "\n",
    "        return self.observation\n",
    "\n",
    "\n",
    "    def get_1d_state(self):\n",
    "        \"\"\"\n",
    "        This function returns state as 1d observation\n",
    "        \"\"\"\n",
    "        max_x = self.observation.shape[0]\n",
    "        max_y = self.observation.shape[1]\n",
    "\n",
    "        start_idx = np.argwhere(\n",
    "            self.observation == self.start_class)[0]\n",
    "        state_number = (\n",
    "            start_idx[0] * max_x) + start_idx[1]\n",
    "        state_number = (self.number_removed_shop * max_x * max_y) + state_number\n",
    "        return state_number\n",
    "\n",
    "    def render(self, mode='human', close=False):\n",
    "        \"\"\"\n",
    "        This methods provides the option to render the environment's behavior to a\n",
    "        window which should be readable to the human eye if mode is set to 'human'.\n",
    "        \"\"\"\n",
    "        render_ready_arr = make_3d(map_2d=self.observation,\n",
    "                                   palette_array=self.pallete)\n",
    "        plt.imshow(render_ready_arr)\n",
    "        plt.show()\n",
    "        plt.close()\n",
    "        return render_ready_arr\n",
    "\n",
    "    def close(self):\n",
    "        \"\"\"\n",
    "        This method provides the user with the option to perform necessary\n",
    "        cleanup.\n",
    "        \"\"\"\n",
    "        img_3d = read_png_file(self.env_image_path)\n",
    "        img_2d = make_2d(map_3d=img_3d,\n",
    "                         palette_array=self.pallete)\n",
    "        self.observation = img_2d\n",
    "        self.initial_observation = img_2d.copy()\n"
   ]
  },
  {
   "cell_type": "code",
   "execution_count": 144,
   "metadata": {
    "id": "oYWhRI2VygG9"
   },
   "outputs": [],
   "source": [
    "# let's make sure to create subfolder for our input images, if not already there\n",
    "input_folder = 'input_images'\n",
    "if not os.path.exists(input_folder):\n",
    "    os.makedirs(input_folder)"
   ]
  },
  {
   "cell_type": "markdown",
   "metadata": {
    "id": "LESqxWq8PkGu"
   },
   "source": [
    "# Configuring and loading the environment:"
   ]
  },
  {
   "cell_type": "markdown",
   "metadata": {
    "id": "aPy3pcnbPkGu"
   },
   "source": [
    "## 🔎📉  Let's first visualize our simple toy environment"
   ]
  },
  {
   "cell_type": "code",
   "execution_count": 145,
   "metadata": {
    "colab": {
     "base_uri": "https://localhost:8080/"
    },
    "id": "HEmdFlf2PkGu",
    "outputId": "646b818a-b60e-4699-bc8e-14088fa9fb24"
   },
   "outputs": [
    {
     "name": "stdout",
     "output_type": "stream",
     "text": [
      "Environment successfully created\n"
     ]
    }
   ],
   "source": [
    "# This is how you create a configuration for the environment\n",
    "# Note: make sure that folder input_images is created\n",
    "# Note 2: make sure you copy necessary input images there\n",
    "\n",
    "env_config = {\n",
    "    'env_image_path':'input_images/image_simple_1.png',\n",
    "    'dead_allowed':False,\n",
    "    'remove_after_location_found':False,\n",
    "    'start_random':False,\n",
    "    'number_removable_locations':0,\n",
    "}\n",
    "\n",
    "\n",
    "if not os.path.exists(env_config['env_image_path']):\n",
    "  # make sure you have the folder and the image\n",
    "  print(f\"Error: The image path {env_config['env_image_path']} does not exist.\")\n",
    "else:\n",
    "  # if everything fine, we create the environment\n",
    "  tmp_env = TrondheimEnv(conf=env_config)\n",
    "  print(f\"Environment successfully created\")"
   ]
  },
  {
   "cell_type": "code",
   "execution_count": 146,
   "metadata": {
    "colab": {
     "base_uri": "https://localhost:8080/",
     "height": 466
    },
    "id": "_clXneCvPkGu",
    "outputId": "a3af85a0-8fdb-4cdc-e8b3-dc5851aaf714"
   },
   "outputs": [
    {
     "data": {
      "image/png": "[encoded data removed]",
      "text/plain": [
       "<Figure size 640x480 with 1 Axes>"
      ]
     },
     "metadata": {},
     "output_type": "display_data"
    },
    {
     "data": {
      "text/plain": [
       "array([[[  0, 255,   0],\n",
       "        [  0, 255,   0],\n",
       "        [  0, 255,   0],\n",
       "        [  0, 255,   0],\n",
       "        [  0, 255,   0],\n",
       "        [  0, 255,   0],\n",
       "        [  0, 255,   0],\n",
       "        [  0, 255,   0],\n",
       "        [  0, 255,   0],\n",
       "        [  0, 255,   0],\n",
       "        [  0, 255,   0],\n",
       "        [  0, 255,   0]],\n",
       "\n",
       "       [[  0, 255,   0],\n",
       "        [  0, 255,   0],\n",
       "        [  0, 255,   0],\n",
       "        [  0, 255,   0],\n",
       "        [  0, 255,   0],\n",
       "        [  0, 255,   0],\n",
       "        [  0, 255,   0],\n",
       "        [  0, 255,   0],\n",
       "        [  0, 255,   0],\n",
       "        [  0, 255,   0],\n",
       "        [  0, 255,   0],\n",
       "        [  0, 255,   0]],\n",
       "\n",
       "       [[  0, 255,   0],\n",
       "        [  0, 255,   0],\n",
       "        [  0, 255,   0],\n",
       "        [  0, 255,   0],\n",
       "        [  0, 255,   0],\n",
       "        [  0, 255,   0],\n",
       "        [  0, 255,   0],\n",
       "        [  0, 255,   0],\n",
       "        [  0, 255,   0],\n",
       "        [  0, 255,   0],\n",
       "        [  0, 255,   0],\n",
       "        [  0, 255,   0]],\n",
       "\n",
       "       [[  0, 255,   0],\n",
       "        [  0, 255,   0],\n",
       "        [  0, 255,   0],\n",
       "        [  0, 255,   0],\n",
       "        [  0, 255,   0],\n",
       "        [  0, 255,   0],\n",
       "        [  0, 255,   0],\n",
       "        [  0, 255,   0],\n",
       "        [  0, 255,   0],\n",
       "        [  0, 255,   0],\n",
       "        [  0, 255,   0],\n",
       "        [  0, 255,   0]],\n",
       "\n",
       "       [[  0, 255,   0],\n",
       "        [  0, 255,   0],\n",
       "        [  0, 255,   0],\n",
       "        [  0, 255,   0],\n",
       "        [  0, 255,   0],\n",
       "        [  0, 255,   0],\n",
       "        [  0, 255,   0],\n",
       "        [  0, 255,   0],\n",
       "        [  0, 255,   0],\n",
       "        [  0, 255,   0],\n",
       "        [  0, 255,   0],\n",
       "        [  0, 255,   0]],\n",
       "\n",
       "       [[  0, 255,   0],\n",
       "        [  0, 255,   0],\n",
       "        [  0, 255,   0],\n",
       "        [  0, 255,   0],\n",
       "        [  0, 255,   0],\n",
       "        [  0, 255,   0],\n",
       "        [  0,   0,   0],\n",
       "        [  0, 255,   0],\n",
       "        [  0, 255,   0],\n",
       "        [  0, 255,   0],\n",
       "        [  0, 255,   0],\n",
       "        [  0, 255,   0]],\n",
       "\n",
       "       [[  0, 255,   0],\n",
       "        [  0, 255,   0],\n",
       "        [  0, 255,   0],\n",
       "        [  0, 255,   0],\n",
       "        [  0, 255,   0],\n",
       "        [  0, 255,   0],\n",
       "        [  0, 255,   0],\n",
       "        [  0, 255,   0],\n",
       "        [  0, 255,   0],\n",
       "        [  0, 255,   0],\n",
       "        [  0, 255,   0],\n",
       "        [  0, 255,   0]],\n",
       "\n",
       "       [[  0, 255,   0],\n",
       "        [  0, 255,   0],\n",
       "        [  0, 255,   0],\n",
       "        [  0, 255,   0],\n",
       "        [  0, 255,   0],\n",
       "        [  0, 255,   0],\n",
       "        [  0, 255,   0],\n",
       "        [  0, 255,   0],\n",
       "        [  0, 255,   0],\n",
       "        [  0, 255,   0],\n",
       "        [  0, 255,   0],\n",
       "        [  0, 255,   0]],\n",
       "\n",
       "       [[  0, 255,   0],\n",
       "        [  0, 255,   0],\n",
       "        [  0, 255,   0],\n",
       "        [  0, 255,   0],\n",
       "        [  0, 255,   0],\n",
       "        [  0, 255,   0],\n",
       "        [  0, 255,   0],\n",
       "        [  0, 255,   0],\n",
       "        [  0, 255,   0],\n",
       "        [  0, 255,   0],\n",
       "        [  0, 255,   0],\n",
       "        [  0, 255,   0]],\n",
       "\n",
       "       [[  0, 255,   0],\n",
       "        [  0, 255,   0],\n",
       "        [  0, 255,   0],\n",
       "        [  0, 255,   0],\n",
       "        [  0, 255,   0],\n",
       "        [  0, 255,   0],\n",
       "        [  0, 255,   0],\n",
       "        [  0, 255,   0],\n",
       "        [  0, 255,   0],\n",
       "        [  0, 255,   0],\n",
       "        [  0, 255,   0],\n",
       "        [  0, 255,   0]],\n",
       "\n",
       "       [[  0, 255,   0],\n",
       "        [  0, 255,   0],\n",
       "        [  0, 255,   0],\n",
       "        [  0, 255,   0],\n",
       "        [  0, 255,   0],\n",
       "        [  0, 255,   0],\n",
       "        [  0, 255,   0],\n",
       "        [  0, 255,   0],\n",
       "        [  0, 255,   0],\n",
       "        [  0, 255,   0],\n",
       "        [255, 255,   0],\n",
       "        [  0, 255,   0]],\n",
       "\n",
       "       [[  0, 255,   0],\n",
       "        [  0, 255,   0],\n",
       "        [  0, 255,   0],\n",
       "        [  0, 255,   0],\n",
       "        [  0, 255,   0],\n",
       "        [  0, 255,   0],\n",
       "        [  0, 255,   0],\n",
       "        [  0, 255,   0],\n",
       "        [  0, 255,   0],\n",
       "        [  0, 255,   0],\n",
       "        [  0, 255,   0],\n",
       "        [  0, 255,   0]]], dtype=uint8)"
      ]
     },
     "execution_count": 146,
     "metadata": {},
     "output_type": "execute_result"
    }
   ],
   "source": [
    "# visualize the environment. Yellow is where we are, Black is where we want to go\n",
    "tmp_env.reset()\n",
    "tmp_env.render()"
   ]
  },
  {
   "cell_type": "markdown",
   "metadata": {
    "id": "XVfyvoCRPkGv"
   },
   "source": [
    "Let's see how actions work:"
   ]
  },
  {
   "cell_type": "code",
   "execution_count": 147,
   "metadata": {
    "id": "S22Lbe8OPkGv"
   },
   "outputs": [],
   "source": [
    "action_dict = {\n",
    "    'up':0,\n",
    "    'left':1,\n",
    "    'down':2,\n",
    "    'right':3,\n",
    "}"
   ]
  },
  {
   "cell_type": "code",
   "execution_count": 148,
   "metadata": {
    "colab": {
     "base_uri": "https://localhost:8080/",
     "height": 708
    },
    "id": "1wUXsfWIPkGv",
    "outputId": "598a8004-4585-4980-feb1-cba1311961d9"
   },
   "outputs": [
    {
     "name": "stdout",
     "output_type": "stream",
     "text": [
      "Next step towards: \n",
      "Green Land class area\n",
      "Reward for action left is: 0\n"
     ]
    },
    {
     "data": {
      "image/png": "[encoded data removed]",
      "text/plain": [
       "<Figure size 640x480 with 1 Axes>"
      ]
     },
     "metadata": {},
     "output_type": "display_data"
    },
    {
     "name": "stdout",
     "output_type": "stream",
     "text": [
      "Observation space looks like this:\n",
      "[[2 2 2 2 2 2 2 2 2 2 2 2]\n",
      " [2 2 2 2 2 2 2 2 2 2 2 2]\n",
      " [2 2 2 2 2 2 2 2 2 2 2 2]\n",
      " [2 2 2 2 2 2 2 2 2 2 2 2]\n",
      " [2 2 2 2 2 2 2 2 2 2 2 2]\n",
      " [2 2 2 2 2 2 5 2 2 2 2 2]\n",
      " [2 2 2 2 2 2 2 2 2 2 2 2]\n",
      " [2 2 2 2 2 2 2 2 2 2 2 2]\n",
      " [2 2 2 2 2 2 2 2 2 2 2 2]\n",
      " [2 2 2 2 2 2 2 2 2 2 2 2]\n",
      " [2 2 2 2 2 2 2 2 2 1 2 2]\n",
      " [2 2 2 2 2 2 2 2 2 2 2 2]]\n"
     ]
    }
   ],
   "source": [
    "# select your action here\n",
    "# you are encouraged to play further with this\n",
    "my_action = 'left'\n",
    "# now take a step through the environment by taking this action\n",
    "obs, rew, term, info = tmp_env.step(action_dict[my_action])\n",
    "print(f\"Reward for action {my_action} is: {rew}\")\n",
    "tmp_env.render()\n",
    "print(f\"Observation space looks like this:\\n{obs}\")"
   ]
  },
  {
   "cell_type": "markdown",
   "metadata": {
    "id": "_BKNX9F4PkGv"
   },
   "source": [
    "# 🧠 **Your Assignments**"
   ]
  },
  {
   "cell_type": "markdown",
   "metadata": {
    "id": "BpfZYKmOPkGv"
   },
   "source": [
    "# 1️⃣ Assignment 1: Q-learning with simple toy environment"
   ]
  },
  {
   "cell_type": "markdown",
   "metadata": {
    "id": "CvG3QGzTPkGv"
   },
   "source": [
    "## 🐣 Let's learn how to do this in a simple environment\n",
    "\n",
    "\n",
    "*   Task 1: Initialize Q table\n",
    "*   Task 2: Write necessary helper functions for Q-learning\n",
    "*   Task 3: Play with Hyperparameters\n",
    "*   Task 4: Train the agent using Q-learning\n",
    "*   Task 5: Explain visual representation of environment after training\n",
    "\n",
    "**Note**: Task 2, Task 3 and Task 4: you will use the same code you implemented for these in the Assignment 2."
   ]
  },
  {
   "cell_type": "code",
   "execution_count": 149,
   "metadata": {
    "colab": {
     "base_uri": "https://localhost:8080/"
    },
    "id": "gdWAfr8fPkGv",
    "outputId": "28bfaeb6-2fa7-40bf-e6bc-47b58d2e5d83"
   },
   "outputs": [
    {
     "name": "stdout",
     "output_type": "stream",
     "text": [
      "Environment successfully created\n"
     ]
    }
   ],
   "source": [
    "# Environment is set up for you here\n",
    "env_config = {\n",
    "    'env_image_path':'input_images/image_simple_1.png',\n",
    "    'dead_allowed':False,\n",
    "    'remove_after_location_found':False,\n",
    "    'start_random':False,\n",
    "    'number_removable_locations':0,\n",
    "}\n",
    "\n",
    "if not os.path.exists(env_config['env_image_path']):\n",
    "  # make sure you have the folder and the image\n",
    "  print(f\"Error: The image path {env_config['env_image_path']} does not exist.\")\n",
    "else:\n",
    "  # if everything fine, we create the environment\n",
    "  tmp_env = TrondheimEnv(conf=env_config)\n",
    "  print(f\"Environment successfully created\")"
   ]
  },
  {
   "cell_type": "markdown",
   "metadata": {
    "id": "0PT6w7C-PkGw"
   },
   "source": [
    "### Task 1: Initialize Q table"
   ]
  },
  {
   "cell_type": "code",
   "execution_count": 150,
   "metadata": {
    "colab": {
     "base_uri": "https://localhost:8080/"
    },
    "id": "guc-6hxaPkGw",
    "outputId": "3225c2dc-4aac-402e-c332-cbee57be18c7"
   },
   "outputs": [
    {
     "name": "stdout",
     "output_type": "stream",
     "text": [
      "Observation space dimensions:  (12, 12)\n",
      "Number of possible actions: 4\n",
      "(144, 4)\n"
     ]
    }
   ],
   "source": [
    "# Task 1: Initialize Q table\n",
    "\"\"\"\n",
    "TODO: given the environment, initialize the Q table\n",
    "\"\"\"\n",
    "\n",
    "# Tip: pay attention to the dimensions of Q table\n",
    "# Tip: how many states the table have, how many actions\n",
    "\n",
    "print(f\"Observation space dimensions:  {tmp_env.observation_space.shape}\")\n",
    "print(f\"Number of possible actions: {tmp_env.action_space.n}\")\n",
    "\n",
    "# YOUR CODE GOES HERE\n",
    "Q_test = np.random.uniform(low=-1, high=1, size=(tmp_env.observation_space.shape[0]*tmp_env.observation_space.shape[1], tmp_env.action_space.n))\n",
    "print(Q_test.shape)\n"
   ]
  },
  {
   "cell_type": "code",
   "execution_count": 151,
   "metadata": {
    "colab": {
     "base_uri": "https://localhost:8080/"
    },
    "id": "Tg715k80PkGw",
    "outputId": "b93df652-12a6-4ddc-a01e-512e6a98f5ed"
   },
   "outputs": [
    {
     "name": "stdout",
     "output_type": "stream",
     "text": [
      "Q table has this shape: (144, 4)\n",
      "\n",
      "[[ 0.3301463  -0.30604327 -0.8643467   0.72535567]\n",
      " [ 0.30507079  0.94517656 -0.27651066  0.35785328]\n",
      " [-0.42875627  0.36780643 -0.86098495 -0.12400599]\n",
      " [ 0.90322841  0.23833258 -0.30301037 -0.41899863]\n",
      " [ 0.09188356  0.22629042  0.91593246 -0.03284226]\n",
      " [-0.29604742  0.16573908  0.19308951  0.47027199]\n",
      " [ 0.89048052  0.28532847 -0.45796284  0.66931269]\n",
      " [-0.3506323   0.8275629  -0.4476323  -0.71821999]\n",
      " [ 0.1868037   0.32650085 -0.18348662  0.06310558]\n",
      " [-0.21243443 -0.8319049  -0.79208305 -0.8243723 ]]\n",
      "\n",
      "\n",
      "[[-0.71828152  0.59999905 -0.62374639  0.64493071]\n",
      " [ 0.07219805 -0.78310248  0.77939418 -0.38065051]\n",
      " [ 0.14825393 -0.8244653   0.11327281 -0.55997498]\n",
      " [ 0.5156633   0.17582758  0.09196894  0.1019631 ]\n",
      " [-0.35079471  0.23213711  0.23878809 -0.93001884]\n",
      " [ 0.80367796  0.79530227  0.53850822  0.62837193]\n",
      " [-0.9689875  -0.36330334  0.48867898 -0.93347234]\n",
      " [ 0.87210949 -0.23829797  0.87989414  0.72624201]\n",
      " [ 0.47619318 -0.80992359 -0.62196186 -0.22171466]]\n"
     ]
    }
   ],
   "source": [
    "# take a look into initial Q table (randomized one)\n",
    "print(f\"Q table has this shape: {Q_test.shape}\\n\")\n",
    "\n",
    "# you may want to print Q table, or parts of it, to get the vibe\n",
    "print(Q_test[:10])\n",
    "print(f\"\\n\")\n",
    "print(Q_test[135:])"
   ]
  },
  {
   "cell_type": "markdown",
   "metadata": {
    "id": "zXiBz_haPkGw"
   },
   "source": [
    "### Task 2: Write necessary helper functions for Q-learning"
   ]
  },
  {
   "cell_type": "code",
   "execution_count": 159,
   "metadata": {
    "colab": {
     "base_uri": "https://localhost:8080/"
    },
    "id": "8ySxhzOxPkGw",
    "outputId": "faea1367-7913-41e9-b17e-d498e3fa917c"
   },
   "outputs": [],
   "source": [
    "# Task 2: Write necessary helper functions for Q-learning\n",
    "\"\"\"\n",
    "TODO: write helper function to:\n",
    " update_explore_rate() - controls the balance between exploration and exploitation\n",
    " update_learning_rate() - controls how aggressively the agent updates its knowledge\n",
    "\n",
    " update_action() - uses the exploration rate to decide whether to take a\n",
    " random action (explore) or to act according to the learned Q-values (exploit)\n",
    "\"\"\"\n",
    "\n",
    "\n",
    "# Explore Rate Decay Function, Converges to MIN_EXPLORE_RATE\n",
    "def update_explore_rate(episode, MIN_EXPLORE_RATE):\n",
    "    # this function should return updated explore_rate\n",
    "\t# YOUR CODE GOES HERE\n",
    "    max = 1\n",
    "    decay = 0.01\n",
    "    return MIN_EXPLORE_RATE + (max - MIN_EXPLORE_RATE) * np.exp(-decay * episode)\n",
    "\n",
    "\n",
    "# Learning Rate Decay Function, Converges to MIN_LEARNING_RATE\n",
    "def update_learning_rate(episode, MIN_LEARNING_RATE):\n",
    "    # this function should return updated learning_rate\n",
    "\t# YOUR CODE GOES HERE\n",
    "    max = 1\n",
    "    decay = 0.01\n",
    "    return MIN_LEARNING_RATE + (max - MIN_LEARNING_RATE) * np.exp(-decay * episode)\n",
    "\n",
    "\n",
    "\n",
    "# returns an action based on current state, explore rate and Q table\n",
    "def update_action(env, state, explore_rate, Q):\n",
    "    # this function should return an action\n",
    "\t# YOUR CODE GOES HERE\n",
    "    if np.random.rand() < explore_rate:\n",
    "        return env.action_space.sample()\n",
    "    else:\n",
    "        return np.argmax(Q[state])\n"
   ]
  },
  {
   "cell_type": "markdown",
   "metadata": {
    "id": "nx48WICzPkGw"
   },
   "source": [
    "### Task 3: Play with Hyperparameters"
   ]
  },
  {
   "cell_type": "code",
   "execution_count": 188,
   "metadata": {
    "id": "77QFrN9OPkGw"
   },
   "outputs": [],
   "source": [
    "# Task 3: Play with Hyperparameters\n",
    "\n",
    "# YOUR CODE GOES HERE: replace None with your values\n",
    "GAMMA_test = 0.90\n",
    "NUM_EPISODES_test = 1000\n",
    "MIN_EXPLORE_RATE_test = 0.01\n",
    "MIN_LEARNING_RATE_test = 0.01\n",
    "STEP_SIZE_TEST = 200"
   ]
  },
  {
   "cell_type": "markdown",
   "metadata": {
    "id": "T2szdmzyT27h"
   },
   "source": [
    "## 🐤 Now use Q learning to learn the Q table\n",
    "### Task 4: Train the agent using Q-learning"
   ]
  },
  {
   "cell_type": "markdown",
   "metadata": {
    "id": "rJQRmWF3rFnb"
   },
   "source": [
    "The Q-value update equation, also known as the Bellman equation, is as follows:\n",
    "\n",
    "$Q(s, a) = Q(s, a) + α * [reward + γ * max(Q(s', a')) - Q(s, a)]$"
   ]
  },
  {
   "cell_type": "code",
   "execution_count": 191,
   "metadata": {
    "id": "uKV3Mce-PkGx"
   },
   "outputs": [
    {
     "name": "stdout",
     "output_type": "stream",
     "text": [
      "Episode: 0, Total Reward: -398, Explore Rate: 1.0, Learning Rate: 1.0\n",
      "Episode: 1, Total Reward: -353, Explore Rate: 0.9901493354116764, Learning Rate: 0.9901493354116764\n",
      "Episode: 2, Total Reward: -425, Explore Rate: 0.9803966865736877, Learning Rate: 0.9803966865736877\n",
      "Episode: 3, Total Reward: -252, Explore Rate: 0.970741078213023, Learning Rate: 0.970741078213023\n",
      "Episode: 4, Total Reward: -326, Explore Rate: 0.9611815447608, Learning Rate: 0.9611815447608\n",
      "Episode: 5, Total Reward: -182, Explore Rate: 0.9517171302557069, Learning Rate: 0.9517171302557069\n",
      "Episode: 6, Total Reward: -256, Explore Rate: 0.9423468882484062, Learning Rate: 0.9423468882484062\n",
      "Episode: 7, Total Reward: -308, Explore Rate: 0.9330698817068888, Learning Rate: 0.9330698817068888\n",
      "Episode: 8, Total Reward: -4, Explore Rate: 0.9238851829227694, Learning Rate: 0.9238851829227694\n",
      "Episode: 9, Total Reward: -136, Explore Rate: 0.9147918734185159, Learning Rate: 0.9147918734185159\n",
      "Episode: 10, Total Reward: -380, Explore Rate: 0.9057890438555999, Learning Rate: 0.9057890438555999\n",
      "Episode: 11, Total Reward: -407, Explore Rate: 0.896875793943563, Learning Rate: 0.896875793943563\n",
      "Episode: 12, Total Reward: -118, Explore Rate: 0.888051232349986, Learning Rate: 0.888051232349986\n",
      "Episode: 13, Total Reward: -344, Explore Rate: 0.8793144766113556, Learning Rate: 0.8793144766113556\n",
      "Episode: 14, Total Reward: -434, Explore Rate: 0.8706646530448178, Learning Rate: 0.8706646530448178\n",
      "Episode: 15, Total Reward: -272, Explore Rate: 0.8621008966608072, Learning Rate: 0.8621008966608072\n",
      "Episode: 16, Total Reward: -344, Explore Rate: 0.8536223510765493, Learning Rate: 0.8536223510765493\n",
      "Episode: 17, Total Reward: -479, Explore Rate: 0.8452281684304199, Learning Rate: 0.8452281684304199\n",
      "Episode: 18, Total Reward: -479, Explore Rate: 0.8369175092971592, Learning Rate: 0.8369175092971592\n",
      "Episode: 19, Total Reward: 58, Explore Rate: 0.8286895426039287, Learning Rate: 0.8286895426039287\n",
      "Episode: 20, Total Reward: -120, Explore Rate: 0.820543445547202, Learning Rate: 0.820543445547202\n",
      "Episode: 21, Total Reward: -142, Explore Rate: 0.8124784035104852, Learning Rate: 0.8124784035104852\n",
      "Episode: 22, Total Reward: -290, Explore Rate: 0.8044936099828537, Learning Rate: 0.8044936099828537\n",
      "Episode: 23, Total Reward: 88, Explore Rate: 0.7965882664783007, Learning Rate: 0.7965882664783007\n",
      "Episode: 24, Total Reward: -443, Explore Rate: 0.7887615824558879, Learning Rate: 0.7887615824558879\n",
      "Episode: 25, Total Reward: -32, Explore Rate: 0.7810127752406908, Learning Rate: 0.7810127752406908\n",
      "Episode: 26, Total Reward: -6, Explore Rate: 0.7733410699455306, Learning Rate: 0.7733410699455306\n",
      "Episode: 27, Total Reward: -434, Explore Rate: 0.7657456993934846, Learning Rate: 0.7657456993934846\n",
      "Episode: 28, Total Reward: -16, Explore Rate: 0.7582259040411682, Learning Rate: 0.7582259040411682\n",
      "Episode: 29, Total Reward: 74, Explore Rate: 0.7507809319027796, Learning Rate: 0.7507809319027796\n",
      "Episode: 30, Total Reward: -176, Explore Rate: 0.7434100384749007, Learning Rate: 0.7434100384749007\n",
      "Episode: 31, Total Reward: -317, Explore Rate: 0.7361124866620463, Learning Rate: 0.7361124866620463\n",
      "Episode: 32, Total Reward: 18, Explore Rate: 0.7288875467029541, Learning Rate: 0.7288875467029541\n",
      "Episode: 33, Total Reward: -353, Explore Rate: 0.7217344960976069, Learning Rate: 0.7217344960976069\n",
      "Episode: 34, Total Reward: -389, Explore Rate: 0.7146526195349836, Learning Rate: 0.7146526195349836\n",
      "Episode: 35, Total Reward: -332, Explore Rate: 0.7076412088215263, Learning Rate: 0.7076412088215263\n",
      "Episode: 36, Total Reward: -310, Explore Rate: 0.7006995628103208, Learning Rate: 0.7006995628103208\n",
      "Episode: 37, Total Reward: -326, Explore Rate: 0.6938269873309811, Learning Rate: 0.6938269873309811\n",
      "Episode: 38, Total Reward: -8, Explore Rate: 0.6870227951202322, Learning Rate: 0.6870227951202322\n",
      "Episode: 39, Total Reward: 48, Explore Rate: 0.680286305753183, Learning Rate: 0.680286305753183\n",
      "Episode: 40, Total Reward: -206, Explore Rate: 0.6736168455752829, Learning Rate: 0.6736168455752829\n",
      "Episode: 41, Total Reward: -407, Explore Rate: 0.6670137476349562, Learning Rate: 0.6670137476349562\n",
      "Episode: 42, Total Reward: -44, Explore Rate: 0.6604763516169062, Learning Rate: 0.6604763516169062\n",
      "Episode: 43, Total Reward: -8, Explore Rate: 0.6540040037760834, Learning Rate: 0.6540040037760834\n",
      "Episode: 44, Total Reward: -222, Explore Rate: 0.64759605687231, Learning Rate: 0.64759605687231\n",
      "Episode: 45, Total Reward: -353, Explore Rate: 0.6412518701055556, Learning Rate: 0.6412518701055556\n",
      "Episode: 46, Total Reward: -400, Explore Rate: 0.6349708090518567, Learning Rate: 0.6349708090518567\n",
      "Episode: 47, Total Reward: 80, Explore Rate: 0.6287522455998737, Learning Rate: 0.6287522455998737\n",
      "Episode: 48, Total Reward: -2, Explore Rate: 0.6225955578880794, Learning Rate: 0.6225955578880794\n",
      "Episode: 49, Total Reward: -64, Explore Rate: 0.616500130242572, Learning Rate: 0.616500130242572\n",
      "Episode: 50, Total Reward: -398, Explore Rate: 0.6104653531155071, Learning Rate: 0.6104653531155071\n",
      "Episode: 51, Total Reward: -298, Explore Rate: 0.6044906230241432, Learning Rate: 0.6044906230241432\n",
      "Episode: 52, Total Reward: -42, Explore Rate: 0.5985753424904925, Learning Rate: 0.5985753424904925\n",
      "Episode: 53, Total Reward: 32, Explore Rate: 0.5927189199815717, Learning Rate: 0.5927189199815717\n",
      "Episode: 54, Total Reward: -200, Explore Rate: 0.5869207698502498, Learning Rate: 0.5869207698502498\n",
      "Episode: 55, Total Reward: 54, Explore Rate: 0.5811803122766818, Learning Rate: 0.5811803122766818\n",
      "Episode: 56, Total Reward: -30, Explore Rate: 0.5754969732103268, Learning Rate: 0.5754969732103268\n",
      "Episode: 57, Total Reward: -210, Explore Rate: 0.5698701843125418, Learning Rate: 0.5698701843125418\n",
      "Episode: 58, Total Reward: -416, Explore Rate: 0.564299382899748, Learning Rate: 0.564299382899748\n",
      "Episode: 59, Total Reward: -443, Explore Rate: 0.558784011887162, Learning Rate: 0.558784011887162\n",
      "Episode: 60, Total Reward: 76, Explore Rate: 0.5533235197330862, Learning Rate: 0.5533235197330862\n",
      "Episode: 61, Total Reward: -2, Explore Rate: 0.5479173603837548, Learning Rate: 0.5479173603837548\n",
      "Episode: 62, Total Reward: -254, Explore Rate: 0.5425649932187278, Learning Rate: 0.5425649932187278\n",
      "Episode: 63, Total Reward: 24, Explore Rate: 0.5372658829968282, Learning Rate: 0.5372658829968282\n",
      "Episode: 64, Total Reward: -70, Explore Rate: 0.5320194998026181, Learning Rate: 0.5320194998026181\n",
      "Episode: 65, Total Reward: -200, Explore Rate: 0.5268253189934059, Learning Rate: 0.5268253189934059\n",
      "Episode: 66, Total Reward: 72, Explore Rate: 0.5216828211467822, Learning Rate: 0.5216828211467822\n",
      "Episode: 67, Total Reward: 18, Explore Rate: 0.516591492008677, Learning Rate: 0.516591492008677\n",
      "Episode: 68, Total Reward: 84, Explore Rate: 0.5115508224419336, Learning Rate: 0.5115508224419336\n",
      "Episode: 69, Total Reward: 50, Explore Rate: 0.5065603083753949, Learning Rate: 0.5065603083753949\n",
      "Episode: 70, Total Reward: 18, Explore Rate: 0.5016194507534953, Learning Rate: 0.5016194507534953\n",
      "Episode: 71, Total Reward: -82, Explore Rate: 0.49672775548635545, Learning Rate: 0.49672775548635545\n",
      "Episode: 72, Total Reward: -32, Explore Rate: 0.491884733400372, Learning Rate: 0.491884733400372\n",
      "Episode: 73, Total Reward: -416, Explore Rate: 0.48708990018930043, Learning Rate: 0.48708990018930043\n",
      "Episode: 74, Total Reward: 14, Explore Rate: 0.48234277636582407, Learning Rate: 0.48234277636582407\n",
      "Episode: 75, Total Reward: -28, Explore Rate: 0.47764288721360454, Learning Rate: 0.47764288721360454\n",
      "Episode: 76, Total Reward: 60, Explore Rate: 0.47298976273981014, Learning Rate: 0.47298976273981014\n",
      "Episode: 77, Total Reward: -210, Explore Rate: 0.4683829376281158, Learning Rate: 0.4683829376281158\n",
      "Episode: 78, Total Reward: -8, Explore Rate: 0.4638219511921713, Learning Rate: 0.4638219511921713\n",
      "Episode: 79, Total Reward: -48, Explore Rate: 0.4593063473295323, Learning Rate: 0.4593063473295323\n",
      "Episode: 80, Total Reward: -270, Explore Rate: 0.45483567447604933, Learning Rate: 0.45483567447604933\n",
      "Episode: 81, Total Reward: -443, Explore Rate: 0.4504094855607117, Learning Rate: 0.4504094855607117\n",
      "Episode: 82, Total Reward: 84, Explore Rate: 0.44602733796093924, Learning Rate: 0.44602733796093924\n",
      "Episode: 83, Total Reward: -146, Explore Rate: 0.4416887934583202, Learning Rate: 0.4416887934583202\n",
      "Episode: 84, Total Reward: -605, Explore Rate: 0.43739341819478894, Learning Rate: 0.43739341819478894\n",
      "Episode: 85, Total Reward: -204, Explore Rate: 0.43314078262923944, Learning Rate: 0.43314078262923944\n",
      "Episode: 86, Total Reward: -344, Explore Rate: 0.4289304614945713, Learning Rate: 0.4289304614945713\n",
      "Episode: 87, Total Reward: -462, Explore Rate: 0.42476203375516264, Learning Rate: 0.42476203375516264\n",
      "Episode: 88, Total Reward: -20, Explore Rate: 0.42063508256476556, Learning Rate: 0.42063508256476556\n",
      "Episode: 89, Total Reward: -236, Explore Rate: 0.41654919522482203, Learning Rate: 0.41654919522482203\n",
      "Episode: 90, Total Reward: 50, Explore Rate: 0.4125039631431931, Learning Rate: 0.4125039631431931\n",
      "Episode: 91, Total Reward: 88, Explore Rate: 0.40849898179329963, Learning Rate: 0.40849898179329963\n",
      "Episode: 92, Total Reward: -156, Explore Rate: 0.404533850673669, Learning Rate: 0.404533850673669\n",
      "Episode: 93, Total Reward: -26, Explore Rate: 0.40060817326788506, Learning Rate: 0.40060817326788506\n",
      "Episode: 94, Total Reward: 22, Explore Rate: 0.3967215570049359, Learning Rate: 0.3967215570049359\n",
      "Episode: 95, Total Reward: -614, Explore Rate: 0.3928736132199562, Learning Rate: 0.3928736132199562\n",
      "Episode: 96, Total Reward: -122, Explore Rate: 0.38906395711536096, Learning Rate: 0.38906395711536096\n",
      "Episode: 97, Total Reward: 42, Explore Rate: 0.38529220772236483, Learning Rate: 0.38529220772236483\n",
      "Episode: 98, Total Reward: 84, Explore Rate: 0.3815579878628856, Learning Rate: 0.3815579878628856\n",
      "Episode: 99, Total Reward: 62, Explore Rate: 0.37786092411182526, Learning Rate: 0.37786092411182526\n",
      "Episode: 100, Total Reward: 48, Explore Rate: 0.3742006467597279, Learning Rate: 0.3742006467597279\n",
      "Episode: 101, Total Reward: 16, Explore Rate: 0.3705767897758081, Learning Rate: 0.3705767897758081\n",
      "Episode: 102, Total Reward: -148, Explore Rate: 0.3669889907713475, Learning Rate: 0.3669889907713475\n",
      "Episode: 103, Total Reward: -184, Explore Rate: 0.36343689096345594, Learning Rate: 0.36343689096345594\n",
      "Episode: 104, Total Reward: -100, Explore Rate: 0.35992013513919235, Learning Rate: 0.35992013513919235\n",
      "Episode: 105, Total Reward: -308, Explore Rate: 0.35643837162004377, Learning Rate: 0.35643837162004377\n",
      "Episode: 106, Total Reward: 74, Explore Rate: 0.3529912522267568, Learning Rate: 0.3529912522267568\n",
      "Episode: 107, Total Reward: 4, Explore Rate: 0.34957843224451957, Learning Rate: 0.34957843224451957\n",
      "Episode: 108, Total Reward: -344, Explore Rate: 0.34619957038848975, Learning Rate: 0.34619957038848975\n",
      "Episode: 109, Total Reward: 82, Explore Rate: 0.34285432876966604, Learning Rate: 0.34285432876966604\n",
      "Episode: 110, Total Reward: 72, Explore Rate: 0.3395423728610988, Learning Rate: 0.3395423728610988\n",
      "Episode: 111, Total Reward: 82, Explore Rate: 0.3362633714644372, Learning Rate: 0.3362633714644372\n",
      "Episode: 112, Total Reward: 72, Explore Rate: 0.33301699667680906, Learning Rate: 0.33301699667680906\n",
      "Episode: 113, Total Reward: 86, Explore Rate: 0.3298029238580304, Learning Rate: 0.3298029238580304\n",
      "Episode: 114, Total Reward: 82, Explore Rate: 0.3266208315981408, Learning Rate: 0.3266208315981408\n",
      "Episode: 115, Total Reward: -46, Explore Rate: 0.32347040168526264, Learning Rate: 0.32347040168526264\n",
      "Episode: 116, Total Reward: -263, Explore Rate: 0.3203513190737793, Learning Rate: 0.3203513190737793\n",
      "Episode: 117, Total Reward: 76, Explore Rate: 0.3172632718528302, Learning Rate: 0.3172632718528302\n",
      "Episode: 118, Total Reward: 52, Explore Rate: 0.31420595121511996, Learning Rate: 0.31420595121511996\n",
      "Episode: 119, Total Reward: 16, Explore Rate: 0.311179051426037, Learning Rate: 0.311179051426037\n",
      "Episode: 120, Total Reward: 88, Explore Rate: 0.3081822697930801, Learning Rate: 0.3081822697930801\n",
      "Episode: 121, Total Reward: 38, Explore Rate: 0.3052153066355885, Learning Rate: 0.3052153066355885\n",
      "Episode: 122, Total Reward: 22, Explore Rate: 0.30227786525477407, Learning Rate: 0.30227786525477407\n",
      "Episode: 123, Total Reward: -4, Explore Rate: 0.29936965190405085, Learning Rate: 0.29936965190405085\n",
      "Episode: 124, Total Reward: 26, Explore Rate: 0.29649037575966014, Learning Rate: 0.29649037575966014\n",
      "Episode: 125, Total Reward: 70, Explore Rate: 0.29363974889158817, Learning Rate: 0.29363974889158817\n",
      "Episode: 126, Total Reward: 82, Explore Rate: 0.2908174862347727, Learning Rate: 0.2908174862347727\n",
      "Episode: 127, Total Reward: 88, Explore Rate: 0.28802330556059597, Learning Rate: 0.28802330556059597\n",
      "Episode: 128, Total Reward: 54, Explore Rate: 0.2852569274486622, Learning Rate: 0.2852569274486622\n",
      "Episode: 129, Total Reward: 76, Explore Rate: 0.2825180752588548, Learning Rate: 0.2825180752588548\n",
      "Episode: 130, Total Reward: 88, Explore Rate: 0.27980647510367246, Learning Rate: 0.27980647510367246\n",
      "Episode: 131, Total Reward: -8, Explore Rate: 0.2771218558208399, Learning Rate: 0.2771218558208399\n",
      "Episode: 132, Total Reward: -426, Explore Rate: 0.27446394894619186, Learning Rate: 0.27446394894619186\n",
      "Episode: 133, Total Reward: 84, Explore Rate: 0.27183248868682575, Learning Rate: 0.27183248868682575\n",
      "Episode: 134, Total Reward: -10, Explore Rate: 0.26922721189452276, Learning Rate: 0.26922721189452276\n",
      "Episode: 135, Total Reward: 86, Explore Rate: 0.2666478580394326, Learning Rate: 0.2666478580394326\n",
      "Episode: 136, Total Reward: 86, Explore Rate: 0.26409416918402034, Learning Rate: 0.26409416918402034\n",
      "Episode: 137, Total Reward: -388, Explore Rate: 0.26156588995727226, Learning Rate: 0.26156588995727226\n",
      "Episode: 138, Total Reward: 58, Explore Rate: 0.2590627675291589, Learning Rate: 0.2590627675291589\n",
      "Episode: 139, Total Reward: -281, Explore Rate: 0.2565845515853515, Learning Rate: 0.2565845515853515\n",
      "Episode: 140, Total Reward: -212, Explore Rate: 0.2541309943021904, Learning Rate: 0.2541309943021904\n",
      "Episode: 141, Total Reward: 80, Explore Rate: 0.25170185032190273, Learning Rate: 0.25170185032190273\n",
      "Episode: 142, Total Reward: 46, Explore Rate: 0.24929687672806608, Learning Rate: 0.24929687672806608\n",
      "Episode: 143, Total Reward: 28, Explore Rate: 0.246915833021317, Learning Rate: 0.246915833021317\n",
      "Episode: 144, Total Reward: -4, Explore Rate: 0.24455848109530054, Learning Rate: 0.24455848109530054\n",
      "Episode: 145, Total Reward: 22, Explore Rate: 0.2422245852128597, Learning Rate: 0.2422245852128597\n",
      "Episode: 146, Total Reward: -78, Explore Rate: 0.23991391198246126, Learning Rate: 0.23991391198246126\n",
      "Episode: 147, Total Reward: 68, Explore Rate: 0.2376262303348566, Learning Rate: 0.2376262303348566\n",
      "Episode: 148, Total Reward: 64, Explore Rate: 0.2353613114999746, Learning Rate: 0.2353613114999746\n",
      "Episode: 149, Total Reward: 56, Explore Rate: 0.23311892898404435, Learning Rate: 0.23311892898404435\n",
      "Episode: 150, Total Reward: 32, Explore Rate: 0.23089885854694553, Learning Rate: 0.23089885854694553\n",
      "Episode: 151, Total Reward: 80, Explore Rate: 0.22870087817978443, Learning Rate: 0.22870087817978443\n",
      "Episode: 152, Total Reward: -50, Explore Rate: 0.22652476808269262, Learning Rate: 0.22652476808269262\n",
      "Episode: 153, Total Reward: 56, Explore Rate: 0.22437031064284702, Learning Rate: 0.22437031064284702\n",
      "Episode: 154, Total Reward: 86, Explore Rate: 0.22223729041270818, Learning Rate: 0.22223729041270818\n",
      "Episode: 155, Total Reward: 70, Explore Rate: 0.22012549408847562, Learning Rate: 0.22012549408847562\n",
      "Episode: 156, Total Reward: -36, Explore Rate: 0.21803471048875708, Learning Rate: 0.21803471048875708\n",
      "Episode: 157, Total Reward: 64, Explore Rate: 0.21596473053345028, Learning Rate: 0.21596473053345028\n",
      "Episode: 158, Total Reward: -312, Explore Rate: 0.21391534722283462, Learning Rate: 0.21391534722283462\n",
      "Episode: 159, Total Reward: -605, Explore Rate: 0.2118863556168713, Learning Rate: 0.2118863556168713\n",
      "Episode: 160, Total Reward: 38, Explore Rate: 0.20987755281470882, Learning Rate: 0.20987755281470882\n",
      "Episode: 161, Total Reward: 32, Explore Rate: 0.20788873793439305, Learning Rate: 0.20788873793439305\n",
      "Episode: 162, Total Reward: 64, Explore Rate: 0.2059197120927785, Learning Rate: 0.2059197120927785\n",
      "Episode: 163, Total Reward: -200, Explore Rate: 0.20397027838564025, Learning Rate: 0.20397027838564025\n",
      "Episode: 164, Total Reward: 0, Explore Rate: 0.20204024186798297, Learning Rate: 0.20204024186798297\n",
      "Episode: 165, Total Reward: 44, Explore Rate: 0.20012940953454655, Learning Rate: 0.20012940953454655\n",
      "Episode: 166, Total Reward: -398, Explore Rate: 0.1982375903005053, Learning Rate: 0.1982375903005053\n",
      "Episode: 167, Total Reward: -8, Explore Rate: 0.19636459498235934, Learning Rate: 0.19636459498235934\n",
      "Episode: 168, Total Reward: -44, Explore Rate: 0.19451023627901587, Learning Rate: 0.19451023627901587\n",
      "Episode: 169, Total Reward: 84, Explore Rate: 0.19267432875305937, Learning Rate: 0.19267432875305937\n",
      "Episode: 170, Total Reward: -94, Explore Rate: 0.19085668881220733, Learning Rate: 0.19085668881220733\n",
      "Episode: 171, Total Reward: -254, Explore Rate: 0.1890571346909509, Learning Rate: 0.1890571346909509\n",
      "Episode: 172, Total Reward: -336, Explore Rate: 0.1872754864323783, Learning Rate: 0.1872754864323783\n",
      "Episode: 173, Total Reward: -245, Explore Rate: 0.18551156587017906, Learning Rate: 0.18551156587017906\n",
      "Episode: 174, Total Reward: -209, Explore Rate: 0.1837651966108269, Learning Rate: 0.1837651966108269\n",
      "Episode: 175, Total Reward: -254, Explore Rate: 0.1820362040159407, Learning Rate: 0.1820362040159407\n",
      "Episode: 176, Total Reward: 28, Explore Rate: 0.18032441518482004, Learning Rate: 0.18032441518482004\n",
      "Episode: 177, Total Reward: -96, Explore Rate: 0.17862965893715535, Learning Rate: 0.17862965893715535\n",
      "Episode: 178, Total Reward: 50, Explore Rate: 0.17695176579590954, Learning Rate: 0.17695176579590954\n",
      "Episode: 179, Total Reward: -965, Explore Rate: 0.1752905679703703, Learning Rate: 0.1752905679703703\n",
      "Episode: 180, Total Reward: -86, Explore Rate: 0.17364589933937066, Learning Rate: 0.17364589933937066\n",
      "Episode: 181, Total Reward: -16, Explore Rate: 0.172017595434677, Learning Rate: 0.172017595434677\n",
      "Episode: 182, Total Reward: 72, Explore Rate: 0.17040549342454195, Learning Rate: 0.17040549342454195\n",
      "Episode: 183, Total Reward: 8, Explore Rate: 0.16880943209742102, Learning Rate: 0.16880943209742102\n",
      "Episode: 184, Total Reward: 52, Explore Rate: 0.16722925184585147, Learning Rate: 0.16722925184585147\n",
      "Episode: 185, Total Reward: 22, Explore Rate: 0.16566479465049133, Learning Rate: 0.16566479465049133\n",
      "Episode: 186, Total Reward: -132, Explore Rate: 0.16411590406431734, Learning Rate: 0.16411590406431734\n",
      "Episode: 187, Total Reward: 80, Explore Rate: 0.1625824251969801, Learning Rate: 0.1625824251969801\n",
      "Episode: 188, Total Reward: 90, Explore Rate: 0.16106420469931504, Learning Rate: 0.16106420469931504\n",
      "Episode: 189, Total Reward: 82, Explore Rate: 0.15956109074800714, Learning Rate: 0.15956109074800714\n",
      "Episode: 190, Total Reward: 90, Explore Rate: 0.1580729330304087, Learning Rate: 0.1580729330304087\n",
      "Episode: 191, Total Reward: 82, Explore Rate: 0.15659958272950783, Learning Rate: 0.15659958272950783\n",
      "Episode: 192, Total Reward: 90, Explore Rate: 0.15514089250904667, Learning Rate: 0.15514089250904667\n",
      "Episode: 193, Total Reward: 86, Explore Rate: 0.1536967164987875, Learning Rate: 0.1536967164987875\n",
      "Episode: 194, Total Reward: 90, Explore Rate: 0.1522669102799259, Learning Rate: 0.1522669102799259\n",
      "Episode: 195, Total Reward: 84, Explore Rate: 0.15085133087064845, Learning Rate: 0.15085133087064845\n",
      "Episode: 196, Total Reward: 82, Explore Rate: 0.14944983671183457, Learning Rate: 0.14944983671183457\n",
      "Episode: 197, Total Reward: 90, Explore Rate: 0.14806228765290044, Learning Rate: 0.14806228765290044\n",
      "Episode: 198, Total Reward: 78, Explore Rate: 0.1466885449377839, Learning Rate: 0.1466885449377839\n",
      "Episode: 199, Total Reward: 88, Explore Rate: 0.14532847119106862, Learning Rate: 0.14532847119106862\n",
      "Episode: 200, Total Reward: 70, Explore Rate: 0.1439819304042466, Learning Rate: 0.1439819304042466\n",
      "Episode: 201, Total Reward: 80, Explore Rate: 0.14264878792211688, Learning Rate: 0.14264878792211688\n",
      "Episode: 202, Total Reward: -48, Explore Rate: 0.1413289104293205, Learning Rate: 0.1413289104293205\n",
      "Episode: 203, Total Reward: 90, Explore Rate: 0.14002216593700811, Learning Rate: 0.14002216593700811\n",
      "Episode: 204, Total Reward: 42, Explore Rate: 0.13872842376964165, Learning Rate: 0.13872842376964165\n",
      "Episode: 205, Total Reward: 66, Explore Rate: 0.1374475545519262, Learning Rate: 0.1374475545519262\n",
      "Episode: 206, Total Reward: 86, Explore Rate: 0.13617943019587256, Learning Rate: 0.13617943019587256\n",
      "Episode: 207, Total Reward: 88, Explore Rate: 0.13492392388798838, Learning Rate: 0.13492392388798838\n",
      "Episode: 208, Total Reward: 84, Explore Rate: 0.13368091007659658, Learning Rate: 0.13368091007659658\n",
      "Episode: 209, Total Reward: 92, Explore Rate: 0.1324502644592803, Learning Rate: 0.1324502644592803\n",
      "Episode: 210, Total Reward: 82, Explore Rate: 0.13123186397045208, Learning Rate: 0.13123186397045208\n",
      "Episode: 211, Total Reward: 86, Explore Rate: 0.13002558676904785, Learning Rate: 0.13002558676904785\n",
      "Episode: 212, Total Reward: 86, Explore Rate: 0.12883131222634217, Learning Rate: 0.12883131222634217\n",
      "Episode: 213, Total Reward: -389, Explore Rate: 0.12764892091388555, Learning Rate: 0.12764892091388555\n",
      "Episode: 214, Total Reward: 80, Explore Rate: 0.1264782945915614, Learning Rate: 0.1264782945915614\n",
      "Episode: 215, Total Reward: -182, Explore Rate: 0.125319316195762, Learning Rate: 0.125319316195762\n",
      "Episode: 216, Total Reward: -200, Explore Rate: 0.12417186982768189, Learning Rate: 0.12417186982768189\n",
      "Episode: 217, Total Reward: -272, Explore Rate: 0.12303584074172813, Learning Rate: 0.12303584074172813\n",
      "Episode: 218, Total Reward: -64, Explore Rate: 0.12191111533404535, Learning Rate: 0.12191111533404535\n",
      "Episode: 219, Total Reward: -929, Explore Rate: 0.12079758113115559, Learning Rate: 0.12079758113115559\n",
      "Episode: 220, Total Reward: -686, Explore Rate: 0.11969512677871053, Learning Rate: 0.11969512677871053\n",
      "Episode: 221, Total Reward: -512, Explore Rate: 0.11860364203035628, Learning Rate: 0.11860364203035628\n",
      "Episode: 222, Total Reward: -1028, Explore Rate: 0.11752301773670837, Learning Rate: 0.11752301773670837\n",
      "Episode: 223, Total Reward: -380, Explore Rate: 0.116453145834437, Learning Rate: 0.116453145834437\n",
      "Episode: 224, Total Reward: -200, Explore Rate: 0.11539391933546027, Learning Rate: 0.11539391933546027\n",
      "Episode: 225, Total Reward: -40, Explore Rate: 0.11434523231624569, Learning Rate: 0.11434523231624569\n",
      "Episode: 226, Total Reward: 8, Explore Rate: 0.11330697990721733, Learning Rate: 0.11330697990721733\n",
      "Episode: 227, Total Reward: 86, Explore Rate: 0.1122790582822692, Learning Rate: 0.1122790582822692\n",
      "Episode: 228, Total Reward: 66, Explore Rate: 0.11126136464838206, Learning Rate: 0.11126136464838206\n",
      "Episode: 229, Total Reward: 58, Explore Rate: 0.11025379723534455, Learning Rate: 0.11025379723534455\n",
      "Episode: 230, Total Reward: 56, Explore Rate: 0.10925625528557566, Learning Rate: 0.10925625528557566\n",
      "Episode: 231, Total Reward: 52, Explore Rate: 0.1082686390440492, Learning Rate: 0.1082686390440492\n",
      "Episode: 232, Total Reward: -10, Explore Rate: 0.10729084974831793, Learning Rate: 0.10729084974831793\n",
      "Episode: 233, Total Reward: 38, Explore Rate: 0.10632278961863742, Learning Rate: 0.10632278961863742\n",
      "Episode: 234, Total Reward: -551, Explore Rate: 0.10536436184818809, Learning Rate: 0.10536436184818809\n",
      "Episode: 235, Total Reward: 18, Explore Rate: 0.10441547059339411, Learning Rate: 0.10441547059339411\n",
      "Episode: 236, Total Reward: 80, Explore Rate: 0.10347602096433932, Learning Rate: 0.10347602096433932\n",
      "Episode: 237, Total Reward: 6, Explore Rate: 0.10254591901527788, Learning Rate: 0.10254591901527788\n",
      "Episode: 238, Total Reward: 90, Explore Rate: 0.10162507173523985, Learning Rate: 0.10162507173523985\n",
      "Episode: 239, Total Reward: 90, Explore Rate: 0.10071338703872978, Learning Rate: 0.10071338703872978\n",
      "Episode: 240, Total Reward: 90, Explore Rate: 0.09981077375651838, Learning Rate: 0.09981077375651838\n",
      "Episode: 241, Total Reward: 90, Explore Rate: 0.09891714162652515, Learning Rate: 0.09891714162652515\n",
      "Episode: 242, Total Reward: 78, Explore Rate: 0.09803240128479247, Learning Rate: 0.09803240128479247\n",
      "Episode: 243, Total Reward: 88, Explore Rate: 0.09715646425654882, Learning Rate: 0.09715646425654882\n",
      "Episode: 244, Total Reward: 90, Explore Rate: 0.09628924294736148, Learning Rate: 0.09628924294736148\n",
      "Episode: 245, Total Reward: 90, Explore Rate: 0.09543065063437678, Learning Rate: 0.09543065063437678\n",
      "Episode: 246, Total Reward: 88, Explore Rate: 0.09458060145764802, Learning Rate: 0.09458060145764802\n",
      "Episode: 247, Total Reward: 88, Explore Rate: 0.09373901041154904, Learning Rate: 0.09373901041154904\n",
      "Episode: 248, Total Reward: 90, Explore Rate: 0.092905793336274, Learning Rate: 0.092905793336274\n",
      "Episode: 249, Total Reward: 90, Explore Rate: 0.09208086690942092, Learning Rate: 0.09208086690942092\n",
      "Episode: 250, Total Reward: 88, Explore Rate: 0.0912641486376598, Learning Rate: 0.0912641486376598\n",
      "Episode: 251, Total Reward: -550, Explore Rate: 0.09045555684848275, Learning Rate: 0.09045555684848275\n",
      "Episode: 252, Total Reward: -200, Explore Rate: 0.08965501068203711, Learning Rate: 0.08965501068203711\n",
      "Episode: 253, Total Reward: 32, Explore Rate: 0.08886243008303903, Learning Rate: 0.08886243008303903\n",
      "Episode: 254, Total Reward: 48, Explore Rate: 0.08807773579276819, Learning Rate: 0.08807773579276819\n",
      "Episode: 255, Total Reward: -200, Explore Rate: 0.08730084934114159, Learning Rate: 0.08730084934114159\n",
      "Episode: 256, Total Reward: -54, Explore Rate: 0.08653169303886674, Learning Rate: 0.08653169303886674\n",
      "Episode: 257, Total Reward: 8, Explore Rate: 0.0857701899696724, Learning Rate: 0.0857701899696724\n",
      "Episode: 258, Total Reward: 54, Explore Rate: 0.08501626398261702, Learning Rate: 0.08501626398261702\n",
      "Episode: 259, Total Reward: 42, Explore Rate: 0.0842698396844737, Learning Rate: 0.0842698396844737\n",
      "Episode: 260, Total Reward: 44, Explore Rate: 0.08353084243219053, Learning Rate: 0.08353084243219053\n",
      "Episode: 261, Total Reward: 76, Explore Rate: 0.08279919832542652, Learning Rate: 0.08279919832542652\n",
      "Episode: 262, Total Reward: 52, Explore Rate: 0.08207483419916123, Learning Rate: 0.08207483419916123\n",
      "Episode: 263, Total Reward: 64, Explore Rate: 0.08135767761637844, Learning Rate: 0.08135767761637844\n",
      "Episode: 264, Total Reward: -24, Explore Rate: 0.08064765686082219, Learning Rate: 0.08064765686082219\n",
      "Episode: 265, Total Reward: 66, Explore Rate: 0.0799447009298253, Learning Rate: 0.0799447009298253\n",
      "Episode: 266, Total Reward: 78, Explore Rate: 0.0792487395272088, Learning Rate: 0.0792487395272088\n",
      "Episode: 267, Total Reward: -28, Explore Rate: 0.07855970305625253, Learning Rate: 0.07855970305625253\n",
      "Episode: 268, Total Reward: 68, Explore Rate: 0.07787752261273513, Learning Rate: 0.07787752261273513\n",
      "Episode: 269, Total Reward: 46, Explore Rate: 0.07720212997804382, Learning Rate: 0.07720212997804382\n",
      "Episode: 270, Total Reward: -28, Explore Rate: 0.07653345761235225, Learning Rate: 0.07653345761235225\n",
      "Episode: 271, Total Reward: -34, Explore Rate: 0.07587143864786668, Learning Rate: 0.07587143864786668\n",
      "Episode: 272, Total Reward: -40, Explore Rate: 0.07521600688213892, Learning Rate: 0.07521600688213892\n",
      "Episode: 273, Total Reward: 92, Explore Rate: 0.07456709677144624, Learning Rate: 0.07456709677144624\n",
      "Episode: 274, Total Reward: 92, Explore Rate: 0.07392464342423678, Learning Rate: 0.07392464342423678\n",
      "Episode: 275, Total Reward: 86, Explore Rate: 0.0732885825946405, Learning Rate: 0.0732885825946405\n",
      "Episode: 276, Total Reward: 90, Explore Rate: 0.07265885067604429, Learning Rate: 0.07265885067604429\n",
      "Episode: 277, Total Reward: 92, Explore Rate: 0.07203538469473161, Learning Rate: 0.07203538469473161\n",
      "Episode: 278, Total Reward: 92, Explore Rate: 0.0714181223035847, Learning Rate: 0.0714181223035847\n",
      "Episode: 279, Total Reward: 92, Explore Rate: 0.07080700177585013, Learning Rate: 0.07080700177585013\n",
      "Episode: 280, Total Reward: 92, Explore Rate: 0.07020196199896576, Learning Rate: 0.07020196199896576\n",
      "Episode: 281, Total Reward: 92, Explore Rate: 0.06960294246844981, Learning Rate: 0.06960294246844981\n",
      "Episode: 282, Total Reward: 92, Explore Rate: 0.06900988328184997, Learning Rate: 0.06900988328184997\n",
      "Episode: 283, Total Reward: 92, Explore Rate: 0.06842272513275337, Learning Rate: 0.06842272513275337\n",
      "Episode: 284, Total Reward: 92, Explore Rate: 0.06784140930485581, Learning Rate: 0.06784140930485581\n",
      "Episode: 285, Total Reward: 92, Explore Rate: 0.06726587766609007, Learning Rate: 0.06726587766609007\n",
      "Episode: 286, Total Reward: 90, Explore Rate: 0.06669607266281269, Learning Rate: 0.06669607266281269\n",
      "Episode: 287, Total Reward: 78, Explore Rate: 0.06613193731404843, Learning Rate: 0.06613193731404843\n",
      "Episode: 288, Total Reward: 90, Explore Rate: 0.06557341520579238, Learning Rate: 0.06557341520579238\n",
      "Episode: 289, Total Reward: 92, Explore Rate: 0.06502045048536823, Learning Rate: 0.06502045048536823\n",
      "Episode: 290, Total Reward: 92, Explore Rate: 0.06447298785584316, Learning Rate: 0.06447298785584316\n",
      "Episode: 291, Total Reward: 90, Explore Rate: 0.06393097257049796, Learning Rate: 0.06393097257049796\n",
      "Episode: 292, Total Reward: 92, Explore Rate: 0.06339435042735246, Learning Rate: 0.06339435042735246\n",
      "Episode: 293, Total Reward: 92, Explore Rate: 0.06286306776374512, Learning Rate: 0.06286306776374512\n",
      "Episode: 294, Total Reward: 92, Explore Rate: 0.06233707145096687, Learning Rate: 0.06233707145096687\n",
      "Episode: 295, Total Reward: 92, Explore Rate: 0.06181630888894806, Learning Rate: 0.06181630888894806\n",
      "Episode: 296, Total Reward: 92, Explore Rate: 0.061300728000998575, Learning Rate: 0.061300728000998575\n",
      "Episode: 297, Total Reward: 92, Explore Rate: 0.06079027722859992, Learning Rate: 0.06079027722859992\n",
      "Episode: 298, Total Reward: 92, Explore Rate: 0.060284905526249516, Learning Rate: 0.060284905526249516\n",
      "Episode: 299, Total Reward: -924, Explore Rate: 0.05978456235635595, Learning Rate: 0.05978456235635595\n",
      "Episode: 300, Total Reward: 92, Explore Rate: 0.05928919768418531, Learning Rate: 0.05928919768418531\n",
      "Episode: 301, Total Reward: 92, Explore Rate: 0.05879876197285753, Learning Rate: 0.05879876197285753\n",
      "Episode: 302, Total Reward: 92, Explore Rate: 0.058313206178392835, Learning Rate: 0.058313206178392835\n",
      "Episode: 303, Total Reward: 92, Explore Rate: 0.05783248174480709, Learning Rate: 0.05783248174480709\n",
      "Episode: 304, Total Reward: 92, Explore Rate: 0.057356540599256385, Learning Rate: 0.057356540599256385\n",
      "Episode: 305, Total Reward: 90, Explore Rate: 0.0568853351472295, Learning Rate: 0.0568853351472295\n",
      "Episode: 306, Total Reward: 88, Explore Rate: 0.0564188182677886, Learning Rate: 0.0564188182677886\n",
      "Episode: 307, Total Reward: 92, Explore Rate: 0.05595694330885694, Learning Rate: 0.05595694330885694\n",
      "Episode: 308, Total Reward: 92, Explore Rate: 0.05549966408255377, Learning Rate: 0.05549966408255377\n",
      "Episode: 309, Total Reward: 92, Explore Rate: 0.05504693486057535, Learning Rate: 0.05504693486057535\n",
      "Episode: 310, Total Reward: 92, Explore Rate: 0.05459871036962222, Learning Rate: 0.05459871036962222\n",
      "Episode: 311, Total Reward: 92, Explore Rate: 0.05415494578687179, Learning Rate: 0.05415494578687179\n",
      "Episode: 312, Total Reward: 90, Explore Rate: 0.05371559673549593, Learning Rate: 0.05371559673549593\n",
      "Episode: 313, Total Reward: 86, Explore Rate: 0.053280619280223436, Learning Rate: 0.053280619280223436\n",
      "Episode: 314, Total Reward: 92, Explore Rate: 0.05284996992294624, Learning Rate: 0.05284996992294624\n",
      "Episode: 315, Total Reward: 92, Explore Rate: 0.05242360559836979, Learning Rate: 0.05242360559836979\n",
      "Episode: 316, Total Reward: 92, Explore Rate: 0.05200148366970627, Learning Rate: 0.05200148366970627\n",
      "Episode: 317, Total Reward: 70, Explore Rate: 0.051583561924411096, Learning Rate: 0.051583561924411096\n",
      "Episode: 318, Total Reward: 92, Explore Rate: 0.05116979856996143, Learning Rate: 0.05116979856996143\n",
      "Episode: 319, Total Reward: 92, Explore Rate: 0.050760152229677065, Learning Rate: 0.050760152229677065\n",
      "Episode: 320, Total Reward: 92, Explore Rate: 0.05035458193858255, Learning Rate: 0.05035458193858255\n",
      "Episode: 321, Total Reward: 90, Explore Rate: 0.049953047139310834, Learning Rate: 0.049953047139310834\n",
      "Episode: 322, Total Reward: 92, Explore Rate: 0.04955550767804736, Learning Rate: 0.04955550767804736\n",
      "Episode: 323, Total Reward: 92, Explore Rate: 0.04916192380051474, Learning Rate: 0.04916192380051474\n",
      "Episode: 324, Total Reward: 92, Explore Rate: 0.0487722561479972, Learning Rate: 0.0487722561479972\n",
      "Episode: 325, Total Reward: 92, Explore Rate: 0.04838646575340479, Learning Rate: 0.04838646575340479\n",
      "Episode: 326, Total Reward: 92, Explore Rate: 0.04800451403737654, Learning Rate: 0.04800451403737654\n",
      "Episode: 327, Total Reward: 92, Explore Rate: 0.04762636280442257, Learning Rate: 0.04762636280442257\n",
      "Episode: 328, Total Reward: 54, Explore Rate: 0.04725197423910444, Learning Rate: 0.04725197423910444\n",
      "Episode: 329, Total Reward: 92, Explore Rate: 0.04688131090225365, Learning Rate: 0.04688131090225365\n",
      "Episode: 330, Total Reward: 90, Explore Rate: 0.046514335727227595, Learning Rate: 0.046514335727227595\n",
      "Episode: 331, Total Reward: -66, Explore Rate: 0.046151012016203, Learning Rate: 0.046151012016203\n",
      "Episode: 332, Total Reward: 92, Explore Rate: 0.04579130343650595, Learning Rate: 0.04579130343650595\n",
      "Episode: 333, Total Reward: 92, Explore Rate: 0.04543517401697875, Learning Rate: 0.04543517401697875\n",
      "Episode: 334, Total Reward: 92, Explore Rate: 0.04508258814438266, Learning Rate: 0.04508258814438266\n",
      "Episode: 335, Total Reward: 92, Explore Rate: 0.04473351055983658, Learning Rate: 0.04473351055983658\n",
      "Episode: 336, Total Reward: 92, Explore Rate: 0.044387906355291176, Learning Rate: 0.044387906355291176\n",
      "Episode: 337, Total Reward: 92, Explore Rate: 0.04404574097003798, Learning Rate: 0.04404574097003798\n",
      "Episode: 338, Total Reward: 88, Explore Rate: 0.04370698018725335, Learning Rate: 0.04370698018725335\n",
      "Episode: 339, Total Reward: 88, Explore Rate: 0.043371590130576676, Learning Rate: 0.043371590130576676\n",
      "Episode: 340, Total Reward: 82, Explore Rate: 0.04303953726072282, Learning Rate: 0.04303953726072282\n",
      "Episode: 341, Total Reward: 92, Explore Rate: 0.042710788372128064, Learning Rate: 0.042710788372128064\n",
      "Episode: 342, Total Reward: 92, Explore Rate: 0.042385310589629625, Learning Rate: 0.042385310589629625\n",
      "Episode: 343, Total Reward: -218, Explore Rate: 0.04206307136517797, Learning Rate: 0.04206307136517797\n",
      "Episode: 344, Total Reward: 92, Explore Rate: 0.04174403847458216, Learning Rate: 0.04174403847458216\n",
      "Episode: 345, Total Reward: 92, Explore Rate: 0.04142818001428726, Learning Rate: 0.04142818001428726\n",
      "Episode: 346, Total Reward: 88, Explore Rate: 0.04111546439818403, Learning Rate: 0.04111546439818403\n",
      "Episode: 347, Total Reward: 86, Explore Rate: 0.04080586035445025, Learning Rate: 0.04080586035445025\n",
      "Episode: 348, Total Reward: 92, Explore Rate: 0.040499336922423565, Learning Rate: 0.040499336922423565\n",
      "Episode: 349, Total Reward: 92, Explore Rate: 0.040195863449505306, Learning Rate: 0.040195863449505306\n",
      "Episode: 350, Total Reward: 90, Explore Rate: 0.039895409588095315, Learning Rate: 0.039895409588095315\n",
      "Episode: 351, Total Reward: 90, Explore Rate: 0.039597945292557044, Learning Rate: 0.039597945292557044\n",
      "Episode: 352, Total Reward: 92, Explore Rate: 0.03930344081621308, Learning Rate: 0.03930344081621308\n",
      "Episode: 353, Total Reward: 92, Explore Rate: 0.03901186670837034, Learning Rate: 0.03901186670837034\n",
      "Episode: 354, Total Reward: 92, Explore Rate: 0.03872319381137508, Learning Rate: 0.03872319381137508\n",
      "Episode: 355, Total Reward: 92, Explore Rate: 0.03843739325769703, Learning Rate: 0.03843739325769703\n",
      "Episode: 356, Total Reward: 92, Explore Rate: 0.03815443646704266, Learning Rate: 0.03815443646704266\n",
      "Episode: 357, Total Reward: 92, Explore Rate: 0.03787429514349709, Learning Rate: 0.03787429514349709\n",
      "Episode: 358, Total Reward: 92, Explore Rate: 0.03759694127269454, Learning Rate: 0.03759694127269454\n",
      "Episode: 359, Total Reward: 92, Explore Rate: 0.037322347119016795, Learning Rate: 0.037322347119016795\n",
      "Episode: 360, Total Reward: -654, Explore Rate: 0.03705048522281963, Learning Rate: 0.03705048522281963\n",
      "Episode: 361, Total Reward: -200, Explore Rate: 0.03678132839768691, Learning Rate: 0.03678132839768691\n",
      "Episode: 362, Total Reward: -200, Explore Rate: 0.036514849727711796, Learning Rate: 0.036514849727711796\n",
      "Episode: 363, Total Reward: -200, Explore Rate: 0.03625102256480524, Learning Rate: 0.03625102256480524\n",
      "Episode: 364, Total Reward: -209, Explore Rate: 0.03598982052603108, Learning Rate: 0.03598982052603108\n",
      "Episode: 365, Total Reward: -84, Explore Rate: 0.0357312174909678, Learning Rate: 0.0357312174909678\n",
      "Episode: 366, Total Reward: 92, Explore Rate: 0.03547518759909634, Learning Rate: 0.03547518759909634\n",
      "Episode: 367, Total Reward: 92, Explore Rate: 0.035221705247214206, Learning Rate: 0.035221705247214206\n",
      "Episode: 368, Total Reward: 92, Explore Rate: 0.03497074508687494, Learning Rate: 0.03497074508687494\n",
      "Episode: 369, Total Reward: 92, Explore Rate: 0.034722282021853394, Learning Rate: 0.034722282021853394\n",
      "Episode: 370, Total Reward: 92, Explore Rate: 0.034476291205635994, Learning Rate: 0.034476291205635994\n",
      "Episode: 371, Total Reward: 92, Explore Rate: 0.034232748038936146, Learning Rate: 0.034232748038936146\n",
      "Episode: 372, Total Reward: 92, Explore Rate: 0.0339916281672342, Learning Rate: 0.0339916281672342\n",
      "Episode: 373, Total Reward: 92, Explore Rate: 0.03375290747834208, Learning Rate: 0.03375290747834208\n",
      "Episode: 374, Total Reward: 86, Explore Rate: 0.033516562099991945, Learning Rate: 0.033516562099991945\n",
      "Episode: 375, Total Reward: 90, Explore Rate: 0.03328256839744902, Learning Rate: 0.03328256839744902\n",
      "Episode: 376, Total Reward: 92, Explore Rate: 0.03305090297114803, Learning Rate: 0.03305090297114803\n",
      "Episode: 377, Total Reward: 92, Explore Rate: 0.03282154265435332, Learning Rate: 0.03282154265435332\n",
      "Episode: 378, Total Reward: 92, Explore Rate: 0.03259446451084204, Learning Rate: 0.03259446451084204\n",
      "Episode: 379, Total Reward: 92, Explore Rate: 0.03236964583261064, Learning Rate: 0.03236964583261064\n",
      "Episode: 380, Total Reward: 92, Explore Rate: 0.03214706413760394, Learning Rate: 0.03214706413760394\n",
      "Episode: 381, Total Reward: 92, Explore Rate: 0.03192669716746694, Learning Rate: 0.03192669716746694\n",
      "Episode: 382, Total Reward: 90, Explore Rate: 0.031708522885318995, Learning Rate: 0.031708522885318995\n",
      "Episode: 383, Total Reward: 92, Explore Rate: 0.031492519473550085, Learning Rate: 0.031492519473550085\n",
      "Episode: 384, Total Reward: 90, Explore Rate: 0.031278665331639026, Learning Rate: 0.031278665331639026\n",
      "Episode: 385, Total Reward: 92, Explore Rate: 0.031066939073993396, Learning Rate: 0.031066939073993396\n",
      "Episode: 386, Total Reward: 92, Explore Rate: 0.030857319527811018, Learning Rate: 0.030857319527811018\n",
      "Episode: 387, Total Reward: 92, Explore Rate: 0.030649785730962574, Learning Rate: 0.030649785730962574\n",
      "Episode: 388, Total Reward: 92, Explore Rate: 0.030444316929895437, Learning Rate: 0.030444316929895437\n",
      "Episode: 389, Total Reward: 92, Explore Rate: 0.030240892577558277, Learning Rate: 0.030240892577558277\n",
      "Episode: 390, Total Reward: 90, Explore Rate: 0.030039492331346347, Learning Rate: 0.030039492331346347\n",
      "Episode: 391, Total Reward: 82, Explore Rate: 0.029840096051067175, Learning Rate: 0.029840096051067175\n",
      "Episode: 392, Total Reward: 92, Explore Rate: 0.029642683796926583, Learning Rate: 0.029642683796926583\n",
      "Episode: 393, Total Reward: 92, Explore Rate: 0.02944723582753464, Learning Rate: 0.02944723582753464\n",
      "Episode: 394, Total Reward: 90, Explore Rate: 0.029253732597931535, Learning Rate: 0.029253732597931535\n",
      "Episode: 395, Total Reward: 90, Explore Rate: 0.029062154757633053, Learning Rate: 0.029062154757633053\n",
      "Episode: 396, Total Reward: 90, Explore Rate: 0.02887248314869552, Learning Rate: 0.02887248314869552\n",
      "Episode: 397, Total Reward: 92, Explore Rate: 0.028684698803799973, Learning Rate: 0.028684698803799973\n",
      "Episode: 398, Total Reward: 92, Explore Rate: 0.02849878294435545, Learning Rate: 0.02849878294435545\n",
      "Episode: 399, Total Reward: 92, Explore Rate: 0.02831471697862105, Learning Rate: 0.02831471697862105\n",
      "Episode: 400, Total Reward: 92, Explore Rate: 0.028132482499846838, Learning Rate: 0.028132482499846838\n",
      "Episode: 401, Total Reward: 92, Explore Rate: 0.027952061284433068, Learning Rate: 0.027952061284433068\n",
      "Episode: 402, Total Reward: 92, Explore Rate: 0.02777343529010782, Learning Rate: 0.02777343529010782\n",
      "Episode: 403, Total Reward: 92, Explore Rate: 0.027596586654122846, Learning Rate: 0.027596586654122846\n",
      "Episode: 404, Total Reward: 92, Explore Rate: 0.027421497691467157, Learning Rate: 0.027421497691467157\n",
      "Episode: 405, Total Reward: 92, Explore Rate: 0.02724815089309858, Learning Rate: 0.02724815089309858\n",
      "Episode: 406, Total Reward: 92, Explore Rate: 0.0270765289241928, Learning Rate: 0.0270765289241928\n",
      "Episode: 407, Total Reward: 92, Explore Rate: 0.026906614622409945, Learning Rate: 0.026906614622409945\n",
      "Episode: 408, Total Reward: 92, Explore Rate: 0.026738390996178224, Learning Rate: 0.026738390996178224\n",
      "Episode: 409, Total Reward: 92, Explore Rate: 0.026571841222994823, Learning Rate: 0.026571841222994823\n",
      "Episode: 410, Total Reward: 92, Explore Rate: 0.026406948647743643, Learning Rate: 0.026406948647743643\n",
      "Episode: 411, Total Reward: 92, Explore Rate: 0.026243696781029717, Learning Rate: 0.026243696781029717\n",
      "Episode: 412, Total Reward: 92, Explore Rate: 0.026082069297530375, Learning Rate: 0.026082069297530375\n",
      "Episode: 413, Total Reward: 92, Explore Rate: 0.02592205003436255, Learning Rate: 0.02592205003436255\n",
      "Episode: 414, Total Reward: 92, Explore Rate: 0.025763622989466578, Learning Rate: 0.025763622989466578\n",
      "Episode: 415, Total Reward: 92, Explore Rate: 0.025606772320005942, Learning Rate: 0.025606772320005942\n",
      "Episode: 416, Total Reward: 92, Explore Rate: 0.025451482340783003, Learning Rate: 0.025451482340783003\n",
      "Episode: 417, Total Reward: 92, Explore Rate: 0.02529773752267042, Learning Rate: 0.02529773752267042\n",
      "Episode: 418, Total Reward: 92, Explore Rate: 0.025145522491058264, Learning Rate: 0.025145522491058264\n",
      "Episode: 419, Total Reward: 92, Explore Rate: 0.02499482202431651, Learning Rate: 0.02499482202431651\n",
      "Episode: 420, Total Reward: 92, Explore Rate: 0.024845621052272927, Learning Rate: 0.024845621052272927\n",
      "Episode: 421, Total Reward: 92, Explore Rate: 0.024697904654705963, Learning Rate: 0.024697904654705963\n",
      "Episode: 422, Total Reward: 92, Explore Rate: 0.024551658059852766, Learning Rate: 0.024551658059852766\n",
      "Episode: 423, Total Reward: 92, Explore Rate: 0.024406866642931964, Learning Rate: 0.024406866642931964\n",
      "Episode: 424, Total Reward: 92, Explore Rate: 0.024263515924681227, Learning Rate: 0.024263515924681227\n",
      "Episode: 425, Total Reward: 92, Explore Rate: 0.024121591569909263, Learning Rate: 0.024121591569909263\n",
      "Episode: 426, Total Reward: 92, Explore Rate: 0.023981079386062323, Learning Rate: 0.023981079386062323\n",
      "Episode: 427, Total Reward: 88, Explore Rate: 0.023841965321804916, Learning Rate: 0.023841965321804916\n",
      "Episode: 428, Total Reward: 90, Explore Rate: 0.023704235465614704, Learning Rate: 0.023704235465614704\n",
      "Episode: 429, Total Reward: 92, Explore Rate: 0.023567876044391298, Learning Rate: 0.023567876044391298\n",
      "Episode: 430, Total Reward: 92, Explore Rate: 0.023432873422078924, Learning Rate: 0.023432873422078924\n",
      "Episode: 431, Total Reward: 92, Explore Rate: 0.02329921409830285, Learning Rate: 0.02329921409830285\n",
      "Episode: 432, Total Reward: 92, Explore Rate: 0.02316688470701933, Learning Rate: 0.02316688470701933\n",
      "Episode: 433, Total Reward: 92, Explore Rate: 0.023035872015178954, Learning Rate: 0.023035872015178954\n",
      "Episode: 434, Total Reward: 92, Explore Rate: 0.022906162921403357, Learning Rate: 0.022906162921403357\n",
      "Episode: 435, Total Reward: 92, Explore Rate: 0.022777744454675064, Learning Rate: 0.022777744454675064\n",
      "Episode: 436, Total Reward: 92, Explore Rate: 0.0226506037730404, Learning Rate: 0.0226506037730404\n",
      "Episode: 437, Total Reward: 92, Explore Rate: 0.02252472816232525, Learning Rate: 0.02252472816232525\n",
      "Episode: 438, Total Reward: 92, Explore Rate: 0.022400105034863643, Learning Rate: 0.022400105034863643\n",
      "Episode: 439, Total Reward: 92, Explore Rate: 0.02227672192823897, Learning Rate: 0.02227672192823897\n",
      "Episode: 440, Total Reward: 90, Explore Rate: 0.02215456650403775, Learning Rate: 0.02215456650403775\n",
      "Episode: 441, Total Reward: 86, Explore Rate: 0.022033626546615788, Learning Rate: 0.022033626546615788\n",
      "Episode: 442, Total Reward: 92, Explore Rate: 0.021913889961876536, Learning Rate: 0.021913889961876536\n",
      "Episode: 443, Total Reward: 92, Explore Rate: 0.02179534477606175, Learning Rate: 0.02179534477606175\n",
      "Episode: 444, Total Reward: 92, Explore Rate: 0.02167797913455405, Learning Rate: 0.02167797913455405\n",
      "Episode: 445, Total Reward: 88, Explore Rate: 0.021561781300691488, Learning Rate: 0.021561781300691488\n",
      "Episode: 446, Total Reward: 92, Explore Rate: 0.02144673965459385, Learning Rate: 0.02144673965459385\n",
      "Episode: 447, Total Reward: 92, Explore Rate: 0.021332842692000656, Learning Rate: 0.021332842692000656\n",
      "Episode: 448, Total Reward: 92, Explore Rate: 0.021220079023120713, Learning Rate: 0.021220079023120713\n",
      "Episode: 449, Total Reward: 92, Explore Rate: 0.02110843737149319, Learning Rate: 0.02110843737149319\n",
      "Episode: 450, Total Reward: 92, Explore Rate: 0.02099790657285988, Learning Rate: 0.02099790657285988\n",
      "Episode: 451, Total Reward: 92, Explore Rate: 0.020888475574048812, Learning Rate: 0.020888475574048812\n",
      "Episode: 452, Total Reward: 92, Explore Rate: 0.020780133431868894, Learning Rate: 0.020780133431868894\n",
      "Episode: 453, Total Reward: 90, Explore Rate: 0.020672869312015653, Learning Rate: 0.020672869312015653\n",
      "Episode: 454, Total Reward: 90, Explore Rate: 0.020566672487987697, Learning Rate: 0.020566672487987697\n",
      "Episode: 455, Total Reward: 90, Explore Rate: 0.02046153234001413, Learning Rate: 0.02046153234001413\n",
      "Episode: 456, Total Reward: 92, Explore Rate: 0.02035743835399253, Learning Rate: 0.02035743835399253\n",
      "Episode: 457, Total Reward: 92, Explore Rate: 0.020254380120437558, Learning Rate: 0.020254380120437558\n",
      "Episode: 458, Total Reward: 92, Explore Rate: 0.02015234733343998, Learning Rate: 0.02015234733343998\n",
      "Episode: 459, Total Reward: 92, Explore Rate: 0.020051329789636065, Learning Rate: 0.020051329789636065\n",
      "Episode: 460, Total Reward: 92, Explore Rate: 0.01995131738718724, Learning Rate: 0.01995131738718724\n",
      "Episode: 461, Total Reward: 92, Explore Rate: 0.019852300124769934, Learning Rate: 0.019852300124769934\n",
      "Episode: 462, Total Reward: 92, Explore Rate: 0.019754268100575387, Learning Rate: 0.019754268100575387\n",
      "Episode: 463, Total Reward: 92, Explore Rate: 0.019657211511319474, Learning Rate: 0.019657211511319474\n",
      "Episode: 464, Total Reward: 92, Explore Rate: 0.0195611206512624, Learning Rate: 0.0195611206512624\n",
      "Episode: 465, Total Reward: 92, Explore Rate: 0.01946598591123807, Learning Rate: 0.01946598591123807\n",
      "Episode: 466, Total Reward: 92, Explore Rate: 0.01937179777769322, Learning Rate: 0.01937179777769322\n",
      "Episode: 467, Total Reward: 92, Explore Rate: 0.019278546831735997, Learning Rate: 0.019278546831735997\n",
      "Episode: 468, Total Reward: 92, Explore Rate: 0.019186223748194096, Learning Rate: 0.019186223748194096\n",
      "Episode: 469, Total Reward: 92, Explore Rate: 0.01909481929468222, Learning Rate: 0.01909481929468222\n",
      "Episode: 470, Total Reward: 92, Explore Rate: 0.019004324330678855, Learning Rate: 0.019004324330678855\n",
      "Episode: 471, Total Reward: 92, Explore Rate: 0.018914729806612192, Learning Rate: 0.018914729806612192\n",
      "Episode: 472, Total Reward: 92, Explore Rate: 0.01882602676295516, Learning Rate: 0.01882602676295516\n",
      "Episode: 473, Total Reward: 92, Explore Rate: 0.018738206329329453, Learning Rate: 0.018738206329329453\n",
      "Episode: 474, Total Reward: 92, Explore Rate: 0.018651259723618557, Learning Rate: 0.018651259723618557\n",
      "Episode: 475, Total Reward: 92, Explore Rate: 0.01856517825108943, Learning Rate: 0.01856517825108943\n",
      "Episode: 476, Total Reward: 92, Explore Rate: 0.018479953303523082, Learning Rate: 0.018479953303523082\n",
      "Episode: 477, Total Reward: -1010, Explore Rate: 0.018395576358353725, Learning Rate: 0.018395576358353725\n",
      "Episode: 478, Total Reward: 92, Explore Rate: 0.018312038977816556, Learning Rate: 0.018312038977816556\n",
      "Episode: 479, Total Reward: 92, Explore Rate: 0.018229332808103887, Learning Rate: 0.018229332808103887\n",
      "Episode: 480, Total Reward: 92, Explore Rate: 0.01814744957852983, Learning Rate: 0.01814744957852983\n",
      "Episode: 481, Total Reward: 92, Explore Rate: 0.01806638110070318, Learning Rate: 0.01806638110070318\n",
      "Episode: 482, Total Reward: 92, Explore Rate: 0.01798611926770862, Learning Rate: 0.01798611926770862\n",
      "Episode: 483, Total Reward: 92, Explore Rate: 0.017906656053295947, Learning Rate: 0.017906656053295947\n",
      "Episode: 484, Total Reward: 92, Explore Rate: 0.017827983511077505, Learning Rate: 0.017827983511077505\n",
      "Episode: 485, Total Reward: 92, Explore Rate: 0.01775009377373351, Learning Rate: 0.01775009377373351\n",
      "Episode: 486, Total Reward: 90, Explore Rate: 0.017672979052225327, Learning Rate: 0.017672979052225327\n",
      "Episode: 487, Total Reward: 92, Explore Rate: 0.017596631635016534, Learning Rate: 0.017596631635016534\n",
      "Episode: 488, Total Reward: 92, Explore Rate: 0.01752104388730179, Learning Rate: 0.01752104388730179\n",
      "Episode: 489, Total Reward: 92, Explore Rate: 0.017446208250243338, Learning Rate: 0.017446208250243338\n",
      "Episode: 490, Total Reward: 92, Explore Rate: 0.017372117240215094, Learning Rate: 0.017372117240215094\n",
      "Episode: 491, Total Reward: 90, Explore Rate: 0.01729876344805433, Learning Rate: 0.01729876344805433\n",
      "Episode: 492, Total Reward: 92, Explore Rate: 0.0172261395383207, Learning Rate: 0.0172261395383207\n",
      "Episode: 493, Total Reward: 90, Explore Rate: 0.017154238248562697, Learning Rate: 0.017154238248562697\n",
      "Episode: 494, Total Reward: 90, Explore Rate: 0.017083052388591435, Learning Rate: 0.017083052388591435\n",
      "Episode: 495, Total Reward: 90, Explore Rate: 0.017012574839761596, Learning Rate: 0.017012574839761596\n",
      "Episode: 496, Total Reward: 92, Explore Rate: 0.01694279855425957, Learning Rate: 0.01694279855425957\n",
      "Episode: 497, Total Reward: 92, Explore Rate: 0.016873716554398652, Learning Rate: 0.016873716554398652\n",
      "Episode: 498, Total Reward: 92, Explore Rate: 0.016805321931921288, Learning Rate: 0.016805321931921288\n",
      "Episode: 499, Total Reward: 92, Explore Rate: 0.01673760784730824, Learning Rate: 0.01673760784730824\n",
      "Episode: 500, Total Reward: 92, Explore Rate: 0.016670567529094613, Learning Rate: 0.016670567529094613\n",
      "Episode: 501, Total Reward: 92, Explore Rate: 0.01660419427319272, Learning Rate: 0.01660419427319272\n",
      "Episode: 502, Total Reward: 92, Explore Rate: 0.016538481442221656, Learning Rate: 0.016538481442221656\n",
      "Episode: 503, Total Reward: 92, Explore Rate: 0.016473422464843575, Learning Rate: 0.016473422464843575\n",
      "Episode: 504, Total Reward: 92, Explore Rate: 0.01640901083510651, Learning Rate: 0.01640901083510651\n",
      "Episode: 505, Total Reward: 92, Explore Rate: 0.01634524011179382, Learning Rate: 0.01634524011179382\n",
      "Episode: 506, Total Reward: 86, Explore Rate: 0.016282103917780018, Learning Rate: 0.016282103917780018\n",
      "Episode: 507, Total Reward: 92, Explore Rate: 0.01621959593939311, Learning Rate: 0.01621959593939311\n",
      "Episode: 508, Total Reward: 92, Explore Rate: 0.016157709925783147, Learning Rate: 0.016157709925783147\n",
      "Episode: 509, Total Reward: 92, Explore Rate: 0.016096439688297208, Learning Rate: 0.016096439688297208\n",
      "Episode: 510, Total Reward: 92, Explore Rate: 0.016035779099860478, Learning Rate: 0.016035779099860478\n",
      "Episode: 511, Total Reward: 92, Explore Rate: 0.01597572209436357, Learning Rate: 0.01597572209436357\n",
      "Episode: 512, Total Reward: 92, Explore Rate: 0.015916262666055885, Learning Rate: 0.015916262666055885\n",
      "Episode: 513, Total Reward: 92, Explore Rate: 0.015857394868945038, Learning Rate: 0.015857394868945038\n",
      "Episode: 514, Total Reward: 92, Explore Rate: 0.015799112816202266, Learning Rate: 0.015799112816202266\n",
      "Episode: 515, Total Reward: 92, Explore Rate: 0.01574141067957372, Learning Rate: 0.01574141067957372\n",
      "Episode: 516, Total Reward: 92, Explore Rate: 0.01568428268879766, Learning Rate: 0.01568428268879766\n",
      "Episode: 517, Total Reward: 92, Explore Rate: 0.0156277231310274, Learning Rate: 0.0156277231310274\n",
      "Episode: 518, Total Reward: 92, Explore Rate: 0.015571726350260025, Learning Rate: 0.015571726350260025\n",
      "Episode: 519, Total Reward: 92, Explore Rate: 0.015516286746770792, Learning Rate: 0.015516286746770792\n",
      "Episode: 520, Total Reward: 92, Explore Rate: 0.015461398776553163, Learning Rate: 0.015461398776553163\n",
      "Episode: 521, Total Reward: 92, Explore Rate: 0.015407056950764372, Learning Rate: 0.015407056950764372\n",
      "Episode: 522, Total Reward: 92, Explore Rate: 0.01535325583517655, Learning Rate: 0.01535325583517655\n",
      "Episode: 523, Total Reward: 92, Explore Rate: 0.015299990049633304, Learning Rate: 0.015299990049633304\n",
      "Episode: 524, Total Reward: 92, Explore Rate: 0.015247254267511699, Learning Rate: 0.015247254267511699\n",
      "Episode: 525, Total Reward: 92, Explore Rate: 0.015195043215189571, Learning Rate: 0.015195043215189571\n",
      "Episode: 526, Total Reward: 92, Explore Rate: 0.015143351671518179, Learning Rate: 0.015143351671518179\n",
      "Episode: 527, Total Reward: 92, Explore Rate: 0.015092174467300075, Learning Rate: 0.015092174467300075\n",
      "Episode: 528, Total Reward: 92, Explore Rate: 0.015041506484772198, Learning Rate: 0.015041506484772198\n",
      "Episode: 529, Total Reward: 92, Explore Rate: 0.01499134265709407, Learning Rate: 0.01499134265709407\n",
      "Episode: 530, Total Reward: 90, Explore Rate: 0.014941677967841115, Learning Rate: 0.014941677967841115\n",
      "Episode: 531, Total Reward: 92, Explore Rate: 0.01489250745050302, Learning Rate: 0.01489250745050302\n",
      "Episode: 532, Total Reward: 92, Explore Rate: 0.014843826187987082, Learning Rate: 0.014843826187987082\n",
      "Episode: 533, Total Reward: 92, Explore Rate: 0.014795629312126479, Learning Rate: 0.014795629312126479\n",
      "Episode: 534, Total Reward: 92, Explore Rate: 0.014747912003193458, Learning Rate: 0.014747912003193458\n",
      "Episode: 535, Total Reward: 92, Explore Rate: 0.014700669489417359, Learning Rate: 0.014700669489417359\n",
      "Episode: 536, Total Reward: 92, Explore Rate: 0.014653897046507443, Learning Rate: 0.014653897046507443\n",
      "Episode: 537, Total Reward: 92, Explore Rate: 0.01460758999718044, Learning Rate: 0.01460758999718044\n",
      "Episode: 538, Total Reward: 92, Explore Rate: 0.014561743710692824, Learning Rate: 0.014561743710692824\n",
      "Episode: 539, Total Reward: 92, Explore Rate: 0.014516353602377746, Learning Rate: 0.014516353602377746\n",
      "Episode: 540, Total Reward: 92, Explore Rate: 0.01447141513318654, Learning Rate: 0.01447141513318654\n",
      "Episode: 541, Total Reward: 92, Explore Rate: 0.014426923809234849, Learning Rate: 0.014426923809234849\n",
      "Episode: 542, Total Reward: 92, Explore Rate: 0.014382875181353196, Learning Rate: 0.014382875181353196\n",
      "Episode: 543, Total Reward: 92, Explore Rate: 0.01433926484464209, Learning Rate: 0.01433926484464209\n",
      "Episode: 544, Total Reward: 92, Explore Rate: 0.014296088438031505, Learning Rate: 0.014296088438031505\n",
      "Episode: 545, Total Reward: 92, Explore Rate: 0.014253341643844817, Learning Rate: 0.014253341643844817\n",
      "Episode: 546, Total Reward: 92, Explore Rate: 0.014211020187366974, Learning Rate: 0.014211020187366974\n",
      "Episode: 547, Total Reward: 92, Explore Rate: 0.014169119836417065, Learning Rate: 0.014169119836417065\n",
      "Episode: 548, Total Reward: 92, Explore Rate: 0.01412763640092507, Learning Rate: 0.01412763640092507\n",
      "Episode: 549, Total Reward: 92, Explore Rate: 0.014086565732512882, Learning Rate: 0.014086565732512882\n",
      "Episode: 550, Total Reward: 92, Explore Rate: 0.014045903724079427, Learning Rate: 0.014045903724079427\n",
      "Episode: 551, Total Reward: 92, Explore Rate: 0.014005646309389977, Learning Rate: 0.014005646309389977\n",
      "Episode: 552, Total Reward: 92, Explore Rate: 0.013965789462669513, Learning Rate: 0.013965789462669513\n",
      "Episode: 553, Total Reward: 92, Explore Rate: 0.013926329198200155, Learning Rate: 0.013926329198200155\n",
      "Episode: 554, Total Reward: 92, Explore Rate: 0.013887261569922569, Learning Rate: 0.013887261569922569\n",
      "Episode: 555, Total Reward: 92, Explore Rate: 0.01384858267104137, Learning Rate: 0.01384858267104137\n",
      "Episode: 556, Total Reward: 92, Explore Rate: 0.013810288633634434, Learning Rate: 0.013810288633634434\n",
      "Episode: 557, Total Reward: 92, Explore Rate: 0.013772375628266116, Learning Rate: 0.013772375628266116\n",
      "Episode: 558, Total Reward: 92, Explore Rate: 0.013734839863604284, Learning Rate: 0.013734839863604284\n",
      "Episode: 559, Total Reward: 92, Explore Rate: 0.013697677586041186, Learning Rate: 0.013697677586041186\n",
      "Episode: 560, Total Reward: 92, Explore Rate: 0.0136608850793181, Learning Rate: 0.0136608850793181\n",
      "Episode: 561, Total Reward: 92, Explore Rate: 0.013624458664153696, Learning Rate: 0.013624458664153696\n",
      "Episode: 562, Total Reward: 92, Explore Rate: 0.013588394697876097, Learning Rate: 0.013588394697876097\n",
      "Episode: 563, Total Reward: 92, Explore Rate: 0.013552689574058628, Learning Rate: 0.013552689574058628\n",
      "Episode: 564, Total Reward: 92, Explore Rate: 0.013517339722159148, Learning Rate: 0.013517339722159148\n",
      "Episode: 565, Total Reward: 92, Explore Rate: 0.013482341607163007, Learning Rate: 0.013482341607163007\n",
      "Episode: 566, Total Reward: 92, Explore Rate: 0.013447691729229546, Learning Rate: 0.013447691729229546\n",
      "Episode: 567, Total Reward: 92, Explore Rate: 0.013413386623342096, Learning Rate: 0.013413386623342096\n",
      "Episode: 568, Total Reward: 92, Explore Rate: 0.013379422858961477, Learning Rate: 0.013379422858961477\n",
      "Episode: 569, Total Reward: 92, Explore Rate: 0.013345797039682946, Learning Rate: 0.013345797039682946\n",
      "Episode: 570, Total Reward: 92, Explore Rate: 0.01331250580289656, Learning Rate: 0.01331250580289656\n",
      "Episode: 571, Total Reward: 92, Explore Rate: 0.013279545819450893, Learning Rate: 0.013279545819450893\n",
      "Episode: 572, Total Reward: 92, Explore Rate: 0.013246913793320138, Learning Rate: 0.013246913793320138\n",
      "Episode: 573, Total Reward: 92, Explore Rate: 0.01321460646127448, Learning Rate: 0.01321460646127448\n",
      "Episode: 574, Total Reward: 92, Explore Rate: 0.013182620592553802, Learning Rate: 0.013182620592553802\n",
      "Episode: 575, Total Reward: 92, Explore Rate: 0.01315095298854457, Learning Rate: 0.01315095298854457\n",
      "Episode: 576, Total Reward: 92, Explore Rate: 0.013119600482459998, Learning Rate: 0.013119600482459998\n",
      "Episode: 577, Total Reward: 86, Explore Rate: 0.013088559939023343, Learning Rate: 0.013088559939023343\n",
      "Episode: 578, Total Reward: 86, Explore Rate: 0.013057828254154401, Learning Rate: 0.013057828254154401\n",
      "Episode: 579, Total Reward: 92, Explore Rate: 0.013027402354659073, Learning Rate: 0.013027402354659073\n",
      "Episode: 580, Total Reward: 92, Explore Rate: 0.012997279197922058, Learning Rate: 0.012997279197922058\n",
      "Episode: 581, Total Reward: 92, Explore Rate: 0.012967455771602571, Learning Rate: 0.012967455771602571\n",
      "Episode: 582, Total Reward: 92, Explore Rate: 0.012937929093333135, Learning Rate: 0.012937929093333135\n",
      "Episode: 583, Total Reward: 92, Explore Rate: 0.012908696210421315, Learning Rate: 0.012908696210421315\n",
      "Episode: 584, Total Reward: 92, Explore Rate: 0.012879754199554458, Learning Rate: 0.012879754199554458\n",
      "Episode: 585, Total Reward: 92, Explore Rate: 0.012851100166507357, Learning Rate: 0.012851100166507357\n",
      "Episode: 586, Total Reward: 92, Explore Rate: 0.012822731245852837, Learning Rate: 0.012822731245852837\n",
      "Episode: 587, Total Reward: 92, Explore Rate: 0.012794644600675184, Learning Rate: 0.012794644600675184\n",
      "Episode: 588, Total Reward: 92, Explore Rate: 0.012766837422286476, Learning Rate: 0.012766837422286476\n",
      "Episode: 589, Total Reward: 92, Explore Rate: 0.012739306929945703, Learning Rate: 0.012739306929945703\n",
      "Episode: 590, Total Reward: 92, Explore Rate: 0.012712050370580685, Learning Rate: 0.012712050370580685\n",
      "Episode: 591, Total Reward: 92, Explore Rate: 0.012685065018512777, Learning Rate: 0.012685065018512777\n",
      "Episode: 592, Total Reward: 92, Explore Rate: 0.012658348175184284, Learning Rate: 0.012658348175184284\n",
      "Episode: 593, Total Reward: 92, Explore Rate: 0.012631897168888604, Learning Rate: 0.012631897168888604\n",
      "Episode: 594, Total Reward: 92, Explore Rate: 0.012605709354503067, Learning Rate: 0.012605709354503067\n",
      "Episode: 595, Total Reward: 92, Explore Rate: 0.012579782113224414, Learning Rate: 0.012579782113224414\n",
      "Episode: 596, Total Reward: 92, Explore Rate: 0.012554112852306908, Learning Rate: 0.012554112852306908\n",
      "Episode: 597, Total Reward: 92, Explore Rate: 0.012528699004803068, Learning Rate: 0.012528699004803068\n",
      "Episode: 598, Total Reward: 92, Explore Rate: 0.012503538029306963, Learning Rate: 0.012503538029306963\n",
      "Episode: 599, Total Reward: 92, Explore Rate: 0.012478627409700078, Learning Rate: 0.012478627409700078\n",
      "Episode: 600, Total Reward: 92, Explore Rate: 0.012453964654899695, Learning Rate: 0.012453964654899695\n",
      "Episode: 601, Total Reward: 92, Explore Rate: 0.012429547298609778, Learning Rate: 0.012429547298609778\n",
      "Episode: 602, Total Reward: 92, Explore Rate: 0.01240537289907435, Learning Rate: 0.01240537289907435\n",
      "Episode: 603, Total Reward: 92, Explore Rate: 0.012381439038833314, Learning Rate: 0.012381439038833314\n",
      "Episode: 604, Total Reward: 92, Explore Rate: 0.012357743324480702, Learning Rate: 0.012357743324480702\n",
      "Episode: 605, Total Reward: 92, Explore Rate: 0.01233428338642533, Learning Rate: 0.01233428338642533\n",
      "Episode: 606, Total Reward: 92, Explore Rate: 0.012311056878653841, Learning Rate: 0.012311056878653841\n",
      "Episode: 607, Total Reward: 92, Explore Rate: 0.012288061478496108, Learning Rate: 0.012288061478496108\n",
      "Episode: 608, Total Reward: 90, Explore Rate: 0.012265294886392948, Learning Rate: 0.012265294886392948\n",
      "Episode: 609, Total Reward: 88, Explore Rate: 0.01224275482566618, Learning Rate: 0.01224275482566618\n",
      "Episode: 610, Total Reward: 92, Explore Rate: 0.012220439042290943, Learning Rate: 0.012220439042290943\n",
      "Episode: 611, Total Reward: 92, Explore Rate: 0.012198345304670311, Learning Rate: 0.012198345304670311\n",
      "Episode: 612, Total Reward: 92, Explore Rate: 0.012176471403412107, Learning Rate: 0.012176471403412107\n",
      "Episode: 613, Total Reward: 92, Explore Rate: 0.012154815151107974, Learning Rate: 0.012154815151107974\n",
      "Episode: 614, Total Reward: 92, Explore Rate: 0.012133374382114637, Learning Rate: 0.012133374382114637\n",
      "Episode: 615, Total Reward: 92, Explore Rate: 0.012112146952337331, Learning Rate: 0.012112146952337331\n",
      "Episode: 616, Total Reward: 92, Explore Rate: 0.012091130739015387, Learning Rate: 0.012091130739015387\n",
      "Episode: 617, Total Reward: 92, Explore Rate: 0.012070323640509958, Learning Rate: 0.012070323640509958\n",
      "Episode: 618, Total Reward: 92, Explore Rate: 0.012049723576093858, Learning Rate: 0.012049723576093858\n",
      "Episode: 619, Total Reward: 92, Explore Rate: 0.012029328485743472, Learning Rate: 0.012029328485743472\n",
      "Episode: 620, Total Reward: 92, Explore Rate: 0.012009136329932777, Learning Rate: 0.012009136329932777\n",
      "Episode: 621, Total Reward: 92, Explore Rate: 0.01198914508942936, Learning Rate: 0.01198914508942936\n",
      "Episode: 622, Total Reward: 92, Explore Rate: 0.011969352765092513, Learning Rate: 0.011969352765092513\n",
      "Episode: 623, Total Reward: 92, Explore Rate: 0.011949757377673304, Learning Rate: 0.011949757377673304\n",
      "Episode: 624, Total Reward: 92, Explore Rate: 0.01193035696761667, Learning Rate: 0.01193035696761667\n",
      "Episode: 625, Total Reward: 92, Explore Rate: 0.011911149594865432, Learning Rate: 0.011911149594865432\n",
      "Episode: 626, Total Reward: 92, Explore Rate: 0.011892133338666311, Learning Rate: 0.011892133338666311\n",
      "Episode: 627, Total Reward: 92, Explore Rate: 0.01187330629737784, Learning Rate: 0.01187330629737784\n",
      "Episode: 628, Total Reward: 92, Explore Rate: 0.011854666588280199, Learning Rate: 0.011854666588280199\n",
      "Episode: 629, Total Reward: 92, Explore Rate: 0.011836212347386948, Learning Rate: 0.011836212347386948\n",
      "Episode: 630, Total Reward: 92, Explore Rate: 0.011817941729258619, Learning Rate: 0.011817941729258619\n",
      "Episode: 631, Total Reward: 92, Explore Rate: 0.011799852906818169, Learning Rate: 0.011799852906818169\n",
      "Episode: 632, Total Reward: 92, Explore Rate: 0.011781944071168286, Learning Rate: 0.011781944071168286\n",
      "Episode: 633, Total Reward: 90, Explore Rate: 0.011764213431410478, Learning Rate: 0.011764213431410478\n",
      "Episode: 634, Total Reward: 92, Explore Rate: 0.011746659214465993, Learning Rate: 0.011746659214465993\n",
      "Episode: 635, Total Reward: 92, Explore Rate: 0.011729279664898506, Learning Rate: 0.011729279664898506\n",
      "Episode: 636, Total Reward: 92, Explore Rate: 0.011712073044738584, Learning Rate: 0.011712073044738584\n",
      "Episode: 637, Total Reward: 92, Explore Rate: 0.011695037633309868, Learning Rate: 0.011695037633309868\n",
      "Episode: 638, Total Reward: 92, Explore Rate: 0.011678171727057018, Learning Rate: 0.011678171727057018\n",
      "Episode: 639, Total Reward: 92, Explore Rate: 0.011661473639375353, Learning Rate: 0.011661473639375353\n",
      "Episode: 640, Total Reward: 92, Explore Rate: 0.011644941700442194, Learning Rate: 0.011644941700442194\n",
      "Episode: 641, Total Reward: 92, Explore Rate: 0.011628574257049868, Learning Rate: 0.011628574257049868\n",
      "Episode: 642, Total Reward: 92, Explore Rate: 0.011612369672440398, Learning Rate: 0.011612369672440398\n",
      "Episode: 643, Total Reward: 92, Explore Rate: 0.011596326326141817, Learning Rate: 0.011596326326141817\n",
      "Episode: 644, Total Reward: 92, Explore Rate: 0.011580442613806126, Learning Rate: 0.011580442613806126\n",
      "Episode: 645, Total Reward: 92, Explore Rate: 0.011564716947048855, Learning Rate: 0.011564716947048855\n",
      "Episode: 646, Total Reward: 92, Explore Rate: 0.011549147753290225, Learning Rate: 0.011549147753290225\n",
      "Episode: 647, Total Reward: 92, Explore Rate: 0.011533733475597885, Learning Rate: 0.011533733475597885\n",
      "Episode: 648, Total Reward: 92, Explore Rate: 0.011518472572531219, Learning Rate: 0.011518472572531219\n",
      "Episode: 649, Total Reward: 92, Explore Rate: 0.011503363517987204, Learning Rate: 0.011503363517987204\n",
      "Episode: 650, Total Reward: 88, Explore Rate: 0.011488404801047796, Learning Rate: 0.011488404801047796\n",
      "Episode: 651, Total Reward: 92, Explore Rate: 0.011473594925828836, Learning Rate: 0.011473594925828836\n",
      "Episode: 652, Total Reward: 92, Explore Rate: 0.011458932411330456, Learning Rate: 0.011458932411330456\n",
      "Episode: 653, Total Reward: 92, Explore Rate: 0.01144441579128899, Learning Rate: 0.01144441579128899\n",
      "Episode: 654, Total Reward: 92, Explore Rate: 0.011430043614030338, Learning Rate: 0.011430043614030338\n",
      "Episode: 655, Total Reward: 92, Explore Rate: 0.011415814442324796, Learning Rate: 0.011415814442324796\n",
      "Episode: 656, Total Reward: 92, Explore Rate: 0.011401726853243335, Learning Rate: 0.011401726853243335\n",
      "Episode: 657, Total Reward: 92, Explore Rate: 0.011387779438015309, Learning Rate: 0.011387779438015309\n",
      "Episode: 658, Total Reward: 92, Explore Rate: 0.011373970801887569, Learning Rate: 0.011373970801887569\n",
      "Episode: 659, Total Reward: 92, Explore Rate: 0.011360299563985, Learning Rate: 0.011360299563985\n",
      "Episode: 660, Total Reward: 92, Explore Rate: 0.011346764357172414, Learning Rate: 0.011346764357172414\n",
      "Episode: 661, Total Reward: 92, Explore Rate: 0.011333363827917855, Learning Rate: 0.011333363827917855\n",
      "Episode: 662, Total Reward: 92, Explore Rate: 0.011320096636157226, Learning Rate: 0.011320096636157226\n",
      "Episode: 663, Total Reward: 86, Explore Rate: 0.011306961455160297, Learning Rate: 0.011306961455160297\n",
      "Episode: 664, Total Reward: 92, Explore Rate: 0.011293956971398022, Learning Rate: 0.011293956971398022\n",
      "Episode: 665, Total Reward: 92, Explore Rate: 0.01128108188441119, Learning Rate: 0.01128108188441119\n",
      "Episode: 666, Total Reward: 92, Explore Rate: 0.01126833490668037, Learning Rate: 0.01126833490668037\n",
      "Episode: 667, Total Reward: 92, Explore Rate: 0.011255714763497167, Learning Rate: 0.011255714763497167\n",
      "Episode: 668, Total Reward: 92, Explore Rate: 0.011243220192836747, Learning Rate: 0.011243220192836747\n",
      "Episode: 669, Total Reward: 92, Explore Rate: 0.011230849945231628, Learning Rate: 0.011230849945231628\n",
      "Episode: 670, Total Reward: 92, Explore Rate: 0.011218602783646746, Learning Rate: 0.011218602783646746\n",
      "Episode: 671, Total Reward: 92, Explore Rate: 0.011206477483355735, Learning Rate: 0.011206477483355735\n",
      "Episode: 672, Total Reward: 90, Explore Rate: 0.01119447283181846, Learning Rate: 0.01119447283181846\n",
      "Episode: 673, Total Reward: 92, Explore Rate: 0.011182587628559764, Learning Rate: 0.011182587628559764\n",
      "Episode: 674, Total Reward: 92, Explore Rate: 0.011170820685049418, Learning Rate: 0.011170820685049418\n",
      "Episode: 675, Total Reward: 92, Explore Rate: 0.011159170824583262, Learning Rate: 0.011159170824583262\n",
      "Episode: 676, Total Reward: 90, Explore Rate: 0.011147636882165546, Learning Rate: 0.011147636882165546\n",
      "Episode: 677, Total Reward: 92, Explore Rate: 0.011136217704392411, Learning Rate: 0.011136217704392411\n",
      "Episode: 678, Total Reward: 92, Explore Rate: 0.011124912149336568, Learning Rate: 0.011124912149336568\n",
      "Episode: 679, Total Reward: 92, Explore Rate: 0.01111371908643309, Learning Rate: 0.01111371908643309\n",
      "Episode: 680, Total Reward: 92, Explore Rate: 0.011102637396366355, Learning Rate: 0.011102637396366355\n",
      "Episode: 681, Total Reward: 92, Explore Rate: 0.011091665970958125, Learning Rate: 0.011091665970958125\n",
      "Episode: 682, Total Reward: 92, Explore Rate: 0.011080803713056716, Learning Rate: 0.011080803713056716\n",
      "Episode: 683, Total Reward: 92, Explore Rate: 0.011070049536427285, Learning Rate: 0.011070049536427285\n",
      "Episode: 684, Total Reward: 92, Explore Rate: 0.011059402365643208, Learning Rate: 0.011059402365643208\n",
      "Episode: 685, Total Reward: 92, Explore Rate: 0.011048861135978534, Learning Rate: 0.011048861135978534\n",
      "Episode: 686, Total Reward: 92, Explore Rate: 0.011038424793301511, Learning Rate: 0.011038424793301511\n",
      "Episode: 687, Total Reward: 92, Explore Rate: 0.011028092293969175, Learning Rate: 0.011028092293969175\n",
      "Episode: 688, Total Reward: 92, Explore Rate: 0.011017862604722983, Learning Rate: 0.011017862604722983\n",
      "Episode: 689, Total Reward: 90, Explore Rate: 0.011007734702585483, Learning Rate: 0.011007734702585483\n",
      "Episode: 690, Total Reward: 92, Explore Rate: 0.010997707574758025, Learning Rate: 0.010997707574758025\n",
      "Episode: 691, Total Reward: 92, Explore Rate: 0.010987780218519469, Learning Rate: 0.010987780218519469\n",
      "Episode: 692, Total Reward: 92, Explore Rate: 0.010977951641125918, Learning Rate: 0.010977951641125918\n",
      "Episode: 693, Total Reward: 92, Explore Rate: 0.010968220859711442, Learning Rate: 0.010968220859711442\n",
      "Episode: 694, Total Reward: 92, Explore Rate: 0.010958586901189789, Learning Rate: 0.010958586901189789\n",
      "Episode: 695, Total Reward: 92, Explore Rate: 0.01094904880215708, Learning Rate: 0.01094904880215708\n",
      "Episode: 696, Total Reward: 90, Explore Rate: 0.010939605608795464, Learning Rate: 0.010939605608795464\n",
      "Episode: 697, Total Reward: 92, Explore Rate: 0.010930256376777735, Learning Rate: 0.010930256376777735\n",
      "Episode: 698, Total Reward: 92, Explore Rate: 0.010921000171172899, Learning Rate: 0.010921000171172899\n",
      "Episode: 699, Total Reward: 92, Explore Rate: 0.010911836066352685, Learning Rate: 0.010911836066352685\n",
      "Episode: 700, Total Reward: 92, Explore Rate: 0.010902763145898971, Learning Rate: 0.010902763145898971\n",
      "Episode: 701, Total Reward: 92, Explore Rate: 0.010893780502512152, Learning Rate: 0.010893780502512152\n",
      "Episode: 702, Total Reward: 92, Explore Rate: 0.010884887237920403, Learning Rate: 0.010884887237920403\n",
      "Episode: 703, Total Reward: 92, Explore Rate: 0.010876082462789857, Learning Rate: 0.010876082462789857\n",
      "Episode: 704, Total Reward: 92, Explore Rate: 0.010867365296635659, Learning Rate: 0.010867365296635659\n",
      "Episode: 705, Total Reward: 92, Explore Rate: 0.010858734867733933, Learning Rate: 0.010858734867733933\n",
      "Episode: 706, Total Reward: 92, Explore Rate: 0.010850190313034594, Learning Rate: 0.010850190313034594\n",
      "Episode: 707, Total Reward: 92, Explore Rate: 0.010841730778075053, Learning Rate: 0.010841730778075053\n",
      "Episode: 708, Total Reward: 92, Explore Rate: 0.010833355416894765, Learning Rate: 0.010833355416894765\n",
      "Episode: 709, Total Reward: 92, Explore Rate: 0.01082506339195063, Learning Rate: 0.01082506339195063\n",
      "Episode: 710, Total Reward: 92, Explore Rate: 0.010816853874033245, Learning Rate: 0.010816853874033245\n",
      "Episode: 711, Total Reward: 92, Explore Rate: 0.010808726042183978, Learning Rate: 0.010808726042183978\n",
      "Episode: 712, Total Reward: 92, Explore Rate: 0.01080067908361287, Learning Rate: 0.01080067908361287\n",
      "Episode: 713, Total Reward: 92, Explore Rate: 0.01079271219361736, Learning Rate: 0.01079271219361736\n",
      "Episode: 714, Total Reward: 92, Explore Rate: 0.010784824575501804, Learning Rate: 0.010784824575501804\n",
      "Episode: 715, Total Reward: 92, Explore Rate: 0.010777015440497823, Learning Rate: 0.010777015440497823\n",
      "Episode: 716, Total Reward: 92, Explore Rate: 0.010769284007685407, Learning Rate: 0.010769284007685407\n",
      "Episode: 717, Total Reward: 92, Explore Rate: 0.01076162950391483, Learning Rate: 0.01076162950391483\n",
      "Episode: 718, Total Reward: 88, Explore Rate: 0.01075405116372934, Learning Rate: 0.01075405116372934\n",
      "Episode: 719, Total Reward: 92, Explore Rate: 0.010746548229288598, Learning Rate: 0.010746548229288598\n",
      "Episode: 720, Total Reward: 90, Explore Rate: 0.010739119950292912, Learning Rate: 0.010739119950292912\n",
      "Episode: 721, Total Reward: 92, Explore Rate: 0.010731765583908192, Learning Rate: 0.010731765583908192\n",
      "Episode: 722, Total Reward: 92, Explore Rate: 0.010724484394691668, Learning Rate: 0.010724484394691668\n",
      "Episode: 723, Total Reward: 92, Explore Rate: 0.010717275654518353, Learning Rate: 0.010717275654518353\n",
      "Episode: 724, Total Reward: 92, Explore Rate: 0.010710138642508221, Learning Rate: 0.010710138642508221\n",
      "Episode: 725, Total Reward: 92, Explore Rate: 0.010703072644954124, Learning Rate: 0.010703072644954124\n",
      "Episode: 726, Total Reward: 92, Explore Rate: 0.010696076955250418, Learning Rate: 0.010696076955250418\n",
      "Episode: 727, Total Reward: 90, Explore Rate: 0.010689150873822304, Learning Rate: 0.010689150873822304\n",
      "Episode: 728, Total Reward: 92, Explore Rate: 0.010682293708055865, Learning Rate: 0.010682293708055865\n",
      "Episode: 729, Total Reward: 92, Explore Rate: 0.010675504772228813, Learning Rate: 0.010675504772228813\n",
      "Episode: 730, Total Reward: -94, Explore Rate: 0.010668783387441906, Learning Rate: 0.010668783387441906\n",
      "Episode: 731, Total Reward: 92, Explore Rate: 0.010662128881551065, Learning Rate: 0.010662128881551065\n",
      "Episode: 732, Total Reward: 92, Explore Rate: 0.010655540589100154, Learning Rate: 0.010655540589100154\n",
      "Episode: 733, Total Reward: 92, Explore Rate: 0.010649017851254439, Learning Rate: 0.010649017851254439\n",
      "Episode: 734, Total Reward: 92, Explore Rate: 0.0106425600157347, Learning Rate: 0.0106425600157347\n",
      "Episode: 735, Total Reward: 92, Explore Rate: 0.010636166436752002, Learning Rate: 0.010636166436752002\n",
      "Episode: 736, Total Reward: 92, Explore Rate: 0.01062983647494312, Learning Rate: 0.01062983647494312\n",
      "Episode: 737, Total Reward: 92, Explore Rate: 0.010623569497306598, Learning Rate: 0.010623569497306598\n",
      "Episode: 738, Total Reward: 92, Explore Rate: 0.01061736487713945, Learning Rate: 0.01061736487713945\n",
      "Episode: 739, Total Reward: 88, Explore Rate: 0.010611221993974488, Learning Rate: 0.010611221993974488\n",
      "Episode: 740, Total Reward: 92, Explore Rate: 0.010605140233518277, Learning Rate: 0.010605140233518277\n",
      "Episode: 741, Total Reward: 92, Explore Rate: 0.010599118987589702, Learning Rate: 0.010599118987589702\n",
      "Episode: 742, Total Reward: 92, Explore Rate: 0.010593157654059155, Learning Rate: 0.010593157654059155\n",
      "Episode: 743, Total Reward: 92, Explore Rate: 0.010587255636788313, Learning Rate: 0.010587255636788313\n",
      "Episode: 744, Total Reward: 92, Explore Rate: 0.01058141234557053, Learning Rate: 0.01058141234557053\n",
      "Episode: 745, Total Reward: 92, Explore Rate: 0.01057562719607182, Learning Rate: 0.01057562719607182\n",
      "Episode: 746, Total Reward: 92, Explore Rate: 0.010569899609772403, Learning Rate: 0.010569899609772403\n",
      "Episode: 747, Total Reward: 92, Explore Rate: 0.010564229013908884, Learning Rate: 0.010564229013908884\n",
      "Episode: 748, Total Reward: 90, Explore Rate: 0.010558614841416947, Learning Rate: 0.010558614841416947\n",
      "Episode: 749, Total Reward: 92, Explore Rate: 0.010553056530874667, Learning Rate: 0.010553056530874667\n",
      "Episode: 750, Total Reward: 92, Explore Rate: 0.010547553526446355, Learning Rate: 0.010547553526446355\n",
      "Episode: 751, Total Reward: 92, Explore Rate: 0.010542105277826985, Learning Rate: 0.010542105277826985\n",
      "Episode: 752, Total Reward: 92, Explore Rate: 0.010536711240187152, Learning Rate: 0.010536711240187152\n",
      "Episode: 753, Total Reward: 92, Explore Rate: 0.0105313708741186, Learning Rate: 0.0105313708741186\n",
      "Episode: 754, Total Reward: 92, Explore Rate: 0.01052608364558027, Learning Rate: 0.01052608364558027\n",
      "Episode: 755, Total Reward: 92, Explore Rate: 0.010520849025844903, Learning Rate: 0.010520849025844903\n",
      "Episode: 756, Total Reward: 92, Explore Rate: 0.010515666491446161, Learning Rate: 0.010515666491446161\n",
      "Episode: 757, Total Reward: 92, Explore Rate: 0.01051053552412629, Learning Rate: 0.01051053552412629\n",
      "Episode: 758, Total Reward: 92, Explore Rate: 0.010505455610784278, Learning Rate: 0.010505455610784278\n",
      "Episode: 759, Total Reward: 92, Explore Rate: 0.010500426243424558, Learning Rate: 0.010500426243424558\n",
      "Episode: 760, Total Reward: 92, Explore Rate: 0.010495446919106205, Learning Rate: 0.010495446919106205\n",
      "Episode: 761, Total Reward: 92, Explore Rate: 0.010490517139892635, Learning Rate: 0.010490517139892635\n",
      "Episode: 762, Total Reward: 92, Explore Rate: 0.010485636412801822, Learning Rate: 0.010485636412801822\n",
      "Episode: 763, Total Reward: 92, Explore Rate: 0.010480804249756986, Learning Rate: 0.010480804249756986\n",
      "Episode: 764, Total Reward: 92, Explore Rate: 0.010476020167537797, Learning Rate: 0.010476020167537797\n",
      "Episode: 765, Total Reward: 92, Explore Rate: 0.010471283687732046, Learning Rate: 0.010471283687732046\n",
      "Episode: 766, Total Reward: 92, Explore Rate: 0.010466594336687809, Learning Rate: 0.010466594336687809\n",
      "Episode: 767, Total Reward: 92, Explore Rate: 0.010461951645466068, Learning Rate: 0.010461951645466068\n",
      "Episode: 768, Total Reward: 92, Explore Rate: 0.010457355149793835, Learning Rate: 0.010457355149793835\n",
      "Episode: 769, Total Reward: 92, Explore Rate: 0.010452804390017712, Learning Rate: 0.010452804390017712\n",
      "Episode: 770, Total Reward: 92, Explore Rate: 0.010448298911057929, Learning Rate: 0.010448298911057929\n",
      "Episode: 771, Total Reward: 92, Explore Rate: 0.010443838262362837, Learning Rate: 0.010443838262362837\n",
      "Episode: 772, Total Reward: 92, Explore Rate: 0.010439421997863846, Learning Rate: 0.010439421997863846\n",
      "Episode: 773, Total Reward: 92, Explore Rate: 0.010435049675930827, Learning Rate: 0.010435049675930827\n",
      "Episode: 774, Total Reward: 92, Explore Rate: 0.010430720859327945, Learning Rate: 0.010430720859327945\n",
      "Episode: 775, Total Reward: 92, Explore Rate: 0.01042643511516993, Learning Rate: 0.01042643511516993\n",
      "Episode: 776, Total Reward: 92, Explore Rate: 0.010422192014878798, Learning Rate: 0.010422192014878798\n",
      "Episode: 777, Total Reward: 92, Explore Rate: 0.01041799113414098, Learning Rate: 0.01041799113414098\n",
      "Episode: 778, Total Reward: 92, Explore Rate: 0.010413832052864903, Learning Rate: 0.010413832052864903\n",
      "Episode: 779, Total Reward: 92, Explore Rate: 0.010409714355138974, Learning Rate: 0.010409714355138974\n",
      "Episode: 780, Total Reward: 92, Explore Rate: 0.010405637629189989, Learning Rate: 0.010405637629189989\n",
      "Episode: 781, Total Reward: 92, Explore Rate: 0.010401601467341955, Learning Rate: 0.010401601467341955\n",
      "Episode: 782, Total Reward: 92, Explore Rate: 0.010397605465975325, Learning Rate: 0.010397605465975325\n",
      "Episode: 783, Total Reward: 92, Explore Rate: 0.01039364922548663, Learning Rate: 0.01039364922548663\n",
      "Episode: 784, Total Reward: 92, Explore Rate: 0.010389732350248527, Learning Rate: 0.010389732350248527\n",
      "Episode: 785, Total Reward: 92, Explore Rate: 0.010385854448570228, Learning Rate: 0.010385854448570228\n",
      "Episode: 786, Total Reward: 92, Explore Rate: 0.01038201513265833, Learning Rate: 0.01038201513265833\n",
      "Episode: 787, Total Reward: 92, Explore Rate: 0.010378214018578047, Learning Rate: 0.010378214018578047\n",
      "Episode: 788, Total Reward: 92, Explore Rate: 0.0103744507262148, Learning Rate: 0.0103744507262148\n",
      "Episode: 789, Total Reward: 92, Explore Rate: 0.010370724879236218, Learning Rate: 0.010370724879236218\n",
      "Episode: 790, Total Reward: 92, Explore Rate: 0.010367036105054498, Learning Rate: 0.010367036105054498\n",
      "Episode: 791, Total Reward: 92, Explore Rate: 0.010363384034789147, Learning Rate: 0.010363384034789147\n",
      "Episode: 792, Total Reward: 92, Explore Rate: 0.010359768303230097, Learning Rate: 0.010359768303230097\n",
      "Episode: 793, Total Reward: 92, Explore Rate: 0.010356188548801179, Learning Rate: 0.010356188548801179\n",
      "Episode: 794, Total Reward: 92, Explore Rate: 0.010352644413523964, Learning Rate: 0.010352644413523964\n",
      "Episode: 795, Total Reward: 92, Explore Rate: 0.010349135542981974, Learning Rate: 0.010349135542981974\n",
      "Episode: 796, Total Reward: 92, Explore Rate: 0.010345661586285228, Learning Rate: 0.010345661586285228\n",
      "Episode: 797, Total Reward: 92, Explore Rate: 0.010342222196035164, Learning Rate: 0.010342222196035164\n",
      "Episode: 798, Total Reward: 92, Explore Rate: 0.01033881702828989, Learning Rate: 0.01033881702828989\n",
      "Episode: 799, Total Reward: 92, Explore Rate: 0.010335445742529792, Learning Rate: 0.010335445742529792\n",
      "Episode: 800, Total Reward: 92, Explore Rate: 0.010332108001623487, Learning Rate: 0.010332108001623487\n",
      "Episode: 801, Total Reward: 92, Explore Rate: 0.010328803471794101, Learning Rate: 0.010328803471794101\n",
      "Episode: 802, Total Reward: 92, Explore Rate: 0.0103255318225859, Learning Rate: 0.0103255318225859\n",
      "Episode: 803, Total Reward: 92, Explore Rate: 0.010322292726831234, Learning Rate: 0.010322292726831234\n",
      "Episode: 804, Total Reward: 92, Explore Rate: 0.01031908586061783, Learning Rate: 0.01031908586061783\n",
      "Episode: 805, Total Reward: 92, Explore Rate: 0.010315910903256391, Learning Rate: 0.010315910903256391\n",
      "Episode: 806, Total Reward: 92, Explore Rate: 0.01031276753724854, Learning Rate: 0.01031276753724854\n",
      "Episode: 807, Total Reward: 92, Explore Rate: 0.010309655448255054, Learning Rate: 0.010309655448255054\n",
      "Episode: 808, Total Reward: 92, Explore Rate: 0.01030657432506444, Learning Rate: 0.01030657432506444\n",
      "Episode: 809, Total Reward: 88, Explore Rate: 0.010303523859561813, Learning Rate: 0.010303523859561813\n",
      "Episode: 810, Total Reward: 90, Explore Rate: 0.01030050374669808, Learning Rate: 0.01030050374669808\n",
      "Episode: 811, Total Reward: 92, Explore Rate: 0.010297513684459435, Learning Rate: 0.010297513684459435\n",
      "Episode: 812, Total Reward: 90, Explore Rate: 0.010294553373837166, Learning Rate: 0.010294553373837166\n",
      "Episode: 813, Total Reward: 92, Explore Rate: 0.010291622518797741, Learning Rate: 0.010291622518797741\n",
      "Episode: 814, Total Reward: 92, Explore Rate: 0.010288720826253218, Learning Rate: 0.010288720826253218\n",
      "Episode: 815, Total Reward: 92, Explore Rate: 0.010285848006031922, Learning Rate: 0.010285848006031922\n",
      "Episode: 816, Total Reward: 92, Explore Rate: 0.010283003770849435, Learning Rate: 0.010283003770849435\n",
      "Episode: 817, Total Reward: 92, Explore Rate: 0.010280187836279871, Learning Rate: 0.010280187836279871\n",
      "Episode: 818, Total Reward: 92, Explore Rate: 0.010277399920727424, Learning Rate: 0.010277399920727424\n",
      "Episode: 819, Total Reward: 92, Explore Rate: 0.01027463974539822, Learning Rate: 0.01027463974539822\n",
      "Episode: 820, Total Reward: 92, Explore Rate: 0.010271907034272422, Learning Rate: 0.010271907034272422\n",
      "Episode: 821, Total Reward: 92, Explore Rate: 0.01026920151407664, Learning Rate: 0.01026920151407664\n",
      "Episode: 822, Total Reward: 92, Explore Rate: 0.010266522914256601, Learning Rate: 0.010266522914256601\n",
      "Episode: 823, Total Reward: 90, Explore Rate: 0.010263870966950093, Learning Rate: 0.010263870966950093\n",
      "Episode: 824, Total Reward: 92, Explore Rate: 0.01026124540696017, Learning Rate: 0.01026124540696017\n",
      "Episode: 825, Total Reward: 92, Explore Rate: 0.010258645971728651, Learning Rate: 0.010258645971728651\n",
      "Episode: 826, Total Reward: 92, Explore Rate: 0.010256072401309843, Learning Rate: 0.010256072401309843\n",
      "Episode: 827, Total Reward: 92, Explore Rate: 0.01025352443834456, Learning Rate: 0.01025352443834456\n",
      "Episode: 828, Total Reward: 92, Explore Rate: 0.010251001828034383, Learning Rate: 0.010251001828034383\n",
      "Episode: 829, Total Reward: 92, Explore Rate: 0.010248504318116178, Learning Rate: 0.010248504318116178\n",
      "Episode: 830, Total Reward: 92, Explore Rate: 0.010246031658836873, Learning Rate: 0.010246031658836873\n",
      "Episode: 831, Total Reward: 92, Explore Rate: 0.010243583602928479, Learning Rate: 0.010243583602928479\n",
      "Episode: 832, Total Reward: 92, Explore Rate: 0.010241159905583363, Learning Rate: 0.010241159905583363\n",
      "Episode: 833, Total Reward: 92, Explore Rate: 0.010238760324429774, Learning Rate: 0.010238760324429774\n",
      "Episode: 834, Total Reward: 92, Explore Rate: 0.010236384619507594, Learning Rate: 0.010236384619507594\n",
      "Episode: 835, Total Reward: 92, Explore Rate: 0.010234032553244354, Learning Rate: 0.010234032553244354\n",
      "Episode: 836, Total Reward: 92, Explore Rate: 0.010231703890431466, Learning Rate: 0.010231703890431466\n",
      "Episode: 837, Total Reward: 92, Explore Rate: 0.01022939839820071, Learning Rate: 0.01022939839820071\n",
      "Episode: 838, Total Reward: 92, Explore Rate: 0.010227115846000938, Learning Rate: 0.010227115846000938\n",
      "Episode: 839, Total Reward: 92, Explore Rate: 0.01022485600557503, Learning Rate: 0.01022485600557503\n",
      "Episode: 840, Total Reward: 92, Explore Rate: 0.01022261865093706, Learning Rate: 0.01022261865093706\n",
      "Episode: 841, Total Reward: 92, Explore Rate: 0.010220403558349701, Learning Rate: 0.010220403558349701\n",
      "Episode: 842, Total Reward: 92, Explore Rate: 0.010218210506301846, Learning Rate: 0.010218210506301846\n",
      "Episode: 843, Total Reward: 92, Explore Rate: 0.010216039275486465, Learning Rate: 0.010216039275486465\n",
      "Episode: 844, Total Reward: 92, Explore Rate: 0.010213889648778665, Learning Rate: 0.010213889648778665\n",
      "Episode: 845, Total Reward: 92, Explore Rate: 0.010211761411213984, Learning Rate: 0.010211761411213984\n",
      "Episode: 846, Total Reward: 92, Explore Rate: 0.010209654349966894, Learning Rate: 0.010209654349966894\n",
      "Episode: 847, Total Reward: 92, Explore Rate: 0.010207568254329514, Learning Rate: 0.010207568254329514\n",
      "Episode: 848, Total Reward: 92, Explore Rate: 0.01020550291569054, Learning Rate: 0.01020550291569054\n",
      "Episode: 849, Total Reward: 92, Explore Rate: 0.010203458127514388, Learning Rate: 0.010203458127514388\n",
      "Episode: 850, Total Reward: 92, Explore Rate: 0.010201433685320538, Learning Rate: 0.010201433685320538\n",
      "Episode: 851, Total Reward: 92, Explore Rate: 0.010199429386663081, Learning Rate: 0.010199429386663081\n",
      "Episode: 852, Total Reward: 92, Explore Rate: 0.010197445031110482, Learning Rate: 0.010197445031110482\n",
      "Episode: 853, Total Reward: 92, Explore Rate: 0.010195480420225531, Learning Rate: 0.010195480420225531\n",
      "Episode: 854, Total Reward: 92, Explore Rate: 0.010193535357545505, Learning Rate: 0.010193535357545505\n",
      "Episode: 855, Total Reward: 92, Explore Rate: 0.010191609648562514, Learning Rate: 0.010191609648562514\n",
      "Episode: 856, Total Reward: 92, Explore Rate: 0.010189703100704052, Learning Rate: 0.010189703100704052\n",
      "Episode: 857, Total Reward: 90, Explore Rate: 0.01018781552331375, Learning Rate: 0.01018781552331375\n",
      "Episode: 858, Total Reward: 92, Explore Rate: 0.01018594672763229, Learning Rate: 0.01018594672763229\n",
      "Episode: 859, Total Reward: 92, Explore Rate: 0.010184096526778551, Learning Rate: 0.010184096526778551\n",
      "Episode: 860, Total Reward: 92, Explore Rate: 0.010182264735730903, Learning Rate: 0.010182264735730903\n",
      "Episode: 861, Total Reward: 92, Explore Rate: 0.010180451171308717, Learning Rate: 0.010180451171308717\n",
      "Episode: 862, Total Reward: 92, Explore Rate: 0.010178655652154037, Learning Rate: 0.010178655652154037\n",
      "Episode: 863, Total Reward: 92, Explore Rate: 0.010176877998713455, Learning Rate: 0.010176877998713455\n",
      "Episode: 864, Total Reward: 92, Explore Rate: 0.01017511803322014, Learning Rate: 0.01017511803322014\n",
      "Episode: 865, Total Reward: 86, Explore Rate: 0.010173375579676082, Learning Rate: 0.010173375579676082\n",
      "Episode: 866, Total Reward: 92, Explore Rate: 0.01017165046383447, Learning Rate: 0.01017165046383447\n",
      "Episode: 867, Total Reward: 88, Explore Rate: 0.010169942513182286, Learning Rate: 0.010169942513182286\n",
      "Episode: 868, Total Reward: 92, Explore Rate: 0.010168251556923037, Learning Rate: 0.010168251556923037\n",
      "Episode: 869, Total Reward: 92, Explore Rate: 0.010166577425959692, Learning Rate: 0.010166577425959692\n",
      "Episode: 870, Total Reward: 92, Explore Rate: 0.010164919952877757, Learning Rate: 0.010164919952877757\n",
      "Episode: 871, Total Reward: 88, Explore Rate: 0.010163278971928544, Learning Rate: 0.010163278971928544\n",
      "Episode: 872, Total Reward: 92, Explore Rate: 0.01016165431901259, Learning Rate: 0.01016165431901259\n",
      "Episode: 873, Total Reward: 92, Explore Rate: 0.01016004583166325, Learning Rate: 0.01016004583166325\n",
      "Episode: 874, Total Reward: 92, Explore Rate: 0.010158453349030448, Learning Rate: 0.010158453349030448\n",
      "Episode: 875, Total Reward: 92, Explore Rate: 0.010156876711864594, Learning Rate: 0.010156876711864594\n",
      "Episode: 876, Total Reward: 92, Explore Rate: 0.010155315762500658, Learning Rate: 0.010155315762500658\n",
      "Episode: 877, Total Reward: 92, Explore Rate: 0.0101537703448424, Learning Rate: 0.0101537703448424\n",
      "Episode: 878, Total Reward: 92, Explore Rate: 0.010152240304346772, Learning Rate: 0.010152240304346772\n",
      "Episode: 879, Total Reward: 92, Explore Rate: 0.010150725488008444, Learning Rate: 0.010150725488008444\n",
      "Episode: 880, Total Reward: 92, Explore Rate: 0.010149225744344521, Learning Rate: 0.010149225744344521\n",
      "Episode: 881, Total Reward: 92, Explore Rate: 0.01014774092337939, Learning Rate: 0.01014774092337939\n",
      "Episode: 882, Total Reward: 92, Explore Rate: 0.010146270876629714, Learning Rate: 0.010146270876629714\n",
      "Episode: 883, Total Reward: 92, Explore Rate: 0.010144815457089593, Learning Rate: 0.010144815457089593\n",
      "Episode: 884, Total Reward: 92, Explore Rate: 0.010143374519215861, Learning Rate: 0.010143374519215861\n",
      "Episode: 885, Total Reward: 92, Explore Rate: 0.01014194791891353, Learning Rate: 0.01014194791891353\n",
      "Episode: 886, Total Reward: 90, Explore Rate: 0.01014053551352138, Learning Rate: 0.01014053551352138\n",
      "Episode: 887, Total Reward: 92, Explore Rate: 0.010139137161797698, Learning Rate: 0.010139137161797698\n",
      "Episode: 888, Total Reward: 92, Explore Rate: 0.010137752723906142, Learning Rate: 0.010137752723906142\n",
      "Episode: 889, Total Reward: 92, Explore Rate: 0.01013638206140177, Learning Rate: 0.01013638206140177\n",
      "Episode: 890, Total Reward: 92, Explore Rate: 0.010135025037217192, Learning Rate: 0.010135025037217192\n",
      "Episode: 891, Total Reward: 92, Explore Rate: 0.010133681515648855, Learning Rate: 0.010133681515648855\n",
      "Episode: 892, Total Reward: 92, Explore Rate: 0.010132351362343486, Learning Rate: 0.010132351362343486\n",
      "Episode: 893, Total Reward: 92, Explore Rate: 0.010131034444284644, Learning Rate: 0.010131034444284644\n",
      "Episode: 894, Total Reward: 92, Explore Rate: 0.010129730629779427, Learning Rate: 0.010129730629779427\n",
      "Episode: 895, Total Reward: 92, Explore Rate: 0.010128439788445296, Learning Rate: 0.010128439788445296\n",
      "Episode: 896, Total Reward: 92, Explore Rate: 0.010127161791197044, Learning Rate: 0.010127161791197044\n",
      "Episode: 897, Total Reward: 92, Explore Rate: 0.01012589651023388, Learning Rate: 0.01012589651023388\n",
      "Episode: 898, Total Reward: 92, Explore Rate: 0.010124643819026653, Learning Rate: 0.010124643819026653\n",
      "Episode: 899, Total Reward: 92, Explore Rate: 0.0101234035923052, Learning Rate: 0.0101234035923052\n",
      "Episode: 900, Total Reward: 92, Explore Rate: 0.010122175706045813, Learning Rate: 0.010122175706045813\n",
      "Episode: 901, Total Reward: 92, Explore Rate: 0.010120960037458845, Learning Rate: 0.010120960037458845\n",
      "Episode: 902, Total Reward: 92, Explore Rate: 0.010119756464976423, Learning Rate: 0.010119756464976423\n",
      "Episode: 903, Total Reward: 92, Explore Rate: 0.010118564868240294, Learning Rate: 0.010118564868240294\n",
      "Episode: 904, Total Reward: 92, Explore Rate: 0.010117385128089795, Learning Rate: 0.010117385128089795\n",
      "Episode: 905, Total Reward: 92, Explore Rate: 0.010116217126549927, Learning Rate: 0.010116217126549927\n",
      "Episode: 906, Total Reward: 92, Explore Rate: 0.010115060746819561, Learning Rate: 0.010115060746819561\n",
      "Episode: 907, Total Reward: 92, Explore Rate: 0.010113915873259762, Learning Rate: 0.010113915873259762\n",
      "Episode: 908, Total Reward: 92, Explore Rate: 0.010112782391382219, Learning Rate: 0.010112782391382219\n",
      "Episode: 909, Total Reward: 92, Explore Rate: 0.010111660187837799, Learning Rate: 0.010111660187837799\n",
      "Episode: 910, Total Reward: 92, Explore Rate: 0.010110549150405214, Learning Rate: 0.010110549150405214\n",
      "Episode: 911, Total Reward: 92, Explore Rate: 0.010109449167979795, Learning Rate: 0.010109449167979795\n",
      "Episode: 912, Total Reward: 92, Explore Rate: 0.010108360130562379, Learning Rate: 0.010108360130562379\n",
      "Episode: 913, Total Reward: 92, Explore Rate: 0.010107281929248322, Learning Rate: 0.010107281929248322\n",
      "Episode: 914, Total Reward: 92, Explore Rate: 0.010106214456216591, Learning Rate: 0.010106214456216591\n",
      "Episode: 915, Total Reward: 92, Explore Rate: 0.010105157604718994, Learning Rate: 0.010105157604718994\n",
      "Episode: 916, Total Reward: 92, Explore Rate: 0.010104111269069502, Learning Rate: 0.010104111269069502\n",
      "Episode: 917, Total Reward: 92, Explore Rate: 0.010103075344633675, Learning Rate: 0.010103075344633675\n",
      "Episode: 918, Total Reward: 92, Explore Rate: 0.010102049727818207, Learning Rate: 0.010102049727818207\n",
      "Episode: 919, Total Reward: 92, Explore Rate: 0.010101034316060565, Learning Rate: 0.010101034316060565\n",
      "Episode: 920, Total Reward: 92, Explore Rate: 0.010100029007818723, Learning Rate: 0.010100029007818723\n",
      "Episode: 921, Total Reward: 92, Explore Rate: 0.01009903370256102, Learning Rate: 0.01009903370256102\n",
      "Episode: 922, Total Reward: 92, Explore Rate: 0.010098048300756102, Learning Rate: 0.010098048300756102\n",
      "Episode: 923, Total Reward: 92, Explore Rate: 0.010097072703862968, Learning Rate: 0.010097072703862968\n",
      "Episode: 924, Total Reward: 92, Explore Rate: 0.010096106814321115, Learning Rate: 0.010096106814321115\n",
      "Episode: 925, Total Reward: 92, Explore Rate: 0.01009515053554078, Learning Rate: 0.01009515053554078\n",
      "Episode: 926, Total Reward: 92, Explore Rate: 0.010094203771893295, Learning Rate: 0.010094203771893295\n",
      "Episode: 927, Total Reward: 90, Explore Rate: 0.010093266428701501, Learning Rate: 0.010093266428701501\n",
      "Episode: 928, Total Reward: 92, Explore Rate: 0.0100923384122303, Learning Rate: 0.0100923384122303\n",
      "Episode: 929, Total Reward: 92, Explore Rate: 0.01009141962967727, Learning Rate: 0.01009141962967727\n",
      "Episode: 930, Total Reward: 92, Explore Rate: 0.010090509989163391, Learning Rate: 0.010090509989163391\n",
      "Episode: 931, Total Reward: 92, Explore Rate: 0.010089609399723856, Learning Rate: 0.010089609399723856\n",
      "Episode: 932, Total Reward: 92, Explore Rate: 0.010088717771298966, Learning Rate: 0.010088717771298966\n",
      "Episode: 933, Total Reward: 92, Explore Rate: 0.010087835014725138, Learning Rate: 0.010087835014725138\n",
      "Episode: 934, Total Reward: 92, Explore Rate: 0.010086961041725979, Learning Rate: 0.010086961041725979\n",
      "Episode: 935, Total Reward: 92, Explore Rate: 0.01008609576490346, Learning Rate: 0.01008609576490346\n",
      "Episode: 936, Total Reward: 92, Explore Rate: 0.010085239097729176, Learning Rate: 0.010085239097729176\n",
      "Episode: 937, Total Reward: 92, Explore Rate: 0.0100843909545357, Learning Rate: 0.0100843909545357\n",
      "Episode: 938, Total Reward: 92, Explore Rate: 0.010083551250508005, Learning Rate: 0.010083551250508005\n",
      "Episode: 939, Total Reward: 92, Explore Rate: 0.010082719901674985, Learning Rate: 0.010082719901674985\n",
      "Episode: 940, Total Reward: 88, Explore Rate: 0.010081896824901066, Learning Rate: 0.010081896824901066\n",
      "Episode: 941, Total Reward: 92, Explore Rate: 0.010081081937877885, Learning Rate: 0.010081081937877885\n",
      "Episode: 942, Total Reward: 92, Explore Rate: 0.01008027515911606, Learning Rate: 0.01008027515911606\n",
      "Episode: 943, Total Reward: 92, Explore Rate: 0.010079476407937044, Learning Rate: 0.010079476407937044\n",
      "Episode: 944, Total Reward: 92, Explore Rate: 0.010078685604465051, Learning Rate: 0.010078685604465051\n",
      "Episode: 945, Total Reward: 92, Explore Rate: 0.010077902669619077, Learning Rate: 0.010077902669619077\n",
      "Episode: 946, Total Reward: 86, Explore Rate: 0.010077127525104984, Learning Rate: 0.010077127525104984\n",
      "Episode: 947, Total Reward: 92, Explore Rate: 0.010076360093407673, Learning Rate: 0.010076360093407673\n",
      "Episode: 948, Total Reward: 92, Explore Rate: 0.010075600297783338, Learning Rate: 0.010075600297783338\n",
      "Episode: 949, Total Reward: 92, Explore Rate: 0.010074848062251781, Learning Rate: 0.010074848062251781\n",
      "Episode: 950, Total Reward: 92, Explore Rate: 0.010074103311588823, Learning Rate: 0.010074103311588823\n",
      "Episode: 951, Total Reward: 92, Explore Rate: 0.010073365971318778, Learning Rate: 0.010073365971318778\n",
      "Episode: 952, Total Reward: 92, Explore Rate: 0.010072635967707003, Learning Rate: 0.010072635967707003\n",
      "Episode: 953, Total Reward: 92, Explore Rate: 0.010071913227752527, Learning Rate: 0.010071913227752527\n",
      "Episode: 954, Total Reward: 92, Explore Rate: 0.010071197679180756, Learning Rate: 0.010071197679180756\n",
      "Episode: 955, Total Reward: 92, Explore Rate: 0.010070489250436234, Learning Rate: 0.010070489250436234\n",
      "Episode: 956, Total Reward: 92, Explore Rate: 0.010069787870675497, Learning Rate: 0.010069787870675497\n",
      "Episode: 957, Total Reward: 92, Explore Rate: 0.010069093469759984, Learning Rate: 0.010069093469759984\n",
      "Episode: 958, Total Reward: 92, Explore Rate: 0.010068405978249026, Learning Rate: 0.010068405978249026\n",
      "Episode: 959, Total Reward: 92, Explore Rate: 0.010067725327392897, Learning Rate: 0.010067725327392897\n",
      "Episode: 960, Total Reward: 92, Explore Rate: 0.010067051449125945, Learning Rate: 0.010067051449125945\n",
      "Episode: 961, Total Reward: 90, Explore Rate: 0.010066384276059784, Learning Rate: 0.010066384276059784\n",
      "Episode: 962, Total Reward: 92, Explore Rate: 0.010065723741476547, Learning Rate: 0.010065723741476547\n",
      "Episode: 963, Total Reward: 90, Explore Rate: 0.01006506977932223, Learning Rate: 0.01006506977932223\n",
      "Episode: 964, Total Reward: 92, Explore Rate: 0.010064422324200068, Learning Rate: 0.010064422324200068\n",
      "Episode: 965, Total Reward: 92, Explore Rate: 0.010063781311364012, Learning Rate: 0.010063781311364012\n",
      "Episode: 966, Total Reward: 92, Explore Rate: 0.010063146676712244, Learning Rate: 0.010063146676712244\n",
      "Episode: 967, Total Reward: 92, Explore Rate: 0.01006251835678077, Learning Rate: 0.01006251835678077\n",
      "Episode: 968, Total Reward: 92, Explore Rate: 0.010061896288737071, Learning Rate: 0.010061896288737071\n",
      "Episode: 969, Total Reward: 92, Explore Rate: 0.01006128041037383, Learning Rate: 0.01006128041037383\n",
      "Episode: 970, Total Reward: 92, Explore Rate: 0.01006067066010269, Learning Rate: 0.01006067066010269\n",
      "Episode: 971, Total Reward: 92, Explore Rate: 0.01006006697694812, Learning Rate: 0.01006006697694812\n",
      "Episode: 972, Total Reward: 92, Explore Rate: 0.010059469300541302, Learning Rate: 0.010059469300541302\n",
      "Episode: 973, Total Reward: 92, Explore Rate: 0.010058877571114096, Learning Rate: 0.010058877571114096\n",
      "Episode: 974, Total Reward: 92, Explore Rate: 0.010058291729493065, Learning Rate: 0.010058291729493065\n",
      "Episode: 975, Total Reward: 90, Explore Rate: 0.01005771171709356, Learning Rate: 0.01005771171709356\n",
      "Episode: 976, Total Reward: 92, Explore Rate: 0.010057137475913858, Learning Rate: 0.010057137475913858\n",
      "Episode: 977, Total Reward: 92, Explore Rate: 0.010056568948529363, Learning Rate: 0.010056568948529363\n",
      "Episode: 978, Total Reward: 92, Explore Rate: 0.010056006078086861, Learning Rate: 0.010056006078086861\n",
      "Episode: 979, Total Reward: 92, Explore Rate: 0.01005544880829884, Learning Rate: 0.01005544880829884\n",
      "Episode: 980, Total Reward: 92, Explore Rate: 0.010054897083437856, Learning Rate: 0.010054897083437856\n",
      "Episode: 981, Total Reward: 92, Explore Rate: 0.010054350848330963, Learning Rate: 0.010054350848330963\n",
      "Episode: 982, Total Reward: 92, Explore Rate: 0.010053810048354195, Learning Rate: 0.010053810048354195\n",
      "Episode: 983, Total Reward: 92, Explore Rate: 0.010053274629427107, Learning Rate: 0.010053274629427107\n",
      "Episode: 984, Total Reward: 92, Explore Rate: 0.010052744538007355, Learning Rate: 0.010052744538007355\n",
      "Episode: 985, Total Reward: 92, Explore Rate: 0.01005221972108536, Learning Rate: 0.01005221972108536\n",
      "Episode: 986, Total Reward: 92, Explore Rate: 0.010051700126178988, Learning Rate: 0.010051700126178988\n",
      "Episode: 987, Total Reward: 92, Explore Rate: 0.010051185701328317, Learning Rate: 0.010051185701328317\n",
      "Episode: 988, Total Reward: 92, Explore Rate: 0.010050676395090436, Learning Rate: 0.010050676395090436\n",
      "Episode: 989, Total Reward: 92, Explore Rate: 0.010050172156534292, Learning Rate: 0.010050172156534292\n",
      "Episode: 990, Total Reward: 92, Explore Rate: 0.010049672935235614, Learning Rate: 0.010049672935235614\n",
      "Episode: 991, Total Reward: 92, Explore Rate: 0.010049178681271852, Learning Rate: 0.010049178681271852\n",
      "Episode: 992, Total Reward: 92, Explore Rate: 0.010048689345217202, Learning Rate: 0.010048689345217202\n",
      "Episode: 993, Total Reward: 92, Explore Rate: 0.010048204878137646, Learning Rate: 0.010048204878137646\n",
      "Episode: 994, Total Reward: 92, Explore Rate: 0.010047725231586075, Learning Rate: 0.010047725231586075\n",
      "Episode: 995, Total Reward: 92, Explore Rate: 0.010047250357597435, Learning Rate: 0.010047250357597435\n",
      "Episode: 996, Total Reward: 92, Explore Rate: 0.010046780208683928, Learning Rate: 0.010046780208683928\n",
      "Episode: 997, Total Reward: 92, Explore Rate: 0.010046314737830275, Learning Rate: 0.010046314737830275\n",
      "Episode: 998, Total Reward: 92, Explore Rate: 0.010045853898488999, Learning Rate: 0.010045853898488999\n",
      "Episode: 999, Total Reward: 92, Explore Rate: 0.010045397644575786, Learning Rate: 0.010045397644575786\n"
     ]
    }
   ],
   "source": [
    "# Task 4: Train the agent using Q-learning\n",
    "# you are free either to just write the code or create a function\n",
    "\n",
    "# result of the training is:\n",
    "#   updated Q table (Q_test)\n",
    "#   total_reward\n",
    "#   you are free to add others, if you will\n",
    "\n",
    "tmp_env.manual_mode = False # disable printouts while training\n",
    "\n",
    "\n",
    "# initialize some variables\n",
    "total_reward = 0\n",
    "\n",
    "explore_rate = update_explore_rate(0, MIN_EXPLORE_RATE=MIN_EXPLORE_RATE_test)\n",
    "learning_rate = update_learning_rate(0, MIN_LEARNING_RATE=MIN_LEARNING_RATE_test)\n",
    "\n",
    "# YOUR CODE GOES HERE\n",
    "\n",
    "# Tip: iterate over number of episodes\n",
    "for i in range(NUM_EPISODES_test):\n",
    "    tmp_env.reset()\n",
    "    state = tmp_env.get_1d_state()\n",
    "    actions = []\n",
    "    states = [state]\n",
    "    episode_rewards = 0\n",
    "    ep_done = False\n",
    "\n",
    "    # Step through the episode\n",
    "    for step in range(STEP_SIZE_TEST):\n",
    "        # Select action using current policy\n",
    "        action = update_action(tmp_env, state, explore_rate, Q_test)\n",
    "        new_state, reward, done, info = tmp_env.step(action)\n",
    "        \n",
    "        ns = tmp_env.get_1d_state()\n",
    "        if state == ns:\n",
    "            reward = -10\n",
    "\n",
    "        elif ns == 66: # final location\n",
    "            ep_done = True\n",
    "            reward = 100\n",
    "        else:\n",
    "            reward = -1\n",
    "    \n",
    "\n",
    "        # Update Q-value for the current state-action pair\n",
    "        # Q_test[state, action] = (1 - learning_rate) * Q_test[state, action] + learning_rate * (\n",
    "        #     reward + GAMMA_test * np.max(Q_test[new_state]) - Q_test[state, action]\n",
    "        # )\n",
    "\n",
    "        # Accumulate total reward\n",
    "        episode_rewards += reward\n",
    "\n",
    "        # Update state and track progress\n",
    "        state = tmp_env.get_1d_state()\n",
    "        states.append(state)\n",
    "        actions.append(action)\n",
    "\n",
    "        if ep_done:\n",
    "            break\n",
    "\n",
    "    states = states[:-1]\n",
    "    actions = actions[:-1]\n",
    "    for s, a in zip(states, actions):\n",
    "        Q_test[s, a] = (1-learning_rate) * Q_test[s, a] + learning_rate * (\n",
    "            episode_rewards + GAMMA_test * np.max(Q_test[new_state]) - Q_test[s, a]\n",
    "        )\n",
    "    # Update exploration and learning rates after the episode\n",
    "    total_reward += episode_rewards\n",
    "    explore_rate = update_explore_rate(i, MIN_EXPLORE_RATE_test)\n",
    "    learning_rate = update_learning_rate(i, MIN_LEARNING_RATE_test)\n",
    "\n",
    "    # Print variables of interest\n",
    "    print(f\"Episode: {i}, Total Reward: {episode_rewards}, Explore Rate: {explore_rate}, Learning Rate: {learning_rate}\")\n",
    "\n",
    "# print(\"Final Q values: \", Q_test)\n"
   ]
  },
  {
   "cell_type": "code",
   "execution_count": 170,
   "metadata": {
    "colab": {
     "base_uri": "https://localhost:8080/"
    },
    "id": "YVOVYADQPkGx",
    "outputId": "b7226128-e55b-4a21-9d64-3c8e773eaed7"
   },
   "outputs": [
    {
     "name": "stdout",
     "output_type": "stream",
     "text": [
      "Total reward after training: 69004.0, total Explore rate after training: 0.010045397644575786\n"
     ]
    }
   ],
   "source": [
    "print(f\"Total reward after training: {total_reward}, total Explore rate after training: {explore_rate}\")"
   ]
  },
  {
   "cell_type": "markdown",
   "metadata": {
    "id": "Gxlv9Qj-PkGx"
   },
   "source": [
    "## 🐥 Let's see this in action"
   ]
  },
  {
   "cell_type": "code",
   "execution_count": 156,
   "metadata": {
    "colab": {
     "base_uri": "https://localhost:8080/",
     "height": 1000
    },
    "id": "IOfVD-2xPkGx",
    "outputId": "2035a115-7f2e-48ba-fc14-166c9ed70fe7"
   },
   "outputs": [
    {
     "data": {
      "image/png": "[encoded data removed]",
      "text/plain": [
       "<Figure size 640x480 with 1 Axes>"
      ]
     },
     "metadata": {},
     "output_type": "display_data"
    },
    {
     "name": "stdout",
     "output_type": "stream",
     "text": [
      "Next step towards: \n",
      "Green Land class area\n"
     ]
    },
    {
     "data": {
      "image/png": "[encoded data removed]",
      "text/plain": [
       "<Figure size 640x480 with 1 Axes>"
      ]
     },
     "metadata": {},
     "output_type": "display_data"
    },
    {
     "name": "stdout",
     "output_type": "stream",
     "text": [
      "Next step towards: \n",
      "Green Land class area\n"
     ]
    },
    {
     "data": {
      "image/png": "[encoded data removed]",
      "text/plain": [
       "<Figure size 640x480 with 1 Axes>"
      ]
     },
     "metadata": {},
     "output_type": "display_data"
    },
    {
     "name": "stdout",
     "output_type": "stream",
     "text": [
      "Next step towards: \n",
      "Green Land class area\n"
     ]
    },
    {
     "data": {
      "image/png": "[encoded data removed]",
      "text/plain": [
       "<Figure size 640x480 with 1 Axes>"
      ]
     },
     "metadata": {},
     "output_type": "display_data"
    },
    {
     "name": "stdout",
     "output_type": "stream",
     "text": [
      "Next step towards: \n",
      "Green Land class area\n"
     ]
    },
    {
     "data": {
      "image/png": "[encoded data removed]",
      "text/plain": [
       "<Figure size 640x480 with 1 Axes>"
      ]
     },
     "metadata": {},
     "output_type": "display_data"
    },
    {
     "name": "stdout",
     "output_type": "stream",
     "text": [
      "Next step towards: \n",
      "Green Land class area\n"
     ]
    },
    {
     "data": {
      "image/png": "[encoded data removed]",
      "text/plain": [
       "<Figure size 640x480 with 1 Axes>"
      ]
     },
     "metadata": {},
     "output_type": "display_data"
    },
    {
     "name": "stdout",
     "output_type": "stream",
     "text": [
      "Next step towards: \n",
      "Green Land class area\n"
     ]
    },
    {
     "data": {
      "image/png": "[encoded data removed]",
      "text/plain": [
       "<Figure size 640x480 with 1 Axes>"
      ]
     },
     "metadata": {},
     "output_type": "display_data"
    },
    {
     "name": "stdout",
     "output_type": "stream",
     "text": [
      "Next step towards: \n",
      "Green Land class area\n"
     ]
    },
    {
     "data": {
      "image/png": "[encoded data removed]",
      "text/plain": [
       "<Figure size 640x480 with 1 Axes>"
      ]
     },
     "metadata": {},
     "output_type": "display_data"
    },
    {
     "name": "stdout",
     "output_type": "stream",
     "text": [
      "Next step towards: \n",
      "Green Land class area\n"
     ]
    },
    {
     "data": {
      "image/png": "[encoded data removed]",
      "text/plain": [
       "<Figure size 640x480 with 1 Axes>"
      ]
     },
     "metadata": {},
     "output_type": "display_data"
    },
    {
     "name": "stdout",
     "output_type": "stream",
     "text": [
      "Next step towards: \n",
      "Green Land class area\n"
     ]
    },
    {
     "data": {
      "image/png": "[encoded data removed]",
      "text/plain": [
       "<Figure size 640x480 with 1 Axes>"
      ]
     },
     "metadata": {},
     "output_type": "display_data"
    },
    {
     "name": "stdout",
     "output_type": "stream",
     "text": [
      "Next step towards: \n",
      "Green Land class area\n"
     ]
    },
    {
     "data": {
      "image/png": "[encoded data removed]",
      "text/plain": [
       "<Figure size 640x480 with 1 Axes>"
      ]
     },
     "metadata": {},
     "output_type": "display_data"
    },
    {
     "name": "stdout",
     "output_type": "stream",
     "text": [
      "Next step towards: \n",
      "Green Land class area\n"
     ]
    },
    {
     "data": {
      "image/png": "[encoded data removed]",
      "text/plain": [
       "<Figure size 640x480 with 1 Axes>"
      ]
     },
     "metadata": {},
     "output_type": "display_data"
    },
    {
     "name": "stdout",
     "output_type": "stream",
     "text": [
      "Next step towards: \n",
      "Green Land class area\n"
     ]
    },
    {
     "data": {
      "image/png": "[encoded data removed]",
      "text/plain": [
       "<Figure size 640x480 with 1 Axes>"
      ]
     },
     "metadata": {},
     "output_type": "display_data"
    },
    {
     "name": "stdout",
     "output_type": "stream",
     "text": [
      "Next step towards: \n",
      "Green Land class area\n"
     ]
    },
    {
     "data": {
      "image/png": "[encoded data removed]",
      "text/plain": [
       "<Figure size 640x480 with 1 Axes>"
      ]
     },
     "metadata": {},
     "output_type": "display_data"
    },
    {
     "name": "stdout",
     "output_type": "stream",
     "text": [
      "Next step towards: \n",
      "Green Land class area\n"
     ]
    },
    {
     "data": {
      "image/png": "[encoded data removed]",
      "text/plain": [
       "<Figure size 640x480 with 1 Axes>"
      ]
     },
     "metadata": {},
     "output_type": "display_data"
    },
    {
     "name": "stdout",
     "output_type": "stream",
     "text": [
      "Next step towards: \n",
      "Green Land class area\n"
     ]
    },
    {
     "data": {
      "image/png": "[encoded data removed]",
      "text/plain": [
       "<Figure size 640x480 with 1 Axes>"
      ]
     },
     "metadata": {},
     "output_type": "display_data"
    },
    {
     "name": "stdout",
     "output_type": "stream",
     "text": [
      "Next step towards: \n",
      "Green Land class area\n",
      "Total_reward:  0\n"
     ]
    }
   ],
   "source": [
    "# now we show one episode\n",
    "# yellow spot should be able to find black spot here\n",
    "\n",
    "tmp_env.manual_mode = True # enable messages\n",
    "STEP_SIZE_TEST_test = 16\n",
    "\n",
    "observation = tmp_env.reset()\n",
    "state_0 = tmp_env.get_1d_state()\n",
    "total_reward = 0\n",
    "\n",
    "for _ in range(STEP_SIZE_TEST_test):\n",
    "    tmp_env.render()\n",
    "    action = update_action(tmp_env, state_0, explore_rate, Q=Q_test)\n",
    "    obv, reward, done, info = tmp_env.step(action)\n",
    "    state_1 = tmp_env.get_1d_state()\n",
    "\n",
    "    # No need to update the Q here\n",
    "    state_0 = state_1\n",
    "\n",
    "    total_reward += reward\n",
    "\n",
    "print(f\"Total_reward: \", total_reward)"
   ]
  },
  {
   "cell_type": "code",
   "execution_count": 103,
   "metadata": {
    "colab": {
     "base_uri": "https://localhost:8080/"
    },
    "id": "LPtt6ZDoPkGx",
    "outputId": "a1fb907c-7bfc-439c-bc41-de0e906beaf2"
   },
   "outputs": [
    {
     "name": "stdout",
     "output_type": "stream",
     "text": [
      "(144, 4)\n",
      "Obs space dimensions :(12, 12)\n"
     ]
    }
   ],
   "source": [
    "# the shape of Q table (Q_test)\n",
    "print(Q_test.shape)\n",
    "print(f\"Obs space dimensions :{tmp_env.observation_space.shape}\")"
   ]
  },
  {
   "cell_type": "code",
   "execution_count": 104,
   "metadata": {
    "colab": {
     "base_uri": "https://localhost:8080/"
    },
    "id": "ou-VGkfDPkGx",
    "outputId": "332d5364-84c7-41c9-c3c7-336eb1971626"
   },
   "outputs": [
    {
     "data": {
      "text/plain": [
       "array([[2, 2, 2, 1, 3, 3, 3, 2, 1, 3, 2, 3],\n",
       "       [1, 0, 1, 2, 1, 0, 0, 2, 2, 0, 3, 0],\n",
       "       [3, 3, 2, 2, 1, 1, 1, 2, 1, 2, 2, 1],\n",
       "       [2, 3, 3, 2, 3, 2, 0, 2, 0, 1, 1, 1],\n",
       "       [1, 3, 3, 3, 0, 2, 2, 2, 1, 0, 1, 0],\n",
       "       [2, 1, 3, 1, 3, 3, 0, 1, 1, 1, 0, 2],\n",
       "       [2, 3, 2, 0, 1, 2, 0, 2, 1, 3, 0, 0],\n",
       "       [1, 3, 3, 0, 3, 0, 0, 1, 3, 0, 1, 1],\n",
       "       [3, 1, 2, 1, 3, 0, 0, 0, 0, 2, 0, 0],\n",
       "       [0, 2, 2, 1, 0, 3, 0, 0, 1, 1, 1, 0],\n",
       "       [2, 1, 3, 3, 0, 3, 3, 3, 2, 0, 0, 1],\n",
       "       [3, 1, 2, 0, 0, 0, 0, 3, 1, 3, 0, 2]])"
      ]
     },
     "execution_count": 104,
     "metadata": {},
     "output_type": "execute_result"
    }
   ],
   "source": [
    "# print Q_table in \"observation space\" light\n",
    "Q_test.argmax(axis=1).reshape(tmp_env.observation_space.shape)"
   ]
  },
  {
   "cell_type": "code",
   "execution_count": 132,
   "metadata": {
    "colab": {
     "base_uri": "https://localhost:8080/",
     "height": 308
    },
    "id": "wX9KqLGXPkGy",
    "outputId": "a5309f60-7333-4d5a-d498-126df3c360bd"
   },
   "outputs": [
    {
     "data": {
      "image/png": "[encoded data removed]",
      "text/plain": [
       "<Figure size 640x480 with 2 Axes>"
      ]
     },
     "metadata": {},
     "output_type": "display_data"
    }
   ],
   "source": [
    "# visualize\n",
    "\n",
    "q_pallete = np.array(\n",
    "    [[0, 0, 0],         # black:0:Up\n",
    "     [255, 0, 0],       # red:1:Left\n",
    "     [255, 255, 255],   # white:2:Down\n",
    "     [0, 0, 255]],      # blue:3:Right\n",
    "     dtype=np.uint8)\n",
    "\n",
    "Q_table_render_arr = make_3d(\n",
    "    map_2d=Q_test.argmax(axis=1).reshape(\n",
    "      tmp_env.observation_space.shape),\n",
    "    palette_array=q_pallete)\n",
    "\n",
    "O_render_arr = make_3d(\n",
    "    map_2d=tmp_env.observation,\n",
    "    palette_array=tmp_env.pallete)\n",
    "\n",
    "\n",
    "plt.subplot(1,2,1)\n",
    "plt.imshow(Q_table_render_arr)\n",
    "plt.title('Visualization')\n",
    "plt.subplot(1,2,2)\n",
    "plt.imshow(O_render_arr)\n",
    "plt.title('Environment')\n",
    "plt.show()"
   ]
  },
  {
   "cell_type": "markdown",
   "metadata": {
    "id": "d_BTFY0ePkG2"
   },
   "source": [
    "### Task 5: Explain visual representation (Visualization picture on the left) after training"
   ]
  },
  {
   "cell_type": "markdown",
   "metadata": {},
   "source": [
    "The image on the left shows the highes Q-values for the different states, represented by the action (color) that has the highes Q-value. In this example we can see that the best action is white (move down), which would move us to the secret location. This gives a reward and is desired, so that's good. Below the secret spot the best action is to move up, to the left of it the best cation is to move right and to the right the best actionv is to move left. This all is good since we want to get there. By following the colors/actions we can navigate around the map, seeing that the agent starting in bottom right (1 up 1 left) will move left, left, left, up, up, left, up, up and up before reaching the target. "
   ]
  },
  {
   "cell_type": "markdown",
   "metadata": {
    "id": "T_HDKtsCPkG2"
   },
   "source": [
    "You can write your notes related to Task 5 here:\n",
    "\n",
    "\n"
   ]
  },
  {
   "cell_type": "code",
   "execution_count": 96,
   "metadata": {
    "colab": {
     "base_uri": "https://localhost:8080/"
    },
    "id": "fbFTMZue12lQ",
    "outputId": "5c6d1803-215f-4168-8d92-7f19cd739748"
   },
   "outputs": [
    {
     "name": "stdout",
     "output_type": "stream",
     "text": [
      "image has more than 3 channels, only first 3 channels are used there are (12, 12, 4) channels\n"
     ]
    }
   ],
   "source": [
    "# close the environment\n",
    "tmp_env.close()"
   ]
  },
  {
   "cell_type": "markdown",
   "metadata": {
    "id": "ipz9XhhQ-ZVw"
   },
   "source": [
    "# 2️⃣ Assignment 2: Trondheim treasure hunt!\n"
   ]
  },
  {
   "cell_type": "markdown",
   "metadata": {
    "id": "HKV9wMKXPkG2"
   },
   "source": [
    "# 🐔 You are ready for the Trondheim challenge now 💪\n",
    "\n",
    "*   Task 1: Initialize Q table\n",
    "*   Task 2: Write necessary helper functions for Q-learning\n",
    "*   Task 3: Play with Hyperparameters\n",
    "*   Task 4: Train the agent using Q-learning\n",
    "\n",
    "\n",
    "## **Important Note**: \n",
    "For Task 2, Task 3 and Task 4, you can (re)use the same code as in the Assignment 1.\n",
    "**These are mentioned here as the elements of the pipeline.** \n",
    "\n",
    "Most of the code from Assigment 1 is reusable, we are just using it with different environment here."
   ]
  },
  {
   "cell_type": "code",
   "execution_count": 133,
   "metadata": {
    "colab": {
     "base_uri": "https://localhost:8080/"
    },
    "id": "AZ0DLZ-hPkG2",
    "outputId": "deb02c77-ed6e-4ab5-8c15-cd8665b86e81"
   },
   "outputs": [
    {
     "name": "stdout",
     "output_type": "stream",
     "text": [
      "image has more than 3 channels, only first 3 channels are used there are (12, 12, 4) channels\n"
     ]
    }
   ],
   "source": [
    "# First and important - cleanup!\n",
    "tmp_env.close()"
   ]
  },
  {
   "cell_type": "code",
   "execution_count": 134,
   "metadata": {
    "colab": {
     "base_uri": "https://localhost:8080/"
    },
    "id": "Qv_JAXXIPkG2",
    "outputId": "95f0c72b-a46c-43c2-a8be-5c46176f349d"
   },
   "outputs": [
    {
     "name": "stdout",
     "output_type": "stream",
     "text": [
      "Environment successfully created\n"
     ]
    }
   ],
   "source": [
    "# let's configure the environment and see how it looks like\n",
    "env_config = {\n",
    "    'env_image_path':'input_images/image_TRD_2.png',\n",
    "    'dead_allowed':False,\n",
    "    'remove_after_location_found':True,\n",
    "    'start_random':False,\n",
    "    'number_removable_locations':1,\n",
    "}\n",
    "\n",
    "if not os.path.exists(env_config['env_image_path']):\n",
    "  # make sure you have the folder and the image\n",
    "  print(f\"Error: The image path {env_config['env_image_path']} does not exist.\")\n",
    "else:\n",
    "  # if everything fine, we create the environment\n",
    "  tmp_env = TrondheimEnv(conf=env_config)\n",
    "  print(f\"Environment successfully created\")"
   ]
  },
  {
   "cell_type": "code",
   "execution_count": 135,
   "metadata": {
    "colab": {
     "base_uri": "https://localhost:8080/",
     "height": 485
    },
    "id": "pvsn6eroPkG2",
    "outputId": "30d61d66-9832-4e29-8bcb-9305219bf1fc"
   },
   "outputs": [
    {
     "data": {
      "image/png": "[encoded data removed]",
      "text/plain": [
       "<Figure size 640x480 with 1 Axes>"
      ]
     },
     "metadata": {},
     "output_type": "display_data"
    },
    {
     "data": {
      "text/plain": [
       "array([[[  0,   0, 255],\n",
       "        [  0,   0, 255],\n",
       "        [  0,   0, 255],\n",
       "        ...,\n",
       "        [  0,   0, 255],\n",
       "        [  0,   0, 255],\n",
       "        [  0,   0, 255]],\n",
       "\n",
       "       [[  0, 255,   0],\n",
       "        [  0, 255,   0],\n",
       "        [  0, 255,   0],\n",
       "        ...,\n",
       "        [  0,   0, 255],\n",
       "        [  0,   0, 255],\n",
       "        [  0, 255,   0]],\n",
       "\n",
       "       [[  0, 255,   0],\n",
       "        [  0, 255,   0],\n",
       "        [  0, 255,   0],\n",
       "        ...,\n",
       "        [  0,   0, 255],\n",
       "        [  0, 255,   0],\n",
       "        [  0, 255,   0]],\n",
       "\n",
       "       ...,\n",
       "\n",
       "       [[  0, 255,   0],\n",
       "        [  0, 255,   0],\n",
       "        [  0, 255,   0],\n",
       "        ...,\n",
       "        [  0, 255,   0],\n",
       "        [  0, 255,   0],\n",
       "        [  0, 255,   0]],\n",
       "\n",
       "       [[  0, 255,   0],\n",
       "        [  0, 255,   0],\n",
       "        [  0, 255,   0],\n",
       "        ...,\n",
       "        [  0, 255,   0],\n",
       "        [  0, 255,   0],\n",
       "        [  0, 255,   0]],\n",
       "\n",
       "       [[  0, 255,   0],\n",
       "        [  0, 255,   0],\n",
       "        [  0, 255,   0],\n",
       "        ...,\n",
       "        [  0, 255,   0],\n",
       "        [  0, 255,   0],\n",
       "        [  0, 255,   0]]], dtype=uint8)"
      ]
     },
     "execution_count": 135,
     "metadata": {},
     "output_type": "execute_result"
    }
   ],
   "source": [
    "tmp_env.reset()\n",
    "tmp_env.render()"
   ]
  },
  {
   "cell_type": "code",
   "execution_count": 136,
   "metadata": {
    "colab": {
     "base_uri": "https://localhost:8080/",
     "height": 537
    },
    "id": "LAC2FRZ5PkG2",
    "outputId": "5de6f485-fa59-4391-eb13-e6030fb60ef2"
   },
   "outputs": [
    {
     "name": "stdout",
     "output_type": "stream",
     "text": [
      "Next step towards: \n",
      "Green Land class area\n",
      "0\n"
     ]
    },
    {
     "data": {
      "image/png": "[encoded data removed]",
      "text/plain": [
       "<Figure size 640x480 with 1 Axes>"
      ]
     },
     "metadata": {},
     "output_type": "display_data"
    },
    {
     "data": {
      "text/plain": [
       "array([[[  0,   0, 255],\n",
       "        [  0,   0, 255],\n",
       "        [  0,   0, 255],\n",
       "        ...,\n",
       "        [  0,   0, 255],\n",
       "        [  0,   0, 255],\n",
       "        [  0,   0, 255]],\n",
       "\n",
       "       [[  0, 255,   0],\n",
       "        [  0, 255,   0],\n",
       "        [  0, 255,   0],\n",
       "        ...,\n",
       "        [  0,   0, 255],\n",
       "        [  0,   0, 255],\n",
       "        [  0, 255,   0]],\n",
       "\n",
       "       [[  0, 255,   0],\n",
       "        [  0, 255,   0],\n",
       "        [  0, 255,   0],\n",
       "        ...,\n",
       "        [  0,   0, 255],\n",
       "        [  0, 255,   0],\n",
       "        [  0, 255,   0]],\n",
       "\n",
       "       ...,\n",
       "\n",
       "       [[  0, 255,   0],\n",
       "        [  0, 255,   0],\n",
       "        [  0, 255,   0],\n",
       "        ...,\n",
       "        [  0, 255,   0],\n",
       "        [  0, 255,   0],\n",
       "        [  0, 255,   0]],\n",
       "\n",
       "       [[  0, 255,   0],\n",
       "        [  0, 255,   0],\n",
       "        [  0, 255,   0],\n",
       "        ...,\n",
       "        [  0, 255,   0],\n",
       "        [  0, 255,   0],\n",
       "        [  0, 255,   0]],\n",
       "\n",
       "       [[  0, 255,   0],\n",
       "        [  0, 255,   0],\n",
       "        [  0, 255,   0],\n",
       "        ...,\n",
       "        [  0, 255,   0],\n",
       "        [  0, 255,   0],\n",
       "        [  0, 255,   0]]], dtype=uint8)"
      ]
     },
     "execution_count": 136,
     "metadata": {},
     "output_type": "execute_result"
    }
   ],
   "source": [
    "# select the action here\n",
    "my_action = 'right'\n",
    "\n",
    "# here is your action\n",
    "obs, rew, term, info = tmp_env.step(action_dict[my_action])\n",
    "print(rew)\n",
    "tmp_env.render()"
   ]
  },
  {
   "cell_type": "markdown",
   "metadata": {
    "id": "y1NDKIr1PkG3"
   },
   "source": [
    "### Task 1: Initialize Q table"
   ]
  },
  {
   "cell_type": "code",
   "execution_count": 137,
   "metadata": {
    "colab": {
     "base_uri": "https://localhost:8080/"
    },
    "id": "O94qG1KpPkG3",
    "outputId": "49c63cfb-e0d0-4326-b5ed-ca43fc8abef1"
   },
   "outputs": [
    {
     "name": "stdout",
     "output_type": "stream",
     "text": [
      "Observation space dimensions:  (32, 32)\n",
      "Number of possible actions: 4\n",
      "(1024, 4)\n"
     ]
    }
   ],
   "source": [
    "# Task 1: Initialize Q table\n",
    "\"\"\"\n",
    "TODO: given the environment, initialize the Q table\n",
    "\"\"\"\n",
    "\n",
    "# Tip: pay attention to the dimensions of Q table\n",
    "# Tip: how many states the table have, how many actions\n",
    "# Extra tip:\n",
    "\"\"\"number of states is different here in comparison with first example:\n",
    "we have 2 subcases for this environment:\n",
    "when Location is there and when it is removed/destroyed\"\"\"\n",
    "\n",
    "print(f\"Observation space dimensions:  {tmp_env.observation_space.shape}\")\n",
    "print(f\"Number of possible actions: {tmp_env.action_space.n}\")\n",
    "\n",
    "# YOUR CODE GOES HERE\n",
    "\n",
    "\n",
    "Q_test = np.random.uniform(low=-1, high=1, size=(tmp_env.observation_space.shape[0]*tmp_env.observation_space.shape[1], tmp_env.action_space.n))\n",
    "print(Q_test.shape)"
   ]
  },
  {
   "cell_type": "markdown",
   "metadata": {
    "id": "JB2XCe2ePkG3"
   },
   "source": [
    "### Task 2: Write necessary helper functions for Q-learning"
   ]
  },
  {
   "cell_type": "code",
   "execution_count": null,
   "metadata": {
    "id": "WEanCBRQPkG3"
   },
   "outputs": [],
   "source": [
    "# Task 2: Write necessary helper functions for Q-learning\n",
    "# Tip: just use the same helper functions you already implemented above\n",
    "\n",
    "# YOU DON'T NEED TO DO ANYTHING HERE. They are the same"
   ]
  },
  {
   "cell_type": "markdown",
   "metadata": {
    "id": "Caf0nsoiPkG3"
   },
   "source": [
    "### Task 3: Play with Hyperparameters"
   ]
  },
  {
   "cell_type": "code",
   "execution_count": 138,
   "metadata": {
    "id": "h52WTqg9PkG3"
   },
   "outputs": [],
   "source": [
    "# Task 3: Play with Hyperparameters\n",
    "# Tip - you can also use the same parameters as for the toy example above\n",
    "# YOUR CODE GOES HERE (set the values below)\n",
    "\n",
    "GAMMA_test = 0.95\n",
    "NUM_EPISODES_test = 1000\n",
    "MIN_EXPLORE_RATE_test = 0.01\n",
    "MIN_LEARNING_RATE_test = 0.1\n",
    "STEP_SIZE_TEST = 200\n",
    "# Depending on your parameters for the toy environment, using the same parameters here could work fine\n",
    "# if they are not working, you may want to set them to different values here"
   ]
  },
  {
   "cell_type": "markdown",
   "metadata": {
    "id": "qFNdPJDsPkG3"
   },
   "source": [
    "## Now use Q-learning to learn the Q table\n",
    "### Task 4: Train the agent using Q-learning"
   ]
  },
  {
   "cell_type": "code",
   "execution_count": null,
   "metadata": {
    "colab": {
     "base_uri": "https://localhost:8080/"
    },
    "id": "3S1v2HSXPkG3",
    "outputId": "d936c21a-f6ff-47d6-f81b-e1803e203e38"
   },
   "outputs": [],
   "source": [
    "# Task 4: Train the agent using Q-learning\n",
    "# Tip - you can use the same code (or function) as used for simple environment (Assignment 1 Task 4)\n",
    "\n",
    "# the logic is the same, just the enviroment is different\n",
    "# YOUR CODE GOES HERE\n",
    "\n",
    "# Task 4: Train the agent using Q-learning\n",
    "# you are free either to just write the code or create a function\n",
    "\n",
    "# result of the training is:\n",
    "#   updated Q table (Q_test)\n",
    "#   total_reward\n",
    "#   you are free to add others, if you will\n",
    "\n",
    "tmp_env.manual_mode = False # disable printouts while training\n",
    "\n",
    "\n",
    "# initialize some variables\n",
    "total_reward = 0\n",
    "\n",
    "explore_rate = update_explore_rate(0, MIN_EXPLORE_RATE=MIN_EXPLORE_RATE_test)\n",
    "learning_rate = update_learning_rate(0, MIN_LEARNING_RATE=MIN_LEARNING_RATE_test)\n",
    "\n",
    "# YOUR CODE GOES HERE\n",
    "\n",
    "# Tip: iterate over number of episodes\n",
    "for i in range(NUM_EPISODES_test):\n",
    "    tmp_env.reset()\n",
    "    state = tmp_env.get_1d_state()\n",
    "    actions = []\n",
    "    states = [state]\n",
    "    episode_rewards = 0\n",
    "    ep_done = False\n",
    "\n",
    "    # Step through the episode\n",
    "    for step in range(STEP_SIZE_TEST):\n",
    "        # Select action using current policy\n",
    "        action = update_action(tmp_env, state, explore_rate, Q_test)\n",
    "        new_state, reward, done, info = tmp_env.step(action)\n",
    "        \n",
    "        ns = tmp_env.get_1d_state()\n",
    "        if state == ns:\n",
    "            reward = -10\n",
    "\n",
    "        if reward == 9000 or reward == 200:\n",
    "            ep_done = True\n",
    "\n",
    "        reward -= 1 \n",
    "    \n",
    "\n",
    "        # Update Q-value for the current state-action pair\n",
    "        Q_test[state, action] = (1 - learning_rate) * Q_test[state, action] + learning_rate * (\n",
    "            reward + GAMMA_test * np.max(Q_test[new_state]) - Q_test[state, action]\n",
    "        )\n",
    "\n",
    "        # Accumulate total reward\n",
    "        episode_rewards += reward\n",
    "\n",
    "        # Update state and track progress\n",
    "        state = tmp_env.get_1d_state()\n",
    "        if done:\n",
    "            break\n",
    "\n",
    "    # Update exploration and learning rates after the episode\n",
    "    total_reward += episode_rewards\n",
    "    explore_rate = update_explore_rate(i, MIN_EXPLORE_RATE_test)\n",
    "    learning_rate = update_learning_rate(i, MIN_LEARNING_RATE_test)\n",
    "\n",
    "    # Print variables of interest\n",
    "    print(f\"Episode: {i}, Total Reward: {episode_rewards}, Explore Rate: {explore_rate}, Learning Rate: {learning_rate}\")\n",
    "\n",
    "# print(\"Final Q values: \", Q_test)\n"
   ]
  },
  {
   "cell_type": "code",
   "execution_count": null,
   "metadata": {
    "colab": {
     "base_uri": "https://localhost:8080/"
    },
    "id": "2S7gcosOPkG4",
    "outputId": "8db9f232-beb1-452f-c3aa-aa0b6a408312"
   },
   "outputs": [],
   "source": [
    "print(f\"Total reward after training: {total_reward}, total Explore rate after training: {explore_rate}\")"
   ]
  },
  {
   "cell_type": "markdown",
   "metadata": {
    "id": "hahegZZqPkG4"
   },
   "source": [
    "## Let's see one episode"
   ]
  },
  {
   "cell_type": "code",
   "execution_count": null,
   "metadata": {
    "colab": {
     "base_uri": "https://localhost:8080/",
     "height": 1000
    },
    "id": "U0DTHl47PkG4",
    "outputId": "b2ce72c2-8764-4789-c8ae-1affba0df223",
    "scrolled": false
   },
   "outputs": [],
   "source": [
    "#now we can show one episode\n",
    "\n",
    "tmp_env.manual_mode = True # we want to see the messages\n",
    "STEP_SIZE_TEST_test = 44\n",
    "\n",
    "image_samples = []  # Array to store images\n",
    "\n",
    "observation = tmp_env.reset()\n",
    "state_0 = tmp_env.get_1d_state()\n",
    "total_reward = 0\n",
    "\n",
    "for _ in range(STEP_SIZE_TEST_test):\n",
    "    img = tmp_env.render()\n",
    "    image_samples.append(img)\n",
    "\n",
    "    action = update_action(tmp_env, state_0, explore_rate, Q=Q_test)\n",
    "    obv, reward, done, info = tmp_env.step(action)\n",
    "    state_1 = tmp_env.get_1d_state()\n",
    "    state_0 = state_1\n",
    "\n",
    "    total_reward += reward\n",
    "\n",
    "print(f\"Total_reward: \", total_reward)\n",
    "# self.observation.shape[0]"
   ]
  },
  {
   "cell_type": "markdown",
   "metadata": {},
   "source": [
    "### Simple animation of agent movement in one episode"
   ]
  },
  {
   "cell_type": "code",
   "execution_count": null,
   "metadata": {
    "colab": {
     "base_uri": "https://localhost:8080/",
     "height": 430
    },
    "id": "xzKx98oDPkG4",
    "outputId": "8a3c14c3-5902-4644-8e4d-eb875a985f2d"
   },
   "outputs": [],
   "source": [
    "# let's make an animation of this, because it's fun\n",
    "# nothing for you to do here - just run the code\n",
    "\n",
    "import os\n",
    "import matplotlib.animation as animation\n",
    "\n",
    "height = img.shape[0]\n",
    "width = img.shape[1]\n",
    "\n",
    "output_folder = 'output_stuff'\n",
    "if not os.path.exists(output_folder):\n",
    "    os.makedirs(output_folder)\n",
    "\n",
    "\n",
    "fig = plt.figure()\n",
    "imgs = []\n",
    "for i in range(STEP_SIZE_TEST_test):\n",
    "    im = plt.imshow(image_samples[i].reshape(height, width, 3), animated=True)\n",
    "    imgs.append([im])\n",
    "\n",
    "animate = animation.ArtistAnimation(fig, imgs, interval=80, blit=True, repeat_delay=1000)\n",
    "filename_gif = os.path.join(output_folder, 'animation_test.gif')\n",
    "animate.save(filename_gif)\n",
    "plt.show()"
   ]
  }
 ],
 "metadata": {
  "colab": {
   "provenance": []
  },
  "kernelspec": {
   "display_name": ".venv",
   "language": "python",
   "name": "python3"
  },
  "language_info": {
   "codemirror_mode": {
    "name": "ipython",
    "version": 3
   },
   "file_extension": ".py",
   "mimetype": "text/x-python",
   "name": "python",
   "nbconvert_exporter": "python",
   "pygments_lexer": "ipython3",
   "version": "3.12.2"
  }
 },
 "nbformat": 4,
 "nbformat_minor": 1
}
